{
  "nbformat": 4,
  "nbformat_minor": 0,
  "metadata": {
    "colab": {
      "provenance": []
    },
    "kernelspec": {
      "name": "python3",
      "display_name": "Python 3"
    },
    "language_info": {
      "name": "python"
    }
  },
  "cells": [
    {
      "cell_type": "code",
      "execution_count": 1,
      "metadata": {
        "colab": {
          "base_uri": "https://localhost:8080/"
        },
        "id": "MJoJNe9YoJ7c",
        "outputId": "e1536722-9d90-499f-ff80-0894915a0aa3"
      },
      "outputs": [
        {
          "output_type": "stream",
          "name": "stdout",
          "text": [
            "Collecting dotenv\n",
            "  Downloading dotenv-0.9.9-py2.py3-none-any.whl.metadata (279 bytes)\n",
            "Collecting python-dotenv (from dotenv)\n",
            "  Downloading python_dotenv-1.1.1-py3-none-any.whl.metadata (24 kB)\n",
            "Downloading dotenv-0.9.9-py2.py3-none-any.whl (1.9 kB)\n",
            "Downloading python_dotenv-1.1.1-py3-none-any.whl (20 kB)\n",
            "Installing collected packages: python-dotenv, dotenv\n",
            "Successfully installed dotenv-0.9.9 python-dotenv-1.1.1\n"
          ]
        }
      ],
      "source": [
        "!pip install dotenv"
      ]
    },
    {
      "cell_type": "markdown",
      "source": [
        "# For IPYNB Output"
      ],
      "metadata": {
        "id": "_S22N4BhYqMN"
      }
    },
    {
      "cell_type": "code",
      "source": [
        "import gradio as gr\n",
        "import os\n",
        "from datetime import datetime\n",
        "import json\n",
        "import traceback\n",
        "from openai import OpenAI\n",
        "\n",
        "# Setup OpenAI client\n",
        "openai = OpenAI(api_key=\"\")# Your API key\n",
        "\n",
        "system_doc = \"You are a Python expert who documents code with clear docstrings and inline comments.\"\n",
        "\n",
        "def prompt_for_doc(code):\n",
        "    return f\"Add docstrings and inline comments to this code:\\n\\n{code}\"\n",
        "\n",
        "def messages_for_doc(code):\n",
        "    return [\n",
        "        {\"role\": \"system\", \"content\": system_doc},\n",
        "        {\"role\": \"user\", \"content\": prompt_for_doc(code)},\n",
        "    ]\n",
        "\n",
        "def generate_documentation(code):\n",
        "    messages = messages_for_doc(code)\n",
        "    documented_code = \"\"\n",
        "    stream = openai.chat.completions.create(\n",
        "        model=\"gpt-4o\",\n",
        "        messages=messages,\n",
        "        stream=True\n",
        "    )\n",
        "    for chunk in stream:\n",
        "        documented_code += chunk.choices[0].delta.content or \"\"\n",
        "    return documented_code\n",
        "\n",
        "def convert_to_notebook(doc_code):\n",
        "    \"\"\"Wrap documented Python code into a single Jupyter code cell.\"\"\"\n",
        "    return {\n",
        "        \"cells\": [\n",
        "            {\n",
        "                \"cell_type\": \"code\",\n",
        "                \"execution_count\": None,\n",
        "                \"metadata\": {},\n",
        "                \"outputs\": [],\n",
        "                \"source\": doc_code.splitlines(keepends=True)\n",
        "            }\n",
        "        ],\n",
        "        \"metadata\": {\n",
        "            \"kernelspec\": {\n",
        "                \"display_name\": \"Python 3\",\n",
        "                \"language\": \"python\",\n",
        "                \"name\": \"python3\"\n",
        "            },\n",
        "            \"language_info\": {\n",
        "                \"name\": \"python\",\n",
        "                \"pygments_lexer\": \"ipython3\"\n",
        "            }\n",
        "        },\n",
        "        \"nbformat\": 4,\n",
        "        \"nbformat_minor\": 5\n",
        "    }\n",
        "\n",
        "def process_file(file):\n",
        "    try:\n",
        "        # Get filename and extension\n",
        "        filepath = file.name\n",
        "        ext = os.path.splitext(filepath)[-1]\n",
        "\n",
        "        with open(filepath, 'r', encoding='utf-8') as f:\n",
        "            content = f.read()\n",
        "\n",
        "        # Extract code depending on file type\n",
        "        if ext == \".ipynb\":\n",
        "            nb_json = json.loads(content)\n",
        "            code_cells = [\n",
        "                cell[\"source\"] for cell in nb_json.get(\"cells\", []) if cell.get(\"cell_type\") == \"code\"\n",
        "            ]\n",
        "            code = \"\\n\\n\".join([\"\".join(cell) for cell in code_cells])\n",
        "        elif ext == \".py\":\n",
        "            code = content\n",
        "        else:\n",
        "            return None, \"❌ Unsupported file type. Please upload a .py or .ipynb file.\"\n",
        "\n",
        "        # Generate documentation\n",
        "        documented_code = generate_documentation(code)\n",
        "\n",
        "        # Convert documented code into notebook format\n",
        "        nb_data = convert_to_notebook(documented_code)\n",
        "\n",
        "        # Save notebook\n",
        "        timestamp = datetime.now().strftime(\"%Y%m%d_%H%M%S\")\n",
        "        output_path = f\"documented_code_{timestamp}.ipynb\"\n",
        "        with open(output_path, 'w', encoding='utf-8') as f:\n",
        "            json.dump(nb_data, f, indent=2)\n",
        "\n",
        "        return output_path, \"✅ Successfully documented and exported as .ipynb\"\n",
        "\n",
        "    except Exception as e:\n",
        "        error_text = traceback.format_exc()\n",
        "        return None, f\"❌ An error occurred:\\n\\n{error_text}\"\n",
        "\n",
        "\n",
        "# Gradio Interface\n",
        "ui = gr.Interface(\n",
        "    fn=process_file,\n",
        "    inputs=gr.File(label=\"Upload .py or .ipynb file\"),\n",
        "    outputs=[\n",
        "        gr.File(label=\"Download documented .ipynb file\"),\n",
        "        gr.Textbox(label=\"Process Output / Error Message\")\n",
        "    ],\n",
        "    title=\"📓 Auto Code Documenter (.ipynb)\",\n",
        "    description=\"Upload a Python or Notebook file. It will return a Jupyter Notebook with docstrings and comments using GPT-4o.\"\n",
        ")\n",
        "\n",
        "ui.launch()\n"
      ],
      "metadata": {
        "colab": {
          "base_uri": "https://localhost:8080/",
          "height": 646
        },
        "id": "uhEHLGUEP9zU",
        "outputId": "8cd73ccf-42da-4a90-f414-2d1b04123ab7"
      },
      "execution_count": 2,
      "outputs": [
        {
          "output_type": "stream",
          "name": "stdout",
          "text": [
            "It looks like you are running Gradio on a hosted a Jupyter notebook. For the Gradio app to work, sharing must be enabled. Automatically setting `share=True` (you can turn this off by setting `share=False` in `launch()` explicitly).\n",
            "\n",
            "Colab notebook detected. To show errors in colab notebook, set debug=True in launch()\n",
            "* Running on public URL: https://c67a9423a138605d29.gradio.live\n",
            "\n",
            "This share link expires in 1 week. For free permanent hosting and GPU upgrades, run `gradio deploy` from the terminal in the working directory to deploy to Hugging Face Spaces (https://huggingface.co/spaces)\n"
          ]
        },
        {
          "output_type": "display_data",
          "data": {
            "text/plain": [
              "<IPython.core.display.HTML object>"
            ],
            "text/html": [
              "<div><iframe src=\"https://c67a9423a138605d29.gradio.live\" width=\"100%\" height=\"500\" allow=\"autoplay; camera; microphone; clipboard-read; clipboard-write;\" frameborder=\"0\" allowfullscreen></iframe></div>"
            ]
          },
          "metadata": {}
        },
        {
          "output_type": "execute_result",
          "data": {
            "text/plain": []
          },
          "metadata": {},
          "execution_count": 2
        }
      ]
    },
    {
      "cell_type": "markdown",
      "source": [
        "# For PY Output"
      ],
      "metadata": {
        "id": "4SZd_ZS9ZCuu"
      }
    },
    {
      "cell_type": "code",
      "source": [
        "import gradio as gr\n",
        "import os\n",
        "from datetime import datetime\n",
        "import json\n",
        "import traceback\n",
        "from openai import OpenAI\n",
        "\n",
        "# Setup OpenAI client\n",
        "openai = OpenAI(api_key=\"\") # Your api key\n",
        "\n",
        "system_doc = \"You are a Python expert who documents code with clear docstrings and inline comments.\"\n",
        "\n",
        "def prompt_for_doc(code):\n",
        "    return f\"Add docstrings and inline comments to this code:\\n\\n{code}\"\n",
        "\n",
        "def messages_for_doc(code):\n",
        "    return [\n",
        "        {\"role\": \"system\", \"content\": system_doc},\n",
        "        {\"role\": \"user\", \"content\": prompt_for_doc(code)},\n",
        "    ]\n",
        "\n",
        "def generate_documentation(code):\n",
        "    messages = messages_for_doc(code)\n",
        "    documented_code = \"\"\n",
        "    stream = openai.chat.completions.create(\n",
        "        model=\"gpt-4o\",\n",
        "        messages=messages,\n",
        "        stream=True\n",
        "    )\n",
        "    for chunk in stream:\n",
        "        documented_code += chunk.choices[0].delta.content or \"\"\n",
        "    return documented_code\n",
        "\n",
        "def process_file(file):\n",
        "    try:\n",
        "        # Get filename and extension\n",
        "        filepath = file.name\n",
        "        ext = os.path.splitext(filepath)[-1]\n",
        "\n",
        "        # Read file content from the path directly\n",
        "        with open(filepath, 'r', encoding='utf-8') as f:\n",
        "            content = f.read()\n",
        "\n",
        "        # Extract code depending on file type\n",
        "        if ext == \".ipynb\":\n",
        "            nb_json = json.loads(content)\n",
        "            code_cells = [\n",
        "                cell[\"source\"] for cell in nb_json.get(\"cells\", []) if cell.get(\"cell_type\") == \"code\"\n",
        "            ]\n",
        "            code = \"\\n\\n\".join([\"\".join(cell) for cell in code_cells])\n",
        "        elif ext == \".py\":\n",
        "            code = content\n",
        "        else:\n",
        "            return None, \"❌ Unsupported file type. Please upload a .py or .ipynb file.\"\n",
        "\n",
        "        # Generate documentation\n",
        "        documented_code = generate_documentation(code)\n",
        "\n",
        "        # Save to new file\n",
        "        # Save to new file\n",
        "        timestamp = datetime.now().strftime(\"%Y%m%d_%H%M%S\")\n",
        "        output_path = f\"documented_code_{timestamp}.py\"  # Save in local directory\n",
        "        with open(output_path, 'w', encoding='utf-8') as f:\n",
        "            f.write(documented_code)\n",
        "\n",
        "\n",
        "        return output_path, \"✅ Successfully documented the code.\"\n",
        "\n",
        "    except Exception as e:\n",
        "        error_text = traceback.format_exc()\n",
        "        return None, f\"❌ An error occurred:\\n\\n{error_text}\"\n",
        "\n",
        "\n",
        "# Gradio Interface\n",
        "ui = gr.Interface(\n",
        "    fn=process_file,\n",
        "    inputs=gr.File(label=\"Upload .py or .ipynb file\"),\n",
        "    outputs=[\n",
        "        gr.File(label=\"Download documented .py file\"),\n",
        "        gr.Textbox(label=\"Process Output / Error Message\")\n",
        "    ],\n",
        "    title=\"📄 Auto Code Documenter\",\n",
        "    description=\"Upload a Python or Notebook file. It will return the version with docstrings and comments using GPT-4o.\"\n",
        ")\n",
        "\n",
        "ui.launch()\n"
      ],
      "metadata": {
        "colab": {
          "base_uri": "https://localhost:8080/",
          "height": 646
        },
        "id": "_nUtp0eIIgSu",
        "outputId": "314d5420-8f90-4ce9-cdf9-3580358f1408"
      },
      "execution_count": 3,
      "outputs": [
        {
          "output_type": "stream",
          "name": "stdout",
          "text": [
            "It looks like you are running Gradio on a hosted a Jupyter notebook. For the Gradio app to work, sharing must be enabled. Automatically setting `share=True` (you can turn this off by setting `share=False` in `launch()` explicitly).\n",
            "\n",
            "Colab notebook detected. To show errors in colab notebook, set debug=True in launch()\n",
            "* Running on public URL: https://0d617e975954c55a27.gradio.live\n",
            "\n",
            "This share link expires in 1 week. For free permanent hosting and GPU upgrades, run `gradio deploy` from the terminal in the working directory to deploy to Hugging Face Spaces (https://huggingface.co/spaces)\n"
          ]
        },
        {
          "output_type": "display_data",
          "data": {
            "text/plain": [
              "<IPython.core.display.HTML object>"
            ],
            "text/html": [
              "<div><iframe src=\"https://0d617e975954c55a27.gradio.live\" width=\"100%\" height=\"500\" allow=\"autoplay; camera; microphone; clipboard-read; clipboard-write;\" frameborder=\"0\" allowfullscreen></iframe></div>"
            ]
          },
          "metadata": {}
        },
        {
          "output_type": "execute_result",
          "data": {
            "text/plain": []
          },
          "metadata": {},
          "execution_count": 3
        }
      ]
    },
    {
      "cell_type": "code",
      "source": [],
      "metadata": {
        "id": "xtUjwwgsWfCv"
      },
      "execution_count": 3,
      "outputs": []
    }
  ]
}