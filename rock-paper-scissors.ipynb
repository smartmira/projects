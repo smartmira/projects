{
 "cells": [
  {
   "cell_type": "code",
   "execution_count": 1,
   "id": "ff7932f8-f242-4b91-ae70-4bb126c3036a",
   "metadata": {},
   "outputs": [],
   "source": [
    "import random\n",
    "\n",
    "\n",
    "def game_options():\n",
    "    options = ['rock', 'paper', 'scissos']\n",
    "    return random.choice(options)\n",
    "\n",
    "\n",
    "def players_choice():\n",
    "    while True:\n",
    "        option = input(\"pick an option (rock, paper, or scissors): \").lower()\n",
    "        if option in ['rock', 'paper', 'scissors']:\n",
    "            return option\n",
    "        print('invalid choice. please choose \"rock\", \"paper\", or \"scissors\".')"
   ]
  },
  {
   "cell_type": "code",
   "execution_count": 2,
   "id": "e8e25751-1685-40b7-93a7-2a54125b2042",
   "metadata": {},
   "outputs": [],
   "source": [
    "def determine_winner(user_choice, computer_choice):\n",
    "    if user_choice == computer_choice:\n",
    "        return \"it's a tie!\"\n",
    "    elif (user_choice == 'rock' and computer_choice == 'scissors') or \\\n",
    "         (user_choice == 'scissors' and computer_choice == 'paper') or \\\n",
    "         (user_choice == 'paper' and computer_choice == 'rock'):\n",
    "        return \"You win!\"\n",
    "    else:\n",
    "        return \"computer wins!\""
   ]
  },
  {
   "cell_type": "code",
   "execution_count": null,
   "id": "575dc14d-1bc7-4804-a934-b7fd92a179cd",
   "metadata": {},
   "outputs": [
    {
     "name": "stdout",
     "output_type": "stream",
     "text": [
      "welcome to Rock, Paper, Scissors!\n"
     ]
    }
   ],
   "source": [
    "def lets_play():\n",
    "    print(\"welcome to Rock, Paper, Scissors!\")\n",
    "    user_choice = players_choice()\n",
    "    computer_choice = game_options()\n",
    "    print(f\"\\nYou chose: {user_choice}\")\n",
    "    print(f\"Computer chose: {computer_choice}\")\n",
    "    result = determine_winner(user_choice, computer_choice)\n",
    "    print(f\"\\n{result}\")\n",
    "\n",
    "\n",
    "if __name__ == \"__main__\":\n",
    "    lets_play()"
   ]
  },
  {
   "cell_type": "code",
   "execution_count": null,
   "id": "7421aec6-dca3-4ba9-841e-3dd41cc275a5",
   "metadata": {},
   "outputs": [],
   "source": []
  }
 ],
 "metadata": {
  "kernelspec": {
   "display_name": "Python 3 (ipykernel)",
   "language": "python",
   "name": "python3"
  },
  "language_info": {
   "codemirror_mode": {
    "name": "ipython",
    "version": 3
   },
   "file_extension": ".py",
   "mimetype": "text/x-python",
   "name": "python",
   "nbconvert_exporter": "python",
   "pygments_lexer": "ipython3",
   "version": "3.12.4"
  }
 },
 "nbformat": 4,
 "nbformat_minor": 5
}
