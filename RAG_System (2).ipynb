{
 "cells": [
  {
   "cell_type": "code",
   "execution_count": 19,
   "id": "b7bfd276-e747-4155-b710-f65ee1f6fcbb",
   "metadata": {},
   "outputs": [],
   "source": [
    "# Import necessary libraries and modules for handling environment variables, file operations, and various APIs\n",
    "import os\n",
    "import glob\n",
    "from dotenv import load_dotenv\n",
    "import gradio as gr"
   ]
  },
  {
   "cell_type": "code",
   "execution_count": 20,
   "id": "48dd2304-3026-49b8-bb3c-9adda5dc7ef2",
   "metadata": {},
   "outputs": [
    {
     "name": "stdout",
     "output_type": "stream",
     "text": [
      "Requirement already satisfied: langchain in c:\\users\\user\\miniconda3\\envs\\ml_jobs\\lib\\site-packages (0.3.26)\n",
      "Requirement already satisfied: langchain-core<1.0.0,>=0.3.66 in c:\\users\\user\\miniconda3\\envs\\ml_jobs\\lib\\site-packages (from langchain) (0.3.68)\n",
      "Requirement already satisfied: langchain-text-splitters<1.0.0,>=0.3.8 in c:\\users\\user\\miniconda3\\envs\\ml_jobs\\lib\\site-packages (from langchain) (0.3.8)\n",
      "Requirement already satisfied: langsmith>=0.1.17 in c:\\users\\user\\miniconda3\\envs\\ml_jobs\\lib\\site-packages (from langchain) (0.4.5)\n",
      "Requirement already satisfied: pydantic<3.0.0,>=2.7.4 in c:\\users\\user\\miniconda3\\envs\\ml_jobs\\lib\\site-packages (from langchain) (2.10.6)\n",
      "Requirement already satisfied: SQLAlchemy<3,>=1.4 in c:\\users\\user\\miniconda3\\envs\\ml_jobs\\lib\\site-packages (from langchain) (2.0.41)\n",
      "Requirement already satisfied: requests<3,>=2 in c:\\users\\user\\miniconda3\\envs\\ml_jobs\\lib\\site-packages (from langchain) (2.32.3)\n",
      "Requirement already satisfied: PyYAML>=5.3 in c:\\users\\user\\miniconda3\\envs\\ml_jobs\\lib\\site-packages (from langchain) (6.0.2)\n",
      "Requirement already satisfied: tenacity!=8.4.0,<10.0.0,>=8.1.0 in c:\\users\\user\\miniconda3\\envs\\ml_jobs\\lib\\site-packages (from langchain-core<1.0.0,>=0.3.66->langchain) (9.0.0)\n",
      "Requirement already satisfied: jsonpatch<2.0,>=1.33 in c:\\users\\user\\miniconda3\\envs\\ml_jobs\\lib\\site-packages (from langchain-core<1.0.0,>=0.3.66->langchain) (1.33)\n",
      "Requirement already satisfied: packaging<25,>=23.2 in c:\\users\\user\\miniconda3\\envs\\ml_jobs\\lib\\site-packages (from langchain-core<1.0.0,>=0.3.66->langchain) (24.1)\n",
      "Requirement already satisfied: typing-extensions>=4.7 in c:\\users\\user\\miniconda3\\envs\\ml_jobs\\lib\\site-packages (from langchain-core<1.0.0,>=0.3.66->langchain) (4.12.2)\n",
      "Requirement already satisfied: httpx<1,>=0.23.0 in c:\\users\\user\\miniconda3\\envs\\ml_jobs\\lib\\site-packages (from langsmith>=0.1.17->langchain) (0.27.0)\n",
      "Requirement already satisfied: orjson<4.0.0,>=3.9.14 in c:\\users\\user\\miniconda3\\envs\\ml_jobs\\lib\\site-packages (from langsmith>=0.1.17->langchain) (3.10.18)\n",
      "Requirement already satisfied: requests-toolbelt<2.0.0,>=1.0.0 in c:\\users\\user\\miniconda3\\envs\\ml_jobs\\lib\\site-packages (from langsmith>=0.1.17->langchain) (1.0.0)\n",
      "Requirement already satisfied: zstandard<0.24.0,>=0.23.0 in c:\\users\\user\\miniconda3\\envs\\ml_jobs\\lib\\site-packages (from langsmith>=0.1.17->langchain) (0.23.0)\n",
      "Requirement already satisfied: annotated-types>=0.6.0 in c:\\users\\user\\miniconda3\\envs\\ml_jobs\\lib\\site-packages (from pydantic<3.0.0,>=2.7.4->langchain) (0.7.0)\n",
      "Requirement already satisfied: pydantic-core==2.27.2 in c:\\users\\user\\miniconda3\\envs\\ml_jobs\\lib\\site-packages (from pydantic<3.0.0,>=2.7.4->langchain) (2.27.2)\n",
      "Requirement already satisfied: charset-normalizer<4,>=2 in c:\\users\\user\\miniconda3\\envs\\ml_jobs\\lib\\site-packages (from requests<3,>=2->langchain) (3.3.2)\n",
      "Requirement already satisfied: idna<4,>=2.5 in c:\\users\\user\\miniconda3\\envs\\ml_jobs\\lib\\site-packages (from requests<3,>=2->langchain) (3.7)\n",
      "Requirement already satisfied: urllib3<3,>=1.21.1 in c:\\users\\user\\miniconda3\\envs\\ml_jobs\\lib\\site-packages (from requests<3,>=2->langchain) (2.2.3)\n",
      "Requirement already satisfied: certifi>=2017.4.17 in c:\\users\\user\\miniconda3\\envs\\ml_jobs\\lib\\site-packages (from requests<3,>=2->langchain) (2024.8.30)\n",
      "Requirement already satisfied: greenlet>=1 in c:\\users\\user\\miniconda3\\envs\\ml_jobs\\lib\\site-packages (from SQLAlchemy<3,>=1.4->langchain) (3.2.3)\n",
      "Requirement already satisfied: anyio in c:\\users\\user\\miniconda3\\envs\\ml_jobs\\lib\\site-packages (from httpx<1,>=0.23.0->langsmith>=0.1.17->langchain) (4.6.2)\n",
      "Requirement already satisfied: httpcore==1.* in c:\\users\\user\\miniconda3\\envs\\ml_jobs\\lib\\site-packages (from httpx<1,>=0.23.0->langsmith>=0.1.17->langchain) (1.0.2)\n",
      "Requirement already satisfied: sniffio in c:\\users\\user\\miniconda3\\envs\\ml_jobs\\lib\\site-packages (from httpx<1,>=0.23.0->langsmith>=0.1.17->langchain) (1.3.0)\n",
      "Requirement already satisfied: h11<0.15,>=0.13 in c:\\users\\user\\miniconda3\\envs\\ml_jobs\\lib\\site-packages (from httpcore==1.*->httpx<1,>=0.23.0->langsmith>=0.1.17->langchain) (0.14.0)\n",
      "Requirement already satisfied: jsonpointer>=1.9 in c:\\users\\user\\miniconda3\\envs\\ml_jobs\\lib\\site-packages (from jsonpatch<2.0,>=1.33->langchain-core<1.0.0,>=0.3.66->langchain) (3.0.0)\n",
      "Requirement already satisfied: langchain-community in c:\\users\\user\\miniconda3\\envs\\ml_jobs\\lib\\site-packages (0.3.27)\n",
      "Requirement already satisfied: langchain-core<1.0.0,>=0.3.66 in c:\\users\\user\\miniconda3\\envs\\ml_jobs\\lib\\site-packages (from langchain-community) (0.3.68)\n",
      "Requirement already satisfied: langchain<1.0.0,>=0.3.26 in c:\\users\\user\\miniconda3\\envs\\ml_jobs\\lib\\site-packages (from langchain-community) (0.3.26)\n",
      "Requirement already satisfied: SQLAlchemy<3,>=1.4 in c:\\users\\user\\miniconda3\\envs\\ml_jobs\\lib\\site-packages (from langchain-community) (2.0.41)\n",
      "Requirement already satisfied: requests<3,>=2 in c:\\users\\user\\miniconda3\\envs\\ml_jobs\\lib\\site-packages (from langchain-community) (2.32.3)\n",
      "Requirement already satisfied: PyYAML>=5.3 in c:\\users\\user\\miniconda3\\envs\\ml_jobs\\lib\\site-packages (from langchain-community) (6.0.2)\n",
      "Requirement already satisfied: aiohttp<4.0.0,>=3.8.3 in c:\\users\\user\\miniconda3\\envs\\ml_jobs\\lib\\site-packages (from langchain-community) (3.12.14)\n",
      "Requirement already satisfied: tenacity!=8.4.0,<10,>=8.1.0 in c:\\users\\user\\miniconda3\\envs\\ml_jobs\\lib\\site-packages (from langchain-community) (9.0.0)\n",
      "Requirement already satisfied: dataclasses-json<0.7,>=0.5.7 in c:\\users\\user\\miniconda3\\envs\\ml_jobs\\lib\\site-packages (from langchain-community) (0.6.7)\n",
      "Requirement already satisfied: pydantic-settings<3.0.0,>=2.4.0 in c:\\users\\user\\miniconda3\\envs\\ml_jobs\\lib\\site-packages (from langchain-community) (2.10.1)\n",
      "Requirement already satisfied: langsmith>=0.1.125 in c:\\users\\user\\miniconda3\\envs\\ml_jobs\\lib\\site-packages (from langchain-community) (0.4.5)\n",
      "Requirement already satisfied: httpx-sse<1.0.0,>=0.4.0 in c:\\users\\user\\miniconda3\\envs\\ml_jobs\\lib\\site-packages (from langchain-community) (0.4.1)\n",
      "Requirement already satisfied: numpy>=1.26.2 in c:\\users\\user\\miniconda3\\envs\\ml_jobs\\lib\\site-packages (from langchain-community) (1.26.4)\n",
      "Requirement already satisfied: aiohappyeyeballs>=2.5.0 in c:\\users\\user\\miniconda3\\envs\\ml_jobs\\lib\\site-packages (from aiohttp<4.0.0,>=3.8.3->langchain-community) (2.6.1)\n",
      "Requirement already satisfied: aiosignal>=1.4.0 in c:\\users\\user\\miniconda3\\envs\\ml_jobs\\lib\\site-packages (from aiohttp<4.0.0,>=3.8.3->langchain-community) (1.4.0)\n",
      "Requirement already satisfied: attrs>=17.3.0 in c:\\users\\user\\miniconda3\\envs\\ml_jobs\\lib\\site-packages (from aiohttp<4.0.0,>=3.8.3->langchain-community) (24.2.0)\n",
      "Requirement already satisfied: frozenlist>=1.1.1 in c:\\users\\user\\miniconda3\\envs\\ml_jobs\\lib\\site-packages (from aiohttp<4.0.0,>=3.8.3->langchain-community) (1.7.0)\n",
      "Requirement already satisfied: multidict<7.0,>=4.5 in c:\\users\\user\\miniconda3\\envs\\ml_jobs\\lib\\site-packages (from aiohttp<4.0.0,>=3.8.3->langchain-community) (6.6.3)\n",
      "Requirement already satisfied: propcache>=0.2.0 in c:\\users\\user\\miniconda3\\envs\\ml_jobs\\lib\\site-packages (from aiohttp<4.0.0,>=3.8.3->langchain-community) (0.3.2)\n",
      "Requirement already satisfied: yarl<2.0,>=1.17.0 in c:\\users\\user\\miniconda3\\envs\\ml_jobs\\lib\\site-packages (from aiohttp<4.0.0,>=3.8.3->langchain-community) (1.20.1)\n",
      "Requirement already satisfied: marshmallow<4.0.0,>=3.18.0 in c:\\users\\user\\miniconda3\\envs\\ml_jobs\\lib\\site-packages (from dataclasses-json<0.7,>=0.5.7->langchain-community) (3.26.1)\n",
      "Requirement already satisfied: typing-inspect<1,>=0.4.0 in c:\\users\\user\\miniconda3\\envs\\ml_jobs\\lib\\site-packages (from dataclasses-json<0.7,>=0.5.7->langchain-community) (0.9.0)\n",
      "Requirement already satisfied: langchain-text-splitters<1.0.0,>=0.3.8 in c:\\users\\user\\miniconda3\\envs\\ml_jobs\\lib\\site-packages (from langchain<1.0.0,>=0.3.26->langchain-community) (0.3.8)\n",
      "Requirement already satisfied: pydantic<3.0.0,>=2.7.4 in c:\\users\\user\\miniconda3\\envs\\ml_jobs\\lib\\site-packages (from langchain<1.0.0,>=0.3.26->langchain-community) (2.10.6)\n",
      "Requirement already satisfied: jsonpatch<2.0,>=1.33 in c:\\users\\user\\miniconda3\\envs\\ml_jobs\\lib\\site-packages (from langchain-core<1.0.0,>=0.3.66->langchain-community) (1.33)\n",
      "Requirement already satisfied: packaging<25,>=23.2 in c:\\users\\user\\miniconda3\\envs\\ml_jobs\\lib\\site-packages (from langchain-core<1.0.0,>=0.3.66->langchain-community) (24.1)\n",
      "Requirement already satisfied: typing-extensions>=4.7 in c:\\users\\user\\miniconda3\\envs\\ml_jobs\\lib\\site-packages (from langchain-core<1.0.0,>=0.3.66->langchain-community) (4.12.2)\n",
      "Requirement already satisfied: httpx<1,>=0.23.0 in c:\\users\\user\\miniconda3\\envs\\ml_jobs\\lib\\site-packages (from langsmith>=0.1.125->langchain-community) (0.27.0)\n",
      "Requirement already satisfied: orjson<4.0.0,>=3.9.14 in c:\\users\\user\\miniconda3\\envs\\ml_jobs\\lib\\site-packages (from langsmith>=0.1.125->langchain-community) (3.10.18)\n",
      "Requirement already satisfied: requests-toolbelt<2.0.0,>=1.0.0 in c:\\users\\user\\miniconda3\\envs\\ml_jobs\\lib\\site-packages (from langsmith>=0.1.125->langchain-community) (1.0.0)\n",
      "Requirement already satisfied: zstandard<0.24.0,>=0.23.0 in c:\\users\\user\\miniconda3\\envs\\ml_jobs\\lib\\site-packages (from langsmith>=0.1.125->langchain-community) (0.23.0)\n",
      "Requirement already satisfied: python-dotenv>=0.21.0 in c:\\users\\user\\miniconda3\\envs\\ml_jobs\\lib\\site-packages (from pydantic-settings<3.0.0,>=2.4.0->langchain-community) (1.1.0)\n",
      "Requirement already satisfied: typing-inspection>=0.4.0 in c:\\users\\user\\miniconda3\\envs\\ml_jobs\\lib\\site-packages (from pydantic-settings<3.0.0,>=2.4.0->langchain-community) (0.4.1)\n",
      "Requirement already satisfied: charset-normalizer<4,>=2 in c:\\users\\user\\miniconda3\\envs\\ml_jobs\\lib\\site-packages (from requests<3,>=2->langchain-community) (3.3.2)\n",
      "Requirement already satisfied: idna<4,>=2.5 in c:\\users\\user\\miniconda3\\envs\\ml_jobs\\lib\\site-packages (from requests<3,>=2->langchain-community) (3.7)\n",
      "Requirement already satisfied: urllib3<3,>=1.21.1 in c:\\users\\user\\miniconda3\\envs\\ml_jobs\\lib\\site-packages (from requests<3,>=2->langchain-community) (2.2.3)\n",
      "Requirement already satisfied: certifi>=2017.4.17 in c:\\users\\user\\miniconda3\\envs\\ml_jobs\\lib\\site-packages (from requests<3,>=2->langchain-community) (2024.8.30)\n",
      "Requirement already satisfied: greenlet>=1 in c:\\users\\user\\miniconda3\\envs\\ml_jobs\\lib\\site-packages (from SQLAlchemy<3,>=1.4->langchain-community) (3.2.3)\n",
      "Requirement already satisfied: anyio in c:\\users\\user\\miniconda3\\envs\\ml_jobs\\lib\\site-packages (from httpx<1,>=0.23.0->langsmith>=0.1.125->langchain-community) (4.6.2)\n",
      "Requirement already satisfied: httpcore==1.* in c:\\users\\user\\miniconda3\\envs\\ml_jobs\\lib\\site-packages (from httpx<1,>=0.23.0->langsmith>=0.1.125->langchain-community) (1.0.2)\n",
      "Requirement already satisfied: sniffio in c:\\users\\user\\miniconda3\\envs\\ml_jobs\\lib\\site-packages (from httpx<1,>=0.23.0->langsmith>=0.1.125->langchain-community) (1.3.0)\n",
      "Requirement already satisfied: h11<0.15,>=0.13 in c:\\users\\user\\miniconda3\\envs\\ml_jobs\\lib\\site-packages (from httpcore==1.*->httpx<1,>=0.23.0->langsmith>=0.1.125->langchain-community) (0.14.0)\n",
      "Requirement already satisfied: jsonpointer>=1.9 in c:\\users\\user\\miniconda3\\envs\\ml_jobs\\lib\\site-packages (from jsonpatch<2.0,>=1.33->langchain-core<1.0.0,>=0.3.66->langchain-community) (3.0.0)\n",
      "Requirement already satisfied: annotated-types>=0.6.0 in c:\\users\\user\\miniconda3\\envs\\ml_jobs\\lib\\site-packages (from pydantic<3.0.0,>=2.7.4->langchain<1.0.0,>=0.3.26->langchain-community) (0.7.0)\n",
      "Requirement already satisfied: pydantic-core==2.27.2 in c:\\users\\user\\miniconda3\\envs\\ml_jobs\\lib\\site-packages (from pydantic<3.0.0,>=2.7.4->langchain<1.0.0,>=0.3.26->langchain-community) (2.27.2)\n",
      "Requirement already satisfied: mypy-extensions>=0.3.0 in c:\\users\\user\\miniconda3\\envs\\ml_jobs\\lib\\site-packages (from typing-inspect<1,>=0.4.0->dataclasses-json<0.7,>=0.5.7->langchain-community) (1.1.0)\n",
      "Requirement already satisfied: langchain_openai in c:\\users\\user\\miniconda3\\envs\\ml_jobs\\lib\\site-packages (0.3.27)\n",
      "Requirement already satisfied: langchain-core<1.0.0,>=0.3.66 in c:\\users\\user\\miniconda3\\envs\\ml_jobs\\lib\\site-packages (from langchain_openai) (0.3.68)\n",
      "Requirement already satisfied: openai<2.0.0,>=1.86.0 in c:\\users\\user\\miniconda3\\envs\\ml_jobs\\lib\\site-packages (from langchain_openai) (1.95.1)\n",
      "Requirement already satisfied: tiktoken<1,>=0.7 in c:\\users\\user\\miniconda3\\envs\\ml_jobs\\lib\\site-packages (from langchain_openai) (0.9.0)\n",
      "Requirement already satisfied: langsmith>=0.3.45 in c:\\users\\user\\miniconda3\\envs\\ml_jobs\\lib\\site-packages (from langchain-core<1.0.0,>=0.3.66->langchain_openai) (0.4.5)\n",
      "Requirement already satisfied: tenacity!=8.4.0,<10.0.0,>=8.1.0 in c:\\users\\user\\miniconda3\\envs\\ml_jobs\\lib\\site-packages (from langchain-core<1.0.0,>=0.3.66->langchain_openai) (9.0.0)\n",
      "Requirement already satisfied: jsonpatch<2.0,>=1.33 in c:\\users\\user\\miniconda3\\envs\\ml_jobs\\lib\\site-packages (from langchain-core<1.0.0,>=0.3.66->langchain_openai) (1.33)\n",
      "Requirement already satisfied: PyYAML>=5.3 in c:\\users\\user\\miniconda3\\envs\\ml_jobs\\lib\\site-packages (from langchain-core<1.0.0,>=0.3.66->langchain_openai) (6.0.2)\n",
      "Requirement already satisfied: packaging<25,>=23.2 in c:\\users\\user\\miniconda3\\envs\\ml_jobs\\lib\\site-packages (from langchain-core<1.0.0,>=0.3.66->langchain_openai) (24.1)\n",
      "Requirement already satisfied: typing-extensions>=4.7 in c:\\users\\user\\miniconda3\\envs\\ml_jobs\\lib\\site-packages (from langchain-core<1.0.0,>=0.3.66->langchain_openai) (4.12.2)\n",
      "Requirement already satisfied: pydantic>=2.7.4 in c:\\users\\user\\miniconda3\\envs\\ml_jobs\\lib\\site-packages (from langchain-core<1.0.0,>=0.3.66->langchain_openai) (2.10.6)\n",
      "Requirement already satisfied: anyio<5,>=3.5.0 in c:\\users\\user\\miniconda3\\envs\\ml_jobs\\lib\\site-packages (from openai<2.0.0,>=1.86.0->langchain_openai) (4.6.2)\n",
      "Requirement already satisfied: distro<2,>=1.7.0 in c:\\users\\user\\miniconda3\\envs\\ml_jobs\\lib\\site-packages (from openai<2.0.0,>=1.86.0->langchain_openai) (1.9.0)\n",
      "Requirement already satisfied: httpx<1,>=0.23.0 in c:\\users\\user\\miniconda3\\envs\\ml_jobs\\lib\\site-packages (from openai<2.0.0,>=1.86.0->langchain_openai) (0.27.0)\n",
      "Requirement already satisfied: jiter<1,>=0.4.0 in c:\\users\\user\\miniconda3\\envs\\ml_jobs\\lib\\site-packages (from openai<2.0.0,>=1.86.0->langchain_openai) (0.9.0)\n",
      "Requirement already satisfied: sniffio in c:\\users\\user\\miniconda3\\envs\\ml_jobs\\lib\\site-packages (from openai<2.0.0,>=1.86.0->langchain_openai) (1.3.0)\n",
      "Requirement already satisfied: tqdm>4 in c:\\users\\user\\miniconda3\\envs\\ml_jobs\\lib\\site-packages (from openai<2.0.0,>=1.86.0->langchain_openai) (4.67.1)\n",
      "Requirement already satisfied: regex>=2022.1.18 in c:\\users\\user\\miniconda3\\envs\\ml_jobs\\lib\\site-packages (from tiktoken<1,>=0.7->langchain_openai) (2024.11.6)\n",
      "Requirement already satisfied: requests>=2.26.0 in c:\\users\\user\\miniconda3\\envs\\ml_jobs\\lib\\site-packages (from tiktoken<1,>=0.7->langchain_openai) (2.32.3)\n",
      "Requirement already satisfied: idna>=2.8 in c:\\users\\user\\miniconda3\\envs\\ml_jobs\\lib\\site-packages (from anyio<5,>=3.5.0->openai<2.0.0,>=1.86.0->langchain_openai) (3.7)\n",
      "Requirement already satisfied: certifi in c:\\users\\user\\miniconda3\\envs\\ml_jobs\\lib\\site-packages (from httpx<1,>=0.23.0->openai<2.0.0,>=1.86.0->langchain_openai) (2024.8.30)\n",
      "Requirement already satisfied: httpcore==1.* in c:\\users\\user\\miniconda3\\envs\\ml_jobs\\lib\\site-packages (from httpx<1,>=0.23.0->openai<2.0.0,>=1.86.0->langchain_openai) (1.0.2)\n",
      "Requirement already satisfied: h11<0.15,>=0.13 in c:\\users\\user\\miniconda3\\envs\\ml_jobs\\lib\\site-packages (from httpcore==1.*->httpx<1,>=0.23.0->openai<2.0.0,>=1.86.0->langchain_openai) (0.14.0)\n",
      "Requirement already satisfied: jsonpointer>=1.9 in c:\\users\\user\\miniconda3\\envs\\ml_jobs\\lib\\site-packages (from jsonpatch<2.0,>=1.33->langchain-core<1.0.0,>=0.3.66->langchain_openai) (3.0.0)\n",
      "Requirement already satisfied: orjson<4.0.0,>=3.9.14 in c:\\users\\user\\miniconda3\\envs\\ml_jobs\\lib\\site-packages (from langsmith>=0.3.45->langchain-core<1.0.0,>=0.3.66->langchain_openai) (3.10.18)\n",
      "Requirement already satisfied: requests-toolbelt<2.0.0,>=1.0.0 in c:\\users\\user\\miniconda3\\envs\\ml_jobs\\lib\\site-packages (from langsmith>=0.3.45->langchain-core<1.0.0,>=0.3.66->langchain_openai) (1.0.0)\n",
      "Requirement already satisfied: zstandard<0.24.0,>=0.23.0 in c:\\users\\user\\miniconda3\\envs\\ml_jobs\\lib\\site-packages (from langsmith>=0.3.45->langchain-core<1.0.0,>=0.3.66->langchain_openai) (0.23.0)\n",
      "Requirement already satisfied: annotated-types>=0.6.0 in c:\\users\\user\\miniconda3\\envs\\ml_jobs\\lib\\site-packages (from pydantic>=2.7.4->langchain-core<1.0.0,>=0.3.66->langchain_openai) (0.7.0)\n",
      "Requirement already satisfied: pydantic-core==2.27.2 in c:\\users\\user\\miniconda3\\envs\\ml_jobs\\lib\\site-packages (from pydantic>=2.7.4->langchain-core<1.0.0,>=0.3.66->langchain_openai) (2.27.2)\n",
      "Requirement already satisfied: charset-normalizer<4,>=2 in c:\\users\\user\\miniconda3\\envs\\ml_jobs\\lib\\site-packages (from requests>=2.26.0->tiktoken<1,>=0.7->langchain_openai) (3.3.2)\n",
      "Requirement already satisfied: urllib3<3,>=1.21.1 in c:\\users\\user\\miniconda3\\envs\\ml_jobs\\lib\\site-packages (from requests>=2.26.0->tiktoken<1,>=0.7->langchain_openai) (2.2.3)\n",
      "Requirement already satisfied: colorama in c:\\users\\user\\miniconda3\\envs\\ml_jobs\\lib\\site-packages (from tqdm>4->openai<2.0.0,>=1.86.0->langchain_openai) (0.4.6)\n",
      "Requirement already satisfied: langchain_chroma in c:\\users\\user\\miniconda3\\envs\\ml_jobs\\lib\\site-packages (0.2.4)\n",
      "Requirement already satisfied: langchain-core>=0.3.60 in c:\\users\\user\\miniconda3\\envs\\ml_jobs\\lib\\site-packages (from langchain_chroma) (0.3.68)\n",
      "Requirement already satisfied: numpy>=1.26.0 in c:\\users\\user\\miniconda3\\envs\\ml_jobs\\lib\\site-packages (from langchain_chroma) (1.26.4)\n",
      "Requirement already satisfied: chromadb>=1.0.9 in c:\\users\\user\\miniconda3\\envs\\ml_jobs\\lib\\site-packages (from langchain_chroma) (1.0.15)\n",
      "Requirement already satisfied: build>=1.0.3 in c:\\users\\user\\miniconda3\\envs\\ml_jobs\\lib\\site-packages (from chromadb>=1.0.9->langchain_chroma) (1.2.2.post1)\n",
      "Requirement already satisfied: pydantic>=1.9 in c:\\users\\user\\miniconda3\\envs\\ml_jobs\\lib\\site-packages (from chromadb>=1.0.9->langchain_chroma) (2.10.6)\n",
      "Requirement already satisfied: pybase64>=1.4.1 in c:\\users\\user\\miniconda3\\envs\\ml_jobs\\lib\\site-packages (from chromadb>=1.0.9->langchain_chroma) (1.4.1)\n",
      "Requirement already satisfied: uvicorn>=0.18.3 in c:\\users\\user\\miniconda3\\envs\\ml_jobs\\lib\\site-packages (from uvicorn[standard]>=0.18.3->chromadb>=1.0.9->langchain_chroma) (0.34.3)\n",
      "Requirement already satisfied: posthog<6.0.0,>=2.4.0 in c:\\users\\user\\miniconda3\\envs\\ml_jobs\\lib\\site-packages (from chromadb>=1.0.9->langchain_chroma) (5.4.0)\n",
      "Requirement already satisfied: typing-extensions>=4.5.0 in c:\\users\\user\\miniconda3\\envs\\ml_jobs\\lib\\site-packages (from chromadb>=1.0.9->langchain_chroma) (4.12.2)\n",
      "Requirement already satisfied: onnxruntime>=1.14.1 in c:\\users\\user\\miniconda3\\envs\\ml_jobs\\lib\\site-packages (from chromadb>=1.0.9->langchain_chroma) (1.22.1)\n",
      "Requirement already satisfied: opentelemetry-api>=1.2.0 in c:\\users\\user\\miniconda3\\envs\\ml_jobs\\lib\\site-packages (from chromadb>=1.0.9->langchain_chroma) (1.35.0)\n",
      "Requirement already satisfied: opentelemetry-exporter-otlp-proto-grpc>=1.2.0 in c:\\users\\user\\miniconda3\\envs\\ml_jobs\\lib\\site-packages (from chromadb>=1.0.9->langchain_chroma) (1.35.0)\n",
      "Requirement already satisfied: opentelemetry-sdk>=1.2.0 in c:\\users\\user\\miniconda3\\envs\\ml_jobs\\lib\\site-packages (from chromadb>=1.0.9->langchain_chroma) (1.35.0)\n",
      "Requirement already satisfied: tokenizers>=0.13.2 in c:\\users\\user\\miniconda3\\envs\\ml_jobs\\lib\\site-packages (from chromadb>=1.0.9->langchain_chroma) (0.21.2)\n",
      "Requirement already satisfied: pypika>=0.48.9 in c:\\users\\user\\miniconda3\\envs\\ml_jobs\\lib\\site-packages (from chromadb>=1.0.9->langchain_chroma) (0.48.9)\n",
      "Requirement already satisfied: tqdm>=4.65.0 in c:\\users\\user\\miniconda3\\envs\\ml_jobs\\lib\\site-packages (from chromadb>=1.0.9->langchain_chroma) (4.67.1)\n",
      "Requirement already satisfied: overrides>=7.3.1 in c:\\users\\user\\miniconda3\\envs\\ml_jobs\\lib\\site-packages (from chromadb>=1.0.9->langchain_chroma) (7.4.0)\n",
      "Requirement already satisfied: importlib-resources in c:\\users\\user\\miniconda3\\envs\\ml_jobs\\lib\\site-packages (from chromadb>=1.0.9->langchain_chroma) (6.5.2)\n",
      "Requirement already satisfied: grpcio>=1.58.0 in c:\\users\\user\\miniconda3\\envs\\ml_jobs\\lib\\site-packages (from chromadb>=1.0.9->langchain_chroma) (1.68.1)\n",
      "Requirement already satisfied: bcrypt>=4.0.1 in c:\\users\\user\\miniconda3\\envs\\ml_jobs\\lib\\site-packages (from chromadb>=1.0.9->langchain_chroma) (4.3.0)\n",
      "Requirement already satisfied: typer>=0.9.0 in c:\\users\\user\\miniconda3\\envs\\ml_jobs\\lib\\site-packages (from chromadb>=1.0.9->langchain_chroma) (0.16.0)\n",
      "Requirement already satisfied: kubernetes>=28.1.0 in c:\\users\\user\\miniconda3\\envs\\ml_jobs\\lib\\site-packages (from chromadb>=1.0.9->langchain_chroma) (33.1.0)\n",
      "Requirement already satisfied: tenacity>=8.2.3 in c:\\users\\user\\miniconda3\\envs\\ml_jobs\\lib\\site-packages (from chromadb>=1.0.9->langchain_chroma) (9.0.0)\n",
      "Requirement already satisfied: pyyaml>=6.0.0 in c:\\users\\user\\miniconda3\\envs\\ml_jobs\\lib\\site-packages (from chromadb>=1.0.9->langchain_chroma) (6.0.2)\n",
      "Requirement already satisfied: mmh3>=4.0.1 in c:\\users\\user\\miniconda3\\envs\\ml_jobs\\lib\\site-packages (from chromadb>=1.0.9->langchain_chroma) (5.1.0)\n",
      "Requirement already satisfied: orjson>=3.9.12 in c:\\users\\user\\miniconda3\\envs\\ml_jobs\\lib\\site-packages (from chromadb>=1.0.9->langchain_chroma) (3.10.18)\n",
      "Requirement already satisfied: httpx>=0.27.0 in c:\\users\\user\\miniconda3\\envs\\ml_jobs\\lib\\site-packages (from chromadb>=1.0.9->langchain_chroma) (0.27.0)\n",
      "Requirement already satisfied: rich>=10.11.0 in c:\\users\\user\\miniconda3\\envs\\ml_jobs\\lib\\site-packages (from chromadb>=1.0.9->langchain_chroma) (13.9.4)\n",
      "Requirement already satisfied: jsonschema>=4.19.0 in c:\\users\\user\\miniconda3\\envs\\ml_jobs\\lib\\site-packages (from chromadb>=1.0.9->langchain_chroma) (4.23.0)\n",
      "Requirement already satisfied: langsmith>=0.3.45 in c:\\users\\user\\miniconda3\\envs\\ml_jobs\\lib\\site-packages (from langchain-core>=0.3.60->langchain_chroma) (0.4.5)\n",
      "Requirement already satisfied: jsonpatch<2.0,>=1.33 in c:\\users\\user\\miniconda3\\envs\\ml_jobs\\lib\\site-packages (from langchain-core>=0.3.60->langchain_chroma) (1.33)\n",
      "Requirement already satisfied: packaging<25,>=23.2 in c:\\users\\user\\miniconda3\\envs\\ml_jobs\\lib\\site-packages (from langchain-core>=0.3.60->langchain_chroma) (24.1)\n",
      "Requirement already satisfied: pyproject_hooks in c:\\users\\user\\miniconda3\\envs\\ml_jobs\\lib\\site-packages (from build>=1.0.3->chromadb>=1.0.9->langchain_chroma) (1.2.0)\n",
      "Requirement already satisfied: colorama in c:\\users\\user\\miniconda3\\envs\\ml_jobs\\lib\\site-packages (from build>=1.0.3->chromadb>=1.0.9->langchain_chroma) (0.4.6)\n",
      "Requirement already satisfied: anyio in c:\\users\\user\\miniconda3\\envs\\ml_jobs\\lib\\site-packages (from httpx>=0.27.0->chromadb>=1.0.9->langchain_chroma) (4.6.2)\n",
      "Requirement already satisfied: certifi in c:\\users\\user\\miniconda3\\envs\\ml_jobs\\lib\\site-packages (from httpx>=0.27.0->chromadb>=1.0.9->langchain_chroma) (2024.8.30)\n",
      "Requirement already satisfied: httpcore==1.* in c:\\users\\user\\miniconda3\\envs\\ml_jobs\\lib\\site-packages (from httpx>=0.27.0->chromadb>=1.0.9->langchain_chroma) (1.0.2)\n",
      "Requirement already satisfied: idna in c:\\users\\user\\miniconda3\\envs\\ml_jobs\\lib\\site-packages (from httpx>=0.27.0->chromadb>=1.0.9->langchain_chroma) (3.7)\n",
      "Requirement already satisfied: sniffio in c:\\users\\user\\miniconda3\\envs\\ml_jobs\\lib\\site-packages (from httpx>=0.27.0->chromadb>=1.0.9->langchain_chroma) (1.3.0)\n",
      "Requirement already satisfied: h11<0.15,>=0.13 in c:\\users\\user\\miniconda3\\envs\\ml_jobs\\lib\\site-packages (from httpcore==1.*->httpx>=0.27.0->chromadb>=1.0.9->langchain_chroma) (0.14.0)\n",
      "Requirement already satisfied: jsonpointer>=1.9 in c:\\users\\user\\miniconda3\\envs\\ml_jobs\\lib\\site-packages (from jsonpatch<2.0,>=1.33->langchain-core>=0.3.60->langchain_chroma) (3.0.0)\n",
      "Requirement already satisfied: attrs>=22.2.0 in c:\\users\\user\\miniconda3\\envs\\ml_jobs\\lib\\site-packages (from jsonschema>=4.19.0->chromadb>=1.0.9->langchain_chroma) (24.2.0)\n",
      "Requirement already satisfied: jsonschema-specifications>=2023.03.6 in c:\\users\\user\\miniconda3\\envs\\ml_jobs\\lib\\site-packages (from jsonschema>=4.19.0->chromadb>=1.0.9->langchain_chroma) (2023.7.1)\n",
      "Requirement already satisfied: referencing>=0.28.4 in c:\\users\\user\\miniconda3\\envs\\ml_jobs\\lib\\site-packages (from jsonschema>=4.19.0->chromadb>=1.0.9->langchain_chroma) (0.30.2)\n",
      "Requirement already satisfied: rpds-py>=0.7.1 in c:\\users\\user\\miniconda3\\envs\\ml_jobs\\lib\\site-packages (from jsonschema>=4.19.0->chromadb>=1.0.9->langchain_chroma) (0.10.6)\n",
      "Requirement already satisfied: six>=1.9.0 in c:\\users\\user\\miniconda3\\envs\\ml_jobs\\lib\\site-packages (from kubernetes>=28.1.0->chromadb>=1.0.9->langchain_chroma) (1.16.0)\n",
      "Requirement already satisfied: python-dateutil>=2.5.3 in c:\\users\\user\\miniconda3\\envs\\ml_jobs\\lib\\site-packages (from kubernetes>=28.1.0->chromadb>=1.0.9->langchain_chroma) (2.9.0.post0)\n",
      "Requirement already satisfied: google-auth>=1.0.1 in c:\\users\\user\\miniconda3\\envs\\ml_jobs\\lib\\site-packages (from kubernetes>=28.1.0->chromadb>=1.0.9->langchain_chroma) (2.40.3)\n",
      "Requirement already satisfied: websocket-client!=0.40.0,!=0.41.*,!=0.42.*,>=0.32.0 in c:\\users\\user\\miniconda3\\envs\\ml_jobs\\lib\\site-packages (from kubernetes>=28.1.0->chromadb>=1.0.9->langchain_chroma) (1.8.0)\n",
      "Requirement already satisfied: requests in c:\\users\\user\\miniconda3\\envs\\ml_jobs\\lib\\site-packages (from kubernetes>=28.1.0->chromadb>=1.0.9->langchain_chroma) (2.32.3)\n",
      "Requirement already satisfied: requests-oauthlib in c:\\users\\user\\miniconda3\\envs\\ml_jobs\\lib\\site-packages (from kubernetes>=28.1.0->chromadb>=1.0.9->langchain_chroma) (2.0.0)\n",
      "Requirement already satisfied: oauthlib>=3.2.2 in c:\\users\\user\\miniconda3\\envs\\ml_jobs\\lib\\site-packages (from kubernetes>=28.1.0->chromadb>=1.0.9->langchain_chroma) (3.3.1)\n",
      "Requirement already satisfied: urllib3>=1.24.2 in c:\\users\\user\\miniconda3\\envs\\ml_jobs\\lib\\site-packages (from kubernetes>=28.1.0->chromadb>=1.0.9->langchain_chroma) (2.2.3)\n",
      "Requirement already satisfied: durationpy>=0.7 in c:\\users\\user\\miniconda3\\envs\\ml_jobs\\lib\\site-packages (from kubernetes>=28.1.0->chromadb>=1.0.9->langchain_chroma) (0.10)\n",
      "Requirement already satisfied: requests-toolbelt<2.0.0,>=1.0.0 in c:\\users\\user\\miniconda3\\envs\\ml_jobs\\lib\\site-packages (from langsmith>=0.3.45->langchain-core>=0.3.60->langchain_chroma) (1.0.0)\n",
      "Requirement already satisfied: zstandard<0.24.0,>=0.23.0 in c:\\users\\user\\miniconda3\\envs\\ml_jobs\\lib\\site-packages (from langsmith>=0.3.45->langchain-core>=0.3.60->langchain_chroma) (0.23.0)\n",
      "Requirement already satisfied: coloredlogs in c:\\users\\user\\miniconda3\\envs\\ml_jobs\\lib\\site-packages (from onnxruntime>=1.14.1->chromadb>=1.0.9->langchain_chroma) (15.0.1)\n",
      "Requirement already satisfied: flatbuffers in c:\\users\\user\\miniconda3\\envs\\ml_jobs\\lib\\site-packages (from onnxruntime>=1.14.1->chromadb>=1.0.9->langchain_chroma) (24.12.23)\n",
      "Requirement already satisfied: protobuf in c:\\users\\user\\miniconda3\\envs\\ml_jobs\\lib\\site-packages (from onnxruntime>=1.14.1->chromadb>=1.0.9->langchain_chroma) (5.29.2)\n",
      "Requirement already satisfied: sympy in c:\\users\\user\\miniconda3\\envs\\ml_jobs\\lib\\site-packages (from onnxruntime>=1.14.1->chromadb>=1.0.9->langchain_chroma) (1.14.0)\n",
      "Requirement already satisfied: importlib-metadata<8.8.0,>=6.0 in c:\\users\\user\\miniconda3\\envs\\ml_jobs\\lib\\site-packages (from opentelemetry-api>=1.2.0->chromadb>=1.0.9->langchain_chroma) (8.7.0)\n",
      "Requirement already satisfied: googleapis-common-protos~=1.57 in c:\\users\\user\\miniconda3\\envs\\ml_jobs\\lib\\site-packages (from opentelemetry-exporter-otlp-proto-grpc>=1.2.0->chromadb>=1.0.9->langchain_chroma) (1.70.0)\n",
      "Requirement already satisfied: opentelemetry-exporter-otlp-proto-common==1.35.0 in c:\\users\\user\\miniconda3\\envs\\ml_jobs\\lib\\site-packages (from opentelemetry-exporter-otlp-proto-grpc>=1.2.0->chromadb>=1.0.9->langchain_chroma) (1.35.0)\n",
      "Requirement already satisfied: opentelemetry-proto==1.35.0 in c:\\users\\user\\miniconda3\\envs\\ml_jobs\\lib\\site-packages (from opentelemetry-exporter-otlp-proto-grpc>=1.2.0->chromadb>=1.0.9->langchain_chroma) (1.35.0)\n",
      "Requirement already satisfied: opentelemetry-semantic-conventions==0.56b0 in c:\\users\\user\\miniconda3\\envs\\ml_jobs\\lib\\site-packages (from opentelemetry-sdk>=1.2.0->chromadb>=1.0.9->langchain_chroma) (0.56b0)\n",
      "Requirement already satisfied: backoff>=1.10.0 in c:\\users\\user\\miniconda3\\envs\\ml_jobs\\lib\\site-packages (from posthog<6.0.0,>=2.4.0->chromadb>=1.0.9->langchain_chroma) (2.2.1)\n",
      "Requirement already satisfied: distro>=1.5.0 in c:\\users\\user\\miniconda3\\envs\\ml_jobs\\lib\\site-packages (from posthog<6.0.0,>=2.4.0->chromadb>=1.0.9->langchain_chroma) (1.9.0)\n",
      "Requirement already satisfied: annotated-types>=0.6.0 in c:\\users\\user\\miniconda3\\envs\\ml_jobs\\lib\\site-packages (from pydantic>=1.9->chromadb>=1.0.9->langchain_chroma) (0.7.0)\n",
      "Requirement already satisfied: pydantic-core==2.27.2 in c:\\users\\user\\miniconda3\\envs\\ml_jobs\\lib\\site-packages (from pydantic>=1.9->chromadb>=1.0.9->langchain_chroma) (2.27.2)\n",
      "Requirement already satisfied: markdown-it-py>=2.2.0 in c:\\users\\user\\miniconda3\\envs\\ml_jobs\\lib\\site-packages (from rich>=10.11.0->chromadb>=1.0.9->langchain_chroma) (3.0.0)\n",
      "Requirement already satisfied: pygments<3.0.0,>=2.13.0 in c:\\users\\user\\miniconda3\\envs\\ml_jobs\\lib\\site-packages (from rich>=10.11.0->chromadb>=1.0.9->langchain_chroma) (2.15.1)\n",
      "Requirement already satisfied: huggingface-hub<1.0,>=0.16.4 in c:\\users\\user\\miniconda3\\envs\\ml_jobs\\lib\\site-packages (from tokenizers>=0.13.2->chromadb>=1.0.9->langchain_chroma) (0.32.3)\n",
      "Requirement already satisfied: click>=8.0.0 in c:\\users\\user\\miniconda3\\envs\\ml_jobs\\lib\\site-packages (from typer>=0.9.0->chromadb>=1.0.9->langchain_chroma) (8.1.7)\n",
      "Requirement already satisfied: shellingham>=1.3.0 in c:\\users\\user\\miniconda3\\envs\\ml_jobs\\lib\\site-packages (from typer>=0.9.0->chromadb>=1.0.9->langchain_chroma) (1.5.4)\n",
      "Requirement already satisfied: httptools>=0.6.3 in c:\\users\\user\\miniconda3\\envs\\ml_jobs\\lib\\site-packages (from uvicorn[standard]>=0.18.3->chromadb>=1.0.9->langchain_chroma) (0.6.4)\n",
      "Requirement already satisfied: python-dotenv>=0.13 in c:\\users\\user\\miniconda3\\envs\\ml_jobs\\lib\\site-packages (from uvicorn[standard]>=0.18.3->chromadb>=1.0.9->langchain_chroma) (1.1.0)\n",
      "Requirement already satisfied: watchfiles>=0.13 in c:\\users\\user\\miniconda3\\envs\\ml_jobs\\lib\\site-packages (from uvicorn[standard]>=0.18.3->chromadb>=1.0.9->langchain_chroma) (1.1.0)\n",
      "Requirement already satisfied: websockets>=10.4 in c:\\users\\user\\miniconda3\\envs\\ml_jobs\\lib\\site-packages (from uvicorn[standard]>=0.18.3->chromadb>=1.0.9->langchain_chroma) (15.0.1)\n",
      "Requirement already satisfied: cachetools<6.0,>=2.0.0 in c:\\users\\user\\miniconda3\\envs\\ml_jobs\\lib\\site-packages (from google-auth>=1.0.1->kubernetes>=28.1.0->chromadb>=1.0.9->langchain_chroma) (5.5.2)\n",
      "Requirement already satisfied: pyasn1-modules>=0.2.1 in c:\\users\\user\\miniconda3\\envs\\ml_jobs\\lib\\site-packages (from google-auth>=1.0.1->kubernetes>=28.1.0->chromadb>=1.0.9->langchain_chroma) (0.4.2)\n",
      "Requirement already satisfied: rsa<5,>=3.1.4 in c:\\users\\user\\miniconda3\\envs\\ml_jobs\\lib\\site-packages (from google-auth>=1.0.1->kubernetes>=28.1.0->chromadb>=1.0.9->langchain_chroma) (4.9.1)\n",
      "Requirement already satisfied: filelock in c:\\users\\user\\miniconda3\\envs\\ml_jobs\\lib\\site-packages (from huggingface-hub<1.0,>=0.16.4->tokenizers>=0.13.2->chromadb>=1.0.9->langchain_chroma) (3.18.0)\n",
      "Requirement already satisfied: fsspec>=2023.5.0 in c:\\users\\user\\miniconda3\\envs\\ml_jobs\\lib\\site-packages (from huggingface-hub<1.0,>=0.16.4->tokenizers>=0.13.2->chromadb>=1.0.9->langchain_chroma) (2025.5.1)\n",
      "Requirement already satisfied: zipp>=3.20 in c:\\users\\user\\miniconda3\\envs\\ml_jobs\\lib\\site-packages (from importlib-metadata<8.8.0,>=6.0->opentelemetry-api>=1.2.0->chromadb>=1.0.9->langchain_chroma) (3.23.0)\n",
      "Requirement already satisfied: mdurl~=0.1 in c:\\users\\user\\miniconda3\\envs\\ml_jobs\\lib\\site-packages (from markdown-it-py>=2.2.0->rich>=10.11.0->chromadb>=1.0.9->langchain_chroma) (0.1.2)\n",
      "Requirement already satisfied: charset-normalizer<4,>=2 in c:\\users\\user\\miniconda3\\envs\\ml_jobs\\lib\\site-packages (from requests->kubernetes>=28.1.0->chromadb>=1.0.9->langchain_chroma) (3.3.2)\n",
      "Requirement already satisfied: humanfriendly>=9.1 in c:\\users\\user\\miniconda3\\envs\\ml_jobs\\lib\\site-packages (from coloredlogs->onnxruntime>=1.14.1->chromadb>=1.0.9->langchain_chroma) (10.0)\n",
      "Requirement already satisfied: mpmath<1.4,>=1.1.0 in c:\\users\\user\\miniconda3\\envs\\ml_jobs\\lib\\site-packages (from sympy->onnxruntime>=1.14.1->chromadb>=1.0.9->langchain_chroma) (1.3.0)\n",
      "Requirement already satisfied: pyreadline3 in c:\\users\\user\\miniconda3\\envs\\ml_jobs\\lib\\site-packages (from humanfriendly>=9.1->coloredlogs->onnxruntime>=1.14.1->chromadb>=1.0.9->langchain_chroma) (3.5.4)\n",
      "Requirement already satisfied: pyasn1<0.7.0,>=0.6.1 in c:\\users\\user\\miniconda3\\envs\\ml_jobs\\lib\\site-packages (from pyasn1-modules>=0.2.1->google-auth>=1.0.1->kubernetes>=28.1.0->chromadb>=1.0.9->langchain_chroma) (0.6.1)\n"
     ]
    }
   ],
   "source": [
    "# Install necessary langchain libraries using pip\n",
    "!pip install langchain\n",
    "!pip install -U langchain-community\n",
    "!pip install langchain_openai\n",
    "!pip install langchain_chroma"
   ]
  },
  {
   "cell_type": "code",
   "execution_count": 21,
   "id": "8f098071-54dd-4fce-9ffd-908949f2365c",
   "metadata": {},
   "outputs": [],
   "source": [
    "# Import necessary langchain components for document processing and visualization\n",
    "from langchain.document_loaders import DirectoryLoader, TextLoader\n",
    "from langchain.text_splitter import CharacterTextSplitter\n",
    "from langchain.schema import Document\n",
    "from langchain_openai import OpenAIEmbeddings, ChatOpenAI\n",
    "from langchain_chroma import Chroma\n",
    "import matplotlib.pyplot as plt\n",
    "from sklearn.manifold import TSNE\n",
    "import numpy as np\n",
    "import plotly.graph_objects as go\n",
    "from langchain.memory import ConversationBufferMemory\n",
    "from langchain.chains import ConversationalRetrievalChain\n",
    "from langchain.embeddings import HuggingFaceEmbeddings"
   ]
  },
  {
   "cell_type": "code",
   "execution_count": 22,
   "id": "61b79dff-3012-4c1e-90ef-d85f75a51ac4",
   "metadata": {},
   "outputs": [],
   "source": [
    "# Initialize OpenAI API\n",
    "from openai import OpenAI\n",
    "openai = OpenAI(api_key=\"\")"
   ]
  },
  {
   "cell_type": "code",
   "execution_count": 23,
   "id": "947cab00-f293-467e-a278-1a2d276e7a2e",
   "metadata": {},
   "outputs": [],
   "source": [
    "# Define folders to scan for documents\n",
    "folders = glob.glob(\"chain_reactions_knowledge_base_detailed/*\")\n",
    "\n",
    "def add_metadata(doc, doc_type):\n",
    "    \"\"\"Add metadata to document indicating its type.\n",
    "    \n",
    "    Args:\n",
    "        doc (Document): The document to which metadata will be added.\n",
    "        doc_type (str): The type of the document.\n",
    "\n",
    "    Returns:\n",
    "        Document: Document with added metadata.\n",
    "    \"\"\"\n",
    "    doc.metadata[\"doc_type\"] = doc_type\n",
    "    return doc"
   ]
  },
  {
   "cell_type": "code",
   "execution_count": 24,
   "id": "9f008f9c-37e5-4959-a567-0d5517ec358e",
   "metadata": {},
   "outputs": [],
   "source": [
    "# Specify text encoding for loading text documents\n",
    "text_loader_kwargs = {'encoding': 'utf-8'}"
   ]
  },
  {
   "cell_type": "code",
   "execution_count": 25,
   "id": "61e5e819-fabc-4a55-8c72-859d3347c4a3",
   "metadata": {},
   "outputs": [
    {
     "name": "stdout",
     "output_type": "stream",
     "text": [
      "Total number of chunks: 59\n",
      "Document types found: {'contracts', 'company', 'products', 'employees'}\n"
     ]
    }
   ],
   "source": [
    "# Collect documents from specified folders\n",
    "documents = []\n",
    "for folder in folders:\n",
    "    doc_type = os.path.basename(folder)  # Determine document type from folder name\n",
    "    loader = DirectoryLoader(folder, glob=\"**/*.md\", loader_cls=TextLoader, loader_kwargs=text_loader_kwargs)\n",
    "    folder_docs = loader.load()\n",
    "    documents.extend([add_metadata(doc, doc_type) for doc in folder_docs])\n",
    "\n",
    "# Split documents into manageable chunks for further processing\n",
    "text_splitter = CharacterTextSplitter(chunk_size=1000, chunk_overlap=200)\n",
    "chunks = text_splitter.split_documents(documents)\n",
    "\n",
    "# Print summary of the chunks and document types\n",
    "print(f\"Total number of chunks: {len(chunks)}\")\n",
    "print(f\"Document types found: {set(doc.metadata['doc_type'] for doc in documents)}\")"
   ]
  },
  {
   "cell_type": "code",
   "execution_count": 26,
   "id": "813348bc-84ed-4398-9f7e-bd8b8e83aeca",
   "metadata": {},
   "outputs": [
    {
     "name": "stdout",
     "output_type": "stream",
     "text": [
      "Vectorstore created with 59 documents\n"
     ]
    }
   ],
   "source": [
    "MODEL = \"gpt-4o-mini\"\n",
    "db_name = \"vector_db\"\n",
    "\n",
    "# Initialize OpenAI embeddings\n",
    "embeddings = OpenAIEmbeddings(openai_api_key=\"\")\n",
    "\n",
    "# Remove existing vector store if it exists\n",
    "if os.path.exists(db_name):\n",
    "    Chroma(persist_directory=db_name, embedding_function=embeddings).delete_collection()\n",
    "\n",
    "# Create vector store from document chunks\n",
    "vectorstore = Chroma.from_documents(documents=chunks, embedding=embeddings, persist_directory=db_name)\n",
    "print(f\"Vectorstore created with {vectorstore._collection.count()} documents\")"
   ]
  },
  {
   "cell_type": "code",
   "execution_count": 27,
   "id": "f251b16e-8156-40f2-ab2e-4bed0b2bc61e",
   "metadata": {},
   "outputs": [
    {
     "name": "stdout",
     "output_type": "stream",
     "text": [
      "The vectors have 1,536 dimensions\n"
     ]
    }
   ],
   "source": [
    "# Access collection of vectors and document metadata\n",
    "collection = vectorstore._collection\n",
    "sample_embedding = collection.get(limit=1, include=[\"embeddings\"])[\"embeddings\"][0]\n",
    "dimensions = len(sample_embedding)\n",
    "print(f\"The vectors have {dimensions:,} dimensions\")"
   ]
  },
  {
   "cell_type": "code",
   "execution_count": 28,
   "id": "82ce813e-bd04-4d3b-a4f6-92598284613d",
   "metadata": {},
   "outputs": [],
   "source": [
    "# Retrieve vector data, document text, and metadata\n",
    "result = collection.get(include=['embeddings', 'documents', 'metadatas'])\n",
    "vectors = np.array(result['embeddings'])\n",
    "documents = result['documents']\n",
    "metadatas = result['metadatas']\n",
    "doc_types = [metadata['doc_type'] for metadata in metadatas]\n",
    "colors = [['blue', 'green', 'red', 'orange'][['products', 'employees', 'contracts', 'company'].index(t)] for t in doc_types]"
   ]
  },
  {
   "cell_type": "code",
   "execution_count": 29,
   "id": "55aaab80-49e7-4dc3-a075-c1b97802ad48",
   "metadata": {},
   "outputs": [
    {
     "data": {
      "application/vnd.plotly.v1+json": {
       "config": {
        "plotlyServerURL": "https://plot.ly"
       },
       "data": [
        {
         "hoverinfo": "text",
         "marker": {
          "color": [
           "orange",
           "orange",
           "orange",
           "orange",
           "orange",
           "orange",
           "orange",
           "red",
           "red",
           "red",
           "red",
           "red",
           "red",
           "red",
           "red",
           "red",
           "red",
           "red",
           "red",
           "red",
           "red",
           "red",
           "red",
           "red",
           "red",
           "red",
           "red",
           "red",
           "red",
           "red",
           "red",
           "green",
           "green",
           "green",
           "green",
           "green",
           "green",
           "green",
           "green",
           "green",
           "green",
           "green",
           "green",
           "green",
           "green",
           "green",
           "green",
           "green",
           "green",
           "green",
           "green",
           "green",
           "green",
           "green",
           "green",
           "blue",
           "blue",
           "blue",
           "blue"
          ],
          "opacity": 0.8,
          "size": 5
         },
         "mode": "markers",
         "text": [
          "Type: company<br>Text: # About Chain Reactions Africa\nChain Reactions Africa is a strategic communications and public relat...",
          "Type: company<br>Text: # Careers at Chain Reactions\nAt Chain Reactions Africa, we foster a dynamic workplace where creativi...",
          "Type: company<br>Text: # Israel “Jaiye” Opayemi – CEO of Chain Reactions Africa\n\n## 👤 About\nIsrael Opayemi is the **Managin...",
          "Type: company<br>Text: ## 🏆 Achievements\n\n### SABRE Awards\n- **2024**: 7 trophies for campaigns including Lagos Blue Rail, ...",
          "Type: company<br>Text: - **LaPRIGA 2023**:\n  - PR Practitioner of the Year – Israel Opayemi\n  - Best in Risk and Political ...",
          "Type: company<br>Text: # Our Mission\nTo be the most innovative and effective public relations firm in Africa, helping brand...",
          "Type: company<br>Text: # Company Overview\nChain Reactions Africa partners with corporations, governments, and institutions ...",
          "Type: contracts<br>Text: # Contract with ClientCorp 1 Ltd.\n\n## Terms\n\n1. *Parties Involved*: This agreement is between Chain ...",
          "Type: contracts<br>Text: ---\n\n**Signatures**\n\n*Chain Reactions Africa*  \n_____________________________  \nAuthorized Signature...",
          "Type: contracts<br>Text: # Contract with ClientCorp 10 Ltd.\n\n## Terms\n\n1. *Parties Involved*: This agreement is between Chain...",
          "Type: contracts<br>Text: ---\n\n**Signatures**\n\n*Chain Reactions Africa*  \n_____________________________  \nAuthorized Signature...",
          "Type: contracts<br>Text: # Contract with ClientCorp 11 Ltd.\n\n## Terms\n\n1. *Parties Involved*: This agreement is between Chain...",
          "Type: contracts<br>Text: ---\n\n**Signatures**\n\n*Chain Reactions Africa*  \n_____________________________  \nAuthorized Signature...",
          "Type: contracts<br>Text: # Contract with ClientCorp 12 Ltd.\n\n## Terms\n\n1. *Parties Involved*: This agreement is between Chain...",
          "Type: contracts<br>Text: ---\n\n**Signatures**\n\n*Chain Reactions Africa*  \n_____________________________  \nAuthorized Signature...",
          "Type: contracts<br>Text: # Contract with ClientCorp 2 Ltd.\n\n## Terms\n\n1. *Parties Involved*: This agreement is between Chain ...",
          "Type: contracts<br>Text: ---\n\n**Signatures**\n\n*Chain Reactions Africa*  \n_____________________________  \nAuthorized Signature...",
          "Type: contracts<br>Text: # Contract with ClientCorp 3 Ltd.\n\n## Terms\n\n1. *Parties Involved*: This agreement is between Chain ...",
          "Type: contracts<br>Text: ---\n\n**Signatures**\n\n*Chain Reactions Africa*  \n_____________________________  \nAuthorized Signature...",
          "Type: contracts<br>Text: # Contract with ClientCorp 4 Ltd.\n\n## Terms\n\n1. *Parties Involved*: This agreement is between Chain ...",
          "Type: contracts<br>Text: ---\n\n**Signatures**\n\n*Chain Reactions Africa*  \n_____________________________  \nAuthorized Signature...",
          "Type: contracts<br>Text: # Contract with ClientCorp 5 Ltd.\n\n## Terms\n\n1. *Parties Involved*: This agreement is between Chain ...",
          "Type: contracts<br>Text: ---\n\n**Signatures**\n\n*Chain Reactions Africa*  \n_____________________________  \nAuthorized Signature...",
          "Type: contracts<br>Text: # Contract with ClientCorp 6 Ltd.\n\n## Terms\n\n1. *Parties Involved*: This agreement is between Chain ...",
          "Type: contracts<br>Text: ---\n\n**Signatures**\n\n*Chain Reactions Africa*  \n_____________________________  \nAuthorized Signature...",
          "Type: contracts<br>Text: # Contract with ClientCorp 7 Ltd.\n\n## Terms\n\n1. *Parties Involved*: This agreement is between Chain ...",
          "Type: contracts<br>Text: ---\n\n**Signatures**\n\n*Chain Reactions Africa*  \n_____________________________  \nAuthorized Signature...",
          "Type: contracts<br>Text: # Contract with ClientCorp 8 Ltd.\n\n## Terms\n\n1. *Parties Involved*: This agreement is between Chain ...",
          "Type: contracts<br>Text: ---\n\n**Signatures**\n\n*Chain Reactions Africa*  \n_____________________________  \nAuthorized Signature...",
          "Type: contracts<br>Text: # Contract with ClientCorp 9 Ltd.\n\n## Terms\n\n1. *Parties Involved*: This agreement is between Chain ...",
          "Type: contracts<br>Text: ---\n\n**Signatures**\n\n*Chain Reactions Africa*  \n_____________________________  \nAuthorized Signature...",
          "Type: employees<br>Text: # HR Record\n\n# Anne Mccarty\n\n## Summary\n- *Date of Birth:* June 13, 1991  \n- *Job Title:* PR Campaig...",
          "Type: employees<br>Text: - *2023:*  \n  - Managed multi-stakeholder project with 95% delivery efficiency.  \n  - Trained two ju...",
          "Type: employees<br>Text: # HR Record\n\n# Dylan Morgan\n\n## Summary\n- *Date of Birth:* April 17, 1974  \n- *Job Title:* Digital C...",
          "Type: employees<br>Text: - *2024:*  \n  - Managed multi-stakeholder project with 95% delivery efficiency.  \n  - Trained two ju...",
          "Type: employees<br>Text: # HR Record\n\n# Danielle Johnson\n\n## Summary\n- *Date of Birth:* June 28, 1987  \n- *Job Title:* Media ...",
          "Type: employees<br>Text: - *2025:*  \n  - Managed multi-stakeholder project with 95% delivery efficiency.  \n  - Trained two ju...",
          "Type: employees<br>Text: # HR Record\n\n# Larry Peterson\n\n## Summary\n- *Date of Birth:* January 14, 1972  \n- *Job Title:* Digit...",
          "Type: employees<br>Text: - *2022:*  \n  - Managed multi-stakeholder project with 95% delivery efficiency.  \n  - Trained two ju...",
          "Type: employees<br>Text: # HR Record\n\n# Stephen Matthews\n\n## Summary\n- *Date of Birth:* September 17, 1998  \n- *Job Title:* C...",
          "Type: employees<br>Text: - *2024:*  \n  - Managed multi-stakeholder project with 95% delivery efficiency.  \n  - Trained two ju...",
          "Type: employees<br>Text: # HR Record\n\n# Anna Barker\n\n## Summary\n- *Date of Birth:* September 08, 1975  \n- *Job Title:* Brand ...",
          "Type: employees<br>Text: - *2025:*  \n  - Managed multi-stakeholder project with 95% delivery efficiency.  \n  - Trained two ju...",
          "Type: employees<br>Text: # HR Record\n\n# Abigail Espinoza\n\n## Summary\n- *Date of Birth:* February 08, 1986  \n- *Job Title:* Me...",
          "Type: employees<br>Text: - *2022:*  \n  - Managed multi-stakeholder project with 95% delivery efficiency.  \n  - Trained two ju...",
          "Type: employees<br>Text: # HR Record\n\n# Catherine Jones\n\n## Summary\n- *Date of Birth:* September 01, 1969  \n- *Job Title:* Cl...",
          "Type: employees<br>Text: - *2023:*  \n  - Managed multi-stakeholder project with 95% delivery efficiency.  \n  - Trained two ju...",
          "Type: employees<br>Text: # HR Record\n\n# Manuel Pierce\n\n## Summary\n- *Date of Birth:* January 02, 1988  \n- *Job Title:* Brand ...",
          "Type: employees<br>Text: - *2024:*  \n  - Managed multi-stakeholder project with 95% delivery efficiency.  \n  - Trained two ju...",
          "Type: employees<br>Text: # HR Record\n\n# Hannah Daniels\n\n## Summary\n- *Date of Birth:* May 07, 2000  \n- *Job Title:* Client Se...",
          "Type: employees<br>Text: - *2025:*  \n  - Managed multi-stakeholder project with 95% delivery efficiency.  \n  - Trained two ju...",
          "Type: employees<br>Text: # HR Record\n\n# John Anderson Jr.\n\n## Summary\n- *Date of Birth:* January 30, 1972  \n- *Job Title:* Br...",
          "Type: employees<br>Text: - *2022:*  \n  - Managed multi-stakeholder project with 95% delivery efficiency.  \n  - Trained two ju...",
          "Type: employees<br>Text: # HR Record\n\n# James Martinez\n\n## Summary\n- *Date of Birth:* September 10, 1996  \n- *Job Title:* PR ...",
          "Type: employees<br>Text: - *2023:*  \n  - Managed multi-stakeholder project with 95% delivery efficiency.  \n  - Trained two ju...",
          "Type: products<br>Text: # Product Summary\n\n# Brand Strategy\n\n## Summary\n\nBrand Strategy is one of Chain Reactions Africa’s l...",
          "Type: products<br>Text: # Product Summary\n\n# Crisis Management\n\n## Summary\n\nCrisis Management is one of Chain Reactions Afri...",
          "Type: products<br>Text: # Product Summary\n\n# Digital Campaigns\n\n## Summary\n\nDigital Campaigns is one of Chain Reactions Afri...",
          "Type: products<br>Text: # Product Summary\n\n# Media Relations\n\n## Summary\n\nMedia Relations is one of Chain Reactions Africa’s..."
         ],
         "type": "scatter",
         "x": [
          0.7776262,
          0.83419394,
          -0.101247475,
          -0.24980041,
          -0.15791173,
          0.59583765,
          0.7227787,
          -1.3527473,
          0.40768233,
          -1.4887359,
          0.75465554,
          -1.4540838,
          0.63583606,
          -1.4569921,
          0.59101415,
          -1.4521084,
          0.33632946,
          -1.0978583,
          0.33906704,
          -1.4152004,
          0.32207772,
          -1.3685845,
          0.43118826,
          -1.1740854,
          0.62835234,
          -1.1410874,
          0.72111315,
          -1.0992386,
          0.7224115,
          -1.2177933,
          0.7784998,
          -4.15723,
          -2.9772158,
          -3.584247,
          -2.272312,
          -3.7113645,
          -2.5599277,
          -3.5686905,
          -2.2699757,
          -4.087653,
          -2.376769,
          -4.1238914,
          -3.0206773,
          -3.5160177,
          -2.4303236,
          -4.0662417,
          -2.6071677,
          -3.7508945,
          -2.398977,
          -3.979763,
          -2.629089,
          -3.7032125,
          -2.5010116,
          -4.0057974,
          -2.775476,
          -0.6214575,
          -0.656383,
          -0.7251523,
          -0.66926026
         ],
         "y": [
          1.8051975,
          1.7760015,
          -0.2941461,
          -0.43560347,
          -0.3339836,
          1.2237312,
          1.747549,
          2.9975088,
          4.1368318,
          3.0867639,
          4.0869713,
          2.7826626,
          4.0403767,
          2.7102058,
          4.025276,
          2.7438166,
          4.3080487,
          2.7861848,
          4.390056,
          3.0987306,
          4.3645306,
          3.0939898,
          4.4614115,
          2.9528267,
          4.457174,
          2.8229356,
          4.3987546,
          2.8146749,
          4.0785594,
          2.7144144,
          4.1108212,
          0.24565019,
          -0.9235411,
          1.0853937,
          -0.5317166,
          0.9314473,
          -0.51277286,
          1.2903887,
          -1.020949,
          0.93142337,
          -0.65512216,
          0.17009643,
          -0.75803906,
          0.8730087,
          -1.0207242,
          1.0160766,
          -0.75036454,
          0.51688296,
          -0.77778053,
          0.92088103,
          -0.47066832,
          0.6811559,
          -0.6594054,
          0.4640042,
          -0.9626836,
          1.2022824,
          1.2202467,
          1.272877,
          1.246098
         ]
        }
       ],
       "layout": {
        "height": 600,
        "margin": {
         "b": 10,
         "l": 10,
         "r": 20,
         "t": 40
        },
        "scene": {
         "xaxis": {
          "title": {
           "text": "x"
          }
         },
         "yaxis": {
          "title": {
           "text": "y"
          }
         }
        },
        "template": {
         "data": {
          "bar": [
           {
            "error_x": {
             "color": "#2a3f5f"
            },
            "error_y": {
             "color": "#2a3f5f"
            },
            "marker": {
             "line": {
              "color": "#E5ECF6",
              "width": 0.5
             },
             "pattern": {
              "fillmode": "overlay",
              "size": 10,
              "solidity": 0.2
             }
            },
            "type": "bar"
           }
          ],
          "barpolar": [
           {
            "marker": {
             "line": {
              "color": "#E5ECF6",
              "width": 0.5
             },
             "pattern": {
              "fillmode": "overlay",
              "size": 10,
              "solidity": 0.2
             }
            },
            "type": "barpolar"
           }
          ],
          "carpet": [
           {
            "aaxis": {
             "endlinecolor": "#2a3f5f",
             "gridcolor": "white",
             "linecolor": "white",
             "minorgridcolor": "white",
             "startlinecolor": "#2a3f5f"
            },
            "baxis": {
             "endlinecolor": "#2a3f5f",
             "gridcolor": "white",
             "linecolor": "white",
             "minorgridcolor": "white",
             "startlinecolor": "#2a3f5f"
            },
            "type": "carpet"
           }
          ],
          "choropleth": [
           {
            "colorbar": {
             "outlinewidth": 0,
             "ticks": ""
            },
            "type": "choropleth"
           }
          ],
          "contour": [
           {
            "colorbar": {
             "outlinewidth": 0,
             "ticks": ""
            },
            "colorscale": [
             [
              0,
              "#0d0887"
             ],
             [
              0.1111111111111111,
              "#46039f"
             ],
             [
              0.2222222222222222,
              "#7201a8"
             ],
             [
              0.3333333333333333,
              "#9c179e"
             ],
             [
              0.4444444444444444,
              "#bd3786"
             ],
             [
              0.5555555555555556,
              "#d8576b"
             ],
             [
              0.6666666666666666,
              "#ed7953"
             ],
             [
              0.7777777777777778,
              "#fb9f3a"
             ],
             [
              0.8888888888888888,
              "#fdca26"
             ],
             [
              1,
              "#f0f921"
             ]
            ],
            "type": "contour"
           }
          ],
          "contourcarpet": [
           {
            "colorbar": {
             "outlinewidth": 0,
             "ticks": ""
            },
            "type": "contourcarpet"
           }
          ],
          "heatmap": [
           {
            "colorbar": {
             "outlinewidth": 0,
             "ticks": ""
            },
            "colorscale": [
             [
              0,
              "#0d0887"
             ],
             [
              0.1111111111111111,
              "#46039f"
             ],
             [
              0.2222222222222222,
              "#7201a8"
             ],
             [
              0.3333333333333333,
              "#9c179e"
             ],
             [
              0.4444444444444444,
              "#bd3786"
             ],
             [
              0.5555555555555556,
              "#d8576b"
             ],
             [
              0.6666666666666666,
              "#ed7953"
             ],
             [
              0.7777777777777778,
              "#fb9f3a"
             ],
             [
              0.8888888888888888,
              "#fdca26"
             ],
             [
              1,
              "#f0f921"
             ]
            ],
            "type": "heatmap"
           }
          ],
          "heatmapgl": [
           {
            "colorbar": {
             "outlinewidth": 0,
             "ticks": ""
            },
            "colorscale": [
             [
              0,
              "#0d0887"
             ],
             [
              0.1111111111111111,
              "#46039f"
             ],
             [
              0.2222222222222222,
              "#7201a8"
             ],
             [
              0.3333333333333333,
              "#9c179e"
             ],
             [
              0.4444444444444444,
              "#bd3786"
             ],
             [
              0.5555555555555556,
              "#d8576b"
             ],
             [
              0.6666666666666666,
              "#ed7953"
             ],
             [
              0.7777777777777778,
              "#fb9f3a"
             ],
             [
              0.8888888888888888,
              "#fdca26"
             ],
             [
              1,
              "#f0f921"
             ]
            ],
            "type": "heatmapgl"
           }
          ],
          "histogram": [
           {
            "marker": {
             "pattern": {
              "fillmode": "overlay",
              "size": 10,
              "solidity": 0.2
             }
            },
            "type": "histogram"
           }
          ],
          "histogram2d": [
           {
            "colorbar": {
             "outlinewidth": 0,
             "ticks": ""
            },
            "colorscale": [
             [
              0,
              "#0d0887"
             ],
             [
              0.1111111111111111,
              "#46039f"
             ],
             [
              0.2222222222222222,
              "#7201a8"
             ],
             [
              0.3333333333333333,
              "#9c179e"
             ],
             [
              0.4444444444444444,
              "#bd3786"
             ],
             [
              0.5555555555555556,
              "#d8576b"
             ],
             [
              0.6666666666666666,
              "#ed7953"
             ],
             [
              0.7777777777777778,
              "#fb9f3a"
             ],
             [
              0.8888888888888888,
              "#fdca26"
             ],
             [
              1,
              "#f0f921"
             ]
            ],
            "type": "histogram2d"
           }
          ],
          "histogram2dcontour": [
           {
            "colorbar": {
             "outlinewidth": 0,
             "ticks": ""
            },
            "colorscale": [
             [
              0,
              "#0d0887"
             ],
             [
              0.1111111111111111,
              "#46039f"
             ],
             [
              0.2222222222222222,
              "#7201a8"
             ],
             [
              0.3333333333333333,
              "#9c179e"
             ],
             [
              0.4444444444444444,
              "#bd3786"
             ],
             [
              0.5555555555555556,
              "#d8576b"
             ],
             [
              0.6666666666666666,
              "#ed7953"
             ],
             [
              0.7777777777777778,
              "#fb9f3a"
             ],
             [
              0.8888888888888888,
              "#fdca26"
             ],
             [
              1,
              "#f0f921"
             ]
            ],
            "type": "histogram2dcontour"
           }
          ],
          "mesh3d": [
           {
            "colorbar": {
             "outlinewidth": 0,
             "ticks": ""
            },
            "type": "mesh3d"
           }
          ],
          "parcoords": [
           {
            "line": {
             "colorbar": {
              "outlinewidth": 0,
              "ticks": ""
             }
            },
            "type": "parcoords"
           }
          ],
          "pie": [
           {
            "automargin": true,
            "type": "pie"
           }
          ],
          "scatter": [
           {
            "fillpattern": {
             "fillmode": "overlay",
             "size": 10,
             "solidity": 0.2
            },
            "type": "scatter"
           }
          ],
          "scatter3d": [
           {
            "line": {
             "colorbar": {
              "outlinewidth": 0,
              "ticks": ""
             }
            },
            "marker": {
             "colorbar": {
              "outlinewidth": 0,
              "ticks": ""
             }
            },
            "type": "scatter3d"
           }
          ],
          "scattercarpet": [
           {
            "marker": {
             "colorbar": {
              "outlinewidth": 0,
              "ticks": ""
             }
            },
            "type": "scattercarpet"
           }
          ],
          "scattergeo": [
           {
            "marker": {
             "colorbar": {
              "outlinewidth": 0,
              "ticks": ""
             }
            },
            "type": "scattergeo"
           }
          ],
          "scattergl": [
           {
            "marker": {
             "colorbar": {
              "outlinewidth": 0,
              "ticks": ""
             }
            },
            "type": "scattergl"
           }
          ],
          "scattermapbox": [
           {
            "marker": {
             "colorbar": {
              "outlinewidth": 0,
              "ticks": ""
             }
            },
            "type": "scattermapbox"
           }
          ],
          "scatterpolar": [
           {
            "marker": {
             "colorbar": {
              "outlinewidth": 0,
              "ticks": ""
             }
            },
            "type": "scatterpolar"
           }
          ],
          "scatterpolargl": [
           {
            "marker": {
             "colorbar": {
              "outlinewidth": 0,
              "ticks": ""
             }
            },
            "type": "scatterpolargl"
           }
          ],
          "scatterternary": [
           {
            "marker": {
             "colorbar": {
              "outlinewidth": 0,
              "ticks": ""
             }
            },
            "type": "scatterternary"
           }
          ],
          "surface": [
           {
            "colorbar": {
             "outlinewidth": 0,
             "ticks": ""
            },
            "colorscale": [
             [
              0,
              "#0d0887"
             ],
             [
              0.1111111111111111,
              "#46039f"
             ],
             [
              0.2222222222222222,
              "#7201a8"
             ],
             [
              0.3333333333333333,
              "#9c179e"
             ],
             [
              0.4444444444444444,
              "#bd3786"
             ],
             [
              0.5555555555555556,
              "#d8576b"
             ],
             [
              0.6666666666666666,
              "#ed7953"
             ],
             [
              0.7777777777777778,
              "#fb9f3a"
             ],
             [
              0.8888888888888888,
              "#fdca26"
             ],
             [
              1,
              "#f0f921"
             ]
            ],
            "type": "surface"
           }
          ],
          "table": [
           {
            "cells": {
             "fill": {
              "color": "#EBF0F8"
             },
             "line": {
              "color": "white"
             }
            },
            "header": {
             "fill": {
              "color": "#C8D4E3"
             },
             "line": {
              "color": "white"
             }
            },
            "type": "table"
           }
          ]
         },
         "layout": {
          "annotationdefaults": {
           "arrowcolor": "#2a3f5f",
           "arrowhead": 0,
           "arrowwidth": 1
          },
          "autotypenumbers": "strict",
          "coloraxis": {
           "colorbar": {
            "outlinewidth": 0,
            "ticks": ""
           }
          },
          "colorscale": {
           "diverging": [
            [
             0,
             "#8e0152"
            ],
            [
             0.1,
             "#c51b7d"
            ],
            [
             0.2,
             "#de77ae"
            ],
            [
             0.3,
             "#f1b6da"
            ],
            [
             0.4,
             "#fde0ef"
            ],
            [
             0.5,
             "#f7f7f7"
            ],
            [
             0.6,
             "#e6f5d0"
            ],
            [
             0.7,
             "#b8e186"
            ],
            [
             0.8,
             "#7fbc41"
            ],
            [
             0.9,
             "#4d9221"
            ],
            [
             1,
             "#276419"
            ]
           ],
           "sequential": [
            [
             0,
             "#0d0887"
            ],
            [
             0.1111111111111111,
             "#46039f"
            ],
            [
             0.2222222222222222,
             "#7201a8"
            ],
            [
             0.3333333333333333,
             "#9c179e"
            ],
            [
             0.4444444444444444,
             "#bd3786"
            ],
            [
             0.5555555555555556,
             "#d8576b"
            ],
            [
             0.6666666666666666,
             "#ed7953"
            ],
            [
             0.7777777777777778,
             "#fb9f3a"
            ],
            [
             0.8888888888888888,
             "#fdca26"
            ],
            [
             1,
             "#f0f921"
            ]
           ],
           "sequentialminus": [
            [
             0,
             "#0d0887"
            ],
            [
             0.1111111111111111,
             "#46039f"
            ],
            [
             0.2222222222222222,
             "#7201a8"
            ],
            [
             0.3333333333333333,
             "#9c179e"
            ],
            [
             0.4444444444444444,
             "#bd3786"
            ],
            [
             0.5555555555555556,
             "#d8576b"
            ],
            [
             0.6666666666666666,
             "#ed7953"
            ],
            [
             0.7777777777777778,
             "#fb9f3a"
            ],
            [
             0.8888888888888888,
             "#fdca26"
            ],
            [
             1,
             "#f0f921"
            ]
           ]
          },
          "colorway": [
           "#636efa",
           "#EF553B",
           "#00cc96",
           "#ab63fa",
           "#FFA15A",
           "#19d3f3",
           "#FF6692",
           "#B6E880",
           "#FF97FF",
           "#FECB52"
          ],
          "font": {
           "color": "#2a3f5f"
          },
          "geo": {
           "bgcolor": "white",
           "lakecolor": "white",
           "landcolor": "#E5ECF6",
           "showlakes": true,
           "showland": true,
           "subunitcolor": "white"
          },
          "hoverlabel": {
           "align": "left"
          },
          "hovermode": "closest",
          "mapbox": {
           "style": "light"
          },
          "paper_bgcolor": "white",
          "plot_bgcolor": "#E5ECF6",
          "polar": {
           "angularaxis": {
            "gridcolor": "white",
            "linecolor": "white",
            "ticks": ""
           },
           "bgcolor": "#E5ECF6",
           "radialaxis": {
            "gridcolor": "white",
            "linecolor": "white",
            "ticks": ""
           }
          },
          "scene": {
           "xaxis": {
            "backgroundcolor": "#E5ECF6",
            "gridcolor": "white",
            "gridwidth": 2,
            "linecolor": "white",
            "showbackground": true,
            "ticks": "",
            "zerolinecolor": "white"
           },
           "yaxis": {
            "backgroundcolor": "#E5ECF6",
            "gridcolor": "white",
            "gridwidth": 2,
            "linecolor": "white",
            "showbackground": true,
            "ticks": "",
            "zerolinecolor": "white"
           },
           "zaxis": {
            "backgroundcolor": "#E5ECF6",
            "gridcolor": "white",
            "gridwidth": 2,
            "linecolor": "white",
            "showbackground": true,
            "ticks": "",
            "zerolinecolor": "white"
           }
          },
          "shapedefaults": {
           "line": {
            "color": "#2a3f5f"
           }
          },
          "ternary": {
           "aaxis": {
            "gridcolor": "white",
            "linecolor": "white",
            "ticks": ""
           },
           "baxis": {
            "gridcolor": "white",
            "linecolor": "white",
            "ticks": ""
           },
           "bgcolor": "#E5ECF6",
           "caxis": {
            "gridcolor": "white",
            "linecolor": "white",
            "ticks": ""
           }
          },
          "title": {
           "x": 0.05
          },
          "xaxis": {
           "automargin": true,
           "gridcolor": "white",
           "linecolor": "white",
           "ticks": "",
           "title": {
            "standoff": 15
           },
           "zerolinecolor": "white",
           "zerolinewidth": 2
          },
          "yaxis": {
           "automargin": true,
           "gridcolor": "white",
           "linecolor": "white",
           "ticks": "",
           "title": {
            "standoff": 15
           },
           "zerolinecolor": "white",
           "zerolinewidth": 2
          }
         }
        },
        "title": {
         "text": "2D Chroma Vector Store Visualization"
        },
        "width": 800,
        "xaxis": {
         "autorange": true,
         "range": [
          -4.4603777741503245,
          1.1373417141503244
         ],
         "type": "linear"
        },
        "yaxis": {
         "autorange": true,
         "range": [
          -1.3656552336091494,
          4.806117733609149
         ],
         "type": "linear"
        }
       }
      },
      "text/html": [
       "<div>                            <div id=\"8023df70-79a0-407a-9240-ed4d40eb28e9\" class=\"plotly-graph-div\" style=\"height:600px; width:800px;\"></div>            <script type=\"text/javascript\">                require([\"plotly\"], function(Plotly) {                    window.PLOTLYENV=window.PLOTLYENV || {};                                    if (document.getElementById(\"8023df70-79a0-407a-9240-ed4d40eb28e9\")) {                    Plotly.newPlot(                        \"8023df70-79a0-407a-9240-ed4d40eb28e9\",                        [{\"hoverinfo\":\"text\",\"marker\":{\"color\":[\"orange\",\"orange\",\"orange\",\"orange\",\"orange\",\"orange\",\"orange\",\"red\",\"red\",\"red\",\"red\",\"red\",\"red\",\"red\",\"red\",\"red\",\"red\",\"red\",\"red\",\"red\",\"red\",\"red\",\"red\",\"red\",\"red\",\"red\",\"red\",\"red\",\"red\",\"red\",\"red\",\"green\",\"green\",\"green\",\"green\",\"green\",\"green\",\"green\",\"green\",\"green\",\"green\",\"green\",\"green\",\"green\",\"green\",\"green\",\"green\",\"green\",\"green\",\"green\",\"green\",\"green\",\"green\",\"green\",\"green\",\"blue\",\"blue\",\"blue\",\"blue\"],\"opacity\":0.8,\"size\":5},\"mode\":\"markers\",\"text\":[\"Type: company\\u003cbr\\u003eText: # About Chain Reactions Africa\\nChain Reactions Africa is a strategic communications and public relat...\",\"Type: company\\u003cbr\\u003eText: # Careers at Chain Reactions\\nAt Chain Reactions Africa, we foster a dynamic workplace where creativi...\",\"Type: company\\u003cbr\\u003eText: # Israel “Jaiye” Opayemi – CEO of Chain Reactions Africa\\n\\n## 👤 About\\nIsrael Opayemi is the **Managin...\",\"Type: company\\u003cbr\\u003eText: ## 🏆 Achievements\\n\\n### SABRE Awards\\n- **2024**: 7 trophies for campaigns including Lagos Blue Rail, ...\",\"Type: company\\u003cbr\\u003eText: - **LaPRIGA 2023**:\\n  - PR Practitioner of the Year – Israel Opayemi\\n  - Best in Risk and Political ...\",\"Type: company\\u003cbr\\u003eText: # Our Mission\\nTo be the most innovative and effective public relations firm in Africa, helping brand...\",\"Type: company\\u003cbr\\u003eText: # Company Overview\\nChain Reactions Africa partners with corporations, governments, and institutions ...\",\"Type: contracts\\u003cbr\\u003eText: # Contract with ClientCorp 1 Ltd.\\n\\n## Terms\\n\\n1. *Parties Involved*: This agreement is between Chain ...\",\"Type: contracts\\u003cbr\\u003eText: ---\\n\\n**Signatures**\\n\\n*Chain Reactions Africa*  \\n_____________________________  \\nAuthorized Signature...\",\"Type: contracts\\u003cbr\\u003eText: # Contract with ClientCorp 10 Ltd.\\n\\n## Terms\\n\\n1. *Parties Involved*: This agreement is between Chain...\",\"Type: contracts\\u003cbr\\u003eText: ---\\n\\n**Signatures**\\n\\n*Chain Reactions Africa*  \\n_____________________________  \\nAuthorized Signature...\",\"Type: contracts\\u003cbr\\u003eText: # Contract with ClientCorp 11 Ltd.\\n\\n## Terms\\n\\n1. *Parties Involved*: This agreement is between Chain...\",\"Type: contracts\\u003cbr\\u003eText: ---\\n\\n**Signatures**\\n\\n*Chain Reactions Africa*  \\n_____________________________  \\nAuthorized Signature...\",\"Type: contracts\\u003cbr\\u003eText: # Contract with ClientCorp 12 Ltd.\\n\\n## Terms\\n\\n1. *Parties Involved*: This agreement is between Chain...\",\"Type: contracts\\u003cbr\\u003eText: ---\\n\\n**Signatures**\\n\\n*Chain Reactions Africa*  \\n_____________________________  \\nAuthorized Signature...\",\"Type: contracts\\u003cbr\\u003eText: # Contract with ClientCorp 2 Ltd.\\n\\n## Terms\\n\\n1. *Parties Involved*: This agreement is between Chain ...\",\"Type: contracts\\u003cbr\\u003eText: ---\\n\\n**Signatures**\\n\\n*Chain Reactions Africa*  \\n_____________________________  \\nAuthorized Signature...\",\"Type: contracts\\u003cbr\\u003eText: # Contract with ClientCorp 3 Ltd.\\n\\n## Terms\\n\\n1. *Parties Involved*: This agreement is between Chain ...\",\"Type: contracts\\u003cbr\\u003eText: ---\\n\\n**Signatures**\\n\\n*Chain Reactions Africa*  \\n_____________________________  \\nAuthorized Signature...\",\"Type: contracts\\u003cbr\\u003eText: # Contract with ClientCorp 4 Ltd.\\n\\n## Terms\\n\\n1. *Parties Involved*: This agreement is between Chain ...\",\"Type: contracts\\u003cbr\\u003eText: ---\\n\\n**Signatures**\\n\\n*Chain Reactions Africa*  \\n_____________________________  \\nAuthorized Signature...\",\"Type: contracts\\u003cbr\\u003eText: # Contract with ClientCorp 5 Ltd.\\n\\n## Terms\\n\\n1. *Parties Involved*: This agreement is between Chain ...\",\"Type: contracts\\u003cbr\\u003eText: ---\\n\\n**Signatures**\\n\\n*Chain Reactions Africa*  \\n_____________________________  \\nAuthorized Signature...\",\"Type: contracts\\u003cbr\\u003eText: # Contract with ClientCorp 6 Ltd.\\n\\n## Terms\\n\\n1. *Parties Involved*: This agreement is between Chain ...\",\"Type: contracts\\u003cbr\\u003eText: ---\\n\\n**Signatures**\\n\\n*Chain Reactions Africa*  \\n_____________________________  \\nAuthorized Signature...\",\"Type: contracts\\u003cbr\\u003eText: # Contract with ClientCorp 7 Ltd.\\n\\n## Terms\\n\\n1. *Parties Involved*: This agreement is between Chain ...\",\"Type: contracts\\u003cbr\\u003eText: ---\\n\\n**Signatures**\\n\\n*Chain Reactions Africa*  \\n_____________________________  \\nAuthorized Signature...\",\"Type: contracts\\u003cbr\\u003eText: # Contract with ClientCorp 8 Ltd.\\n\\n## Terms\\n\\n1. *Parties Involved*: This agreement is between Chain ...\",\"Type: contracts\\u003cbr\\u003eText: ---\\n\\n**Signatures**\\n\\n*Chain Reactions Africa*  \\n_____________________________  \\nAuthorized Signature...\",\"Type: contracts\\u003cbr\\u003eText: # Contract with ClientCorp 9 Ltd.\\n\\n## Terms\\n\\n1. *Parties Involved*: This agreement is between Chain ...\",\"Type: contracts\\u003cbr\\u003eText: ---\\n\\n**Signatures**\\n\\n*Chain Reactions Africa*  \\n_____________________________  \\nAuthorized Signature...\",\"Type: employees\\u003cbr\\u003eText: # HR Record\\n\\n# Anne Mccarty\\n\\n## Summary\\n- *Date of Birth:* June 13, 1991  \\n- *Job Title:* PR Campaig...\",\"Type: employees\\u003cbr\\u003eText: - *2023:*  \\n  - Managed multi-stakeholder project with 95% delivery efficiency.  \\n  - Trained two ju...\",\"Type: employees\\u003cbr\\u003eText: # HR Record\\n\\n# Dylan Morgan\\n\\n## Summary\\n- *Date of Birth:* April 17, 1974  \\n- *Job Title:* Digital C...\",\"Type: employees\\u003cbr\\u003eText: - *2024:*  \\n  - Managed multi-stakeholder project with 95% delivery efficiency.  \\n  - Trained two ju...\",\"Type: employees\\u003cbr\\u003eText: # HR Record\\n\\n# Danielle Johnson\\n\\n## Summary\\n- *Date of Birth:* June 28, 1987  \\n- *Job Title:* Media ...\",\"Type: employees\\u003cbr\\u003eText: - *2025:*  \\n  - Managed multi-stakeholder project with 95% delivery efficiency.  \\n  - Trained two ju...\",\"Type: employees\\u003cbr\\u003eText: # HR Record\\n\\n# Larry Peterson\\n\\n## Summary\\n- *Date of Birth:* January 14, 1972  \\n- *Job Title:* Digit...\",\"Type: employees\\u003cbr\\u003eText: - *2022:*  \\n  - Managed multi-stakeholder project with 95% delivery efficiency.  \\n  - Trained two ju...\",\"Type: employees\\u003cbr\\u003eText: # HR Record\\n\\n# Stephen Matthews\\n\\n## Summary\\n- *Date of Birth:* September 17, 1998  \\n- *Job Title:* C...\",\"Type: employees\\u003cbr\\u003eText: - *2024:*  \\n  - Managed multi-stakeholder project with 95% delivery efficiency.  \\n  - Trained two ju...\",\"Type: employees\\u003cbr\\u003eText: # HR Record\\n\\n# Anna Barker\\n\\n## Summary\\n- *Date of Birth:* September 08, 1975  \\n- *Job Title:* Brand ...\",\"Type: employees\\u003cbr\\u003eText: - *2025:*  \\n  - Managed multi-stakeholder project with 95% delivery efficiency.  \\n  - Trained two ju...\",\"Type: employees\\u003cbr\\u003eText: # HR Record\\n\\n# Abigail Espinoza\\n\\n## Summary\\n- *Date of Birth:* February 08, 1986  \\n- *Job Title:* Me...\",\"Type: employees\\u003cbr\\u003eText: - *2022:*  \\n  - Managed multi-stakeholder project with 95% delivery efficiency.  \\n  - Trained two ju...\",\"Type: employees\\u003cbr\\u003eText: # HR Record\\n\\n# Catherine Jones\\n\\n## Summary\\n- *Date of Birth:* September 01, 1969  \\n- *Job Title:* Cl...\",\"Type: employees\\u003cbr\\u003eText: - *2023:*  \\n  - Managed multi-stakeholder project with 95% delivery efficiency.  \\n  - Trained two ju...\",\"Type: employees\\u003cbr\\u003eText: # HR Record\\n\\n# Manuel Pierce\\n\\n## Summary\\n- *Date of Birth:* January 02, 1988  \\n- *Job Title:* Brand ...\",\"Type: employees\\u003cbr\\u003eText: - *2024:*  \\n  - Managed multi-stakeholder project with 95% delivery efficiency.  \\n  - Trained two ju...\",\"Type: employees\\u003cbr\\u003eText: # HR Record\\n\\n# Hannah Daniels\\n\\n## Summary\\n- *Date of Birth:* May 07, 2000  \\n- *Job Title:* Client Se...\",\"Type: employees\\u003cbr\\u003eText: - *2025:*  \\n  - Managed multi-stakeholder project with 95% delivery efficiency.  \\n  - Trained two ju...\",\"Type: employees\\u003cbr\\u003eText: # HR Record\\n\\n# John Anderson Jr.\\n\\n## Summary\\n- *Date of Birth:* January 30, 1972  \\n- *Job Title:* Br...\",\"Type: employees\\u003cbr\\u003eText: - *2022:*  \\n  - Managed multi-stakeholder project with 95% delivery efficiency.  \\n  - Trained two ju...\",\"Type: employees\\u003cbr\\u003eText: # HR Record\\n\\n# James Martinez\\n\\n## Summary\\n- *Date of Birth:* September 10, 1996  \\n- *Job Title:* PR ...\",\"Type: employees\\u003cbr\\u003eText: - *2023:*  \\n  - Managed multi-stakeholder project with 95% delivery efficiency.  \\n  - Trained two ju...\",\"Type: products\\u003cbr\\u003eText: # Product Summary\\n\\n# Brand Strategy\\n\\n## Summary\\n\\nBrand Strategy is one of Chain Reactions Africa’s l...\",\"Type: products\\u003cbr\\u003eText: # Product Summary\\n\\n# Crisis Management\\n\\n## Summary\\n\\nCrisis Management is one of Chain Reactions Afri...\",\"Type: products\\u003cbr\\u003eText: # Product Summary\\n\\n# Digital Campaigns\\n\\n## Summary\\n\\nDigital Campaigns is one of Chain Reactions Afri...\",\"Type: products\\u003cbr\\u003eText: # Product Summary\\n\\n# Media Relations\\n\\n## Summary\\n\\nMedia Relations is one of Chain Reactions Africa’s...\"],\"x\":[0.7776262,0.83419394,-0.101247475,-0.24980041,-0.15791173,0.59583765,0.7227787,-1.3527473,0.40768233,-1.4887359,0.75465554,-1.4540838,0.63583606,-1.4569921,0.59101415,-1.4521084,0.33632946,-1.0978583,0.33906704,-1.4152004,0.32207772,-1.3685845,0.43118826,-1.1740854,0.62835234,-1.1410874,0.72111315,-1.0992386,0.7224115,-1.2177933,0.7784998,-4.15723,-2.9772158,-3.584247,-2.272312,-3.7113645,-2.5599277,-3.5686905,-2.2699757,-4.087653,-2.376769,-4.1238914,-3.0206773,-3.5160177,-2.4303236,-4.0662417,-2.6071677,-3.7508945,-2.398977,-3.979763,-2.629089,-3.7032125,-2.5010116,-4.0057974,-2.775476,-0.6214575,-0.656383,-0.7251523,-0.66926026],\"y\":[1.8051975,1.7760015,-0.2941461,-0.43560347,-0.3339836,1.2237312,1.747549,2.9975088,4.1368318,3.0867639,4.0869713,2.7826626,4.0403767,2.7102058,4.025276,2.7438166,4.3080487,2.7861848,4.390056,3.0987306,4.3645306,3.0939898,4.4614115,2.9528267,4.457174,2.8229356,4.3987546,2.8146749,4.0785594,2.7144144,4.1108212,0.24565019,-0.9235411,1.0853937,-0.5317166,0.9314473,-0.51277286,1.2903887,-1.020949,0.93142337,-0.65512216,0.17009643,-0.75803906,0.8730087,-1.0207242,1.0160766,-0.75036454,0.51688296,-0.77778053,0.92088103,-0.47066832,0.6811559,-0.6594054,0.4640042,-0.9626836,1.2022824,1.2202467,1.272877,1.246098],\"type\":\"scatter\"}],                        {\"template\":{\"data\":{\"histogram2dcontour\":[{\"type\":\"histogram2dcontour\",\"colorbar\":{\"outlinewidth\":0,\"ticks\":\"\"},\"colorscale\":[[0.0,\"#0d0887\"],[0.1111111111111111,\"#46039f\"],[0.2222222222222222,\"#7201a8\"],[0.3333333333333333,\"#9c179e\"],[0.4444444444444444,\"#bd3786\"],[0.5555555555555556,\"#d8576b\"],[0.6666666666666666,\"#ed7953\"],[0.7777777777777778,\"#fb9f3a\"],[0.8888888888888888,\"#fdca26\"],[1.0,\"#f0f921\"]]}],\"choropleth\":[{\"type\":\"choropleth\",\"colorbar\":{\"outlinewidth\":0,\"ticks\":\"\"}}],\"histogram2d\":[{\"type\":\"histogram2d\",\"colorbar\":{\"outlinewidth\":0,\"ticks\":\"\"},\"colorscale\":[[0.0,\"#0d0887\"],[0.1111111111111111,\"#46039f\"],[0.2222222222222222,\"#7201a8\"],[0.3333333333333333,\"#9c179e\"],[0.4444444444444444,\"#bd3786\"],[0.5555555555555556,\"#d8576b\"],[0.6666666666666666,\"#ed7953\"],[0.7777777777777778,\"#fb9f3a\"],[0.8888888888888888,\"#fdca26\"],[1.0,\"#f0f921\"]]}],\"heatmap\":[{\"type\":\"heatmap\",\"colorbar\":{\"outlinewidth\":0,\"ticks\":\"\"},\"colorscale\":[[0.0,\"#0d0887\"],[0.1111111111111111,\"#46039f\"],[0.2222222222222222,\"#7201a8\"],[0.3333333333333333,\"#9c179e\"],[0.4444444444444444,\"#bd3786\"],[0.5555555555555556,\"#d8576b\"],[0.6666666666666666,\"#ed7953\"],[0.7777777777777778,\"#fb9f3a\"],[0.8888888888888888,\"#fdca26\"],[1.0,\"#f0f921\"]]}],\"heatmapgl\":[{\"type\":\"heatmapgl\",\"colorbar\":{\"outlinewidth\":0,\"ticks\":\"\"},\"colorscale\":[[0.0,\"#0d0887\"],[0.1111111111111111,\"#46039f\"],[0.2222222222222222,\"#7201a8\"],[0.3333333333333333,\"#9c179e\"],[0.4444444444444444,\"#bd3786\"],[0.5555555555555556,\"#d8576b\"],[0.6666666666666666,\"#ed7953\"],[0.7777777777777778,\"#fb9f3a\"],[0.8888888888888888,\"#fdca26\"],[1.0,\"#f0f921\"]]}],\"contourcarpet\":[{\"type\":\"contourcarpet\",\"colorbar\":{\"outlinewidth\":0,\"ticks\":\"\"}}],\"contour\":[{\"type\":\"contour\",\"colorbar\":{\"outlinewidth\":0,\"ticks\":\"\"},\"colorscale\":[[0.0,\"#0d0887\"],[0.1111111111111111,\"#46039f\"],[0.2222222222222222,\"#7201a8\"],[0.3333333333333333,\"#9c179e\"],[0.4444444444444444,\"#bd3786\"],[0.5555555555555556,\"#d8576b\"],[0.6666666666666666,\"#ed7953\"],[0.7777777777777778,\"#fb9f3a\"],[0.8888888888888888,\"#fdca26\"],[1.0,\"#f0f921\"]]}],\"surface\":[{\"type\":\"surface\",\"colorbar\":{\"outlinewidth\":0,\"ticks\":\"\"},\"colorscale\":[[0.0,\"#0d0887\"],[0.1111111111111111,\"#46039f\"],[0.2222222222222222,\"#7201a8\"],[0.3333333333333333,\"#9c179e\"],[0.4444444444444444,\"#bd3786\"],[0.5555555555555556,\"#d8576b\"],[0.6666666666666666,\"#ed7953\"],[0.7777777777777778,\"#fb9f3a\"],[0.8888888888888888,\"#fdca26\"],[1.0,\"#f0f921\"]]}],\"mesh3d\":[{\"type\":\"mesh3d\",\"colorbar\":{\"outlinewidth\":0,\"ticks\":\"\"}}],\"scatter\":[{\"fillpattern\":{\"fillmode\":\"overlay\",\"size\":10,\"solidity\":0.2},\"type\":\"scatter\"}],\"parcoords\":[{\"type\":\"parcoords\",\"line\":{\"colorbar\":{\"outlinewidth\":0,\"ticks\":\"\"}}}],\"scatterpolargl\":[{\"type\":\"scatterpolargl\",\"marker\":{\"colorbar\":{\"outlinewidth\":0,\"ticks\":\"\"}}}],\"bar\":[{\"error_x\":{\"color\":\"#2a3f5f\"},\"error_y\":{\"color\":\"#2a3f5f\"},\"marker\":{\"line\":{\"color\":\"#E5ECF6\",\"width\":0.5},\"pattern\":{\"fillmode\":\"overlay\",\"size\":10,\"solidity\":0.2}},\"type\":\"bar\"}],\"scattergeo\":[{\"type\":\"scattergeo\",\"marker\":{\"colorbar\":{\"outlinewidth\":0,\"ticks\":\"\"}}}],\"scatterpolar\":[{\"type\":\"scatterpolar\",\"marker\":{\"colorbar\":{\"outlinewidth\":0,\"ticks\":\"\"}}}],\"histogram\":[{\"marker\":{\"pattern\":{\"fillmode\":\"overlay\",\"size\":10,\"solidity\":0.2}},\"type\":\"histogram\"}],\"scattergl\":[{\"type\":\"scattergl\",\"marker\":{\"colorbar\":{\"outlinewidth\":0,\"ticks\":\"\"}}}],\"scatter3d\":[{\"type\":\"scatter3d\",\"line\":{\"colorbar\":{\"outlinewidth\":0,\"ticks\":\"\"}},\"marker\":{\"colorbar\":{\"outlinewidth\":0,\"ticks\":\"\"}}}],\"scattermapbox\":[{\"type\":\"scattermapbox\",\"marker\":{\"colorbar\":{\"outlinewidth\":0,\"ticks\":\"\"}}}],\"scatterternary\":[{\"type\":\"scatterternary\",\"marker\":{\"colorbar\":{\"outlinewidth\":0,\"ticks\":\"\"}}}],\"scattercarpet\":[{\"type\":\"scattercarpet\",\"marker\":{\"colorbar\":{\"outlinewidth\":0,\"ticks\":\"\"}}}],\"carpet\":[{\"aaxis\":{\"endlinecolor\":\"#2a3f5f\",\"gridcolor\":\"white\",\"linecolor\":\"white\",\"minorgridcolor\":\"white\",\"startlinecolor\":\"#2a3f5f\"},\"baxis\":{\"endlinecolor\":\"#2a3f5f\",\"gridcolor\":\"white\",\"linecolor\":\"white\",\"minorgridcolor\":\"white\",\"startlinecolor\":\"#2a3f5f\"},\"type\":\"carpet\"}],\"table\":[{\"cells\":{\"fill\":{\"color\":\"#EBF0F8\"},\"line\":{\"color\":\"white\"}},\"header\":{\"fill\":{\"color\":\"#C8D4E3\"},\"line\":{\"color\":\"white\"}},\"type\":\"table\"}],\"barpolar\":[{\"marker\":{\"line\":{\"color\":\"#E5ECF6\",\"width\":0.5},\"pattern\":{\"fillmode\":\"overlay\",\"size\":10,\"solidity\":0.2}},\"type\":\"barpolar\"}],\"pie\":[{\"automargin\":true,\"type\":\"pie\"}]},\"layout\":{\"autotypenumbers\":\"strict\",\"colorway\":[\"#636efa\",\"#EF553B\",\"#00cc96\",\"#ab63fa\",\"#FFA15A\",\"#19d3f3\",\"#FF6692\",\"#B6E880\",\"#FF97FF\",\"#FECB52\"],\"font\":{\"color\":\"#2a3f5f\"},\"hovermode\":\"closest\",\"hoverlabel\":{\"align\":\"left\"},\"paper_bgcolor\":\"white\",\"plot_bgcolor\":\"#E5ECF6\",\"polar\":{\"bgcolor\":\"#E5ECF6\",\"angularaxis\":{\"gridcolor\":\"white\",\"linecolor\":\"white\",\"ticks\":\"\"},\"radialaxis\":{\"gridcolor\":\"white\",\"linecolor\":\"white\",\"ticks\":\"\"}},\"ternary\":{\"bgcolor\":\"#E5ECF6\",\"aaxis\":{\"gridcolor\":\"white\",\"linecolor\":\"white\",\"ticks\":\"\"},\"baxis\":{\"gridcolor\":\"white\",\"linecolor\":\"white\",\"ticks\":\"\"},\"caxis\":{\"gridcolor\":\"white\",\"linecolor\":\"white\",\"ticks\":\"\"}},\"coloraxis\":{\"colorbar\":{\"outlinewidth\":0,\"ticks\":\"\"}},\"colorscale\":{\"sequential\":[[0.0,\"#0d0887\"],[0.1111111111111111,\"#46039f\"],[0.2222222222222222,\"#7201a8\"],[0.3333333333333333,\"#9c179e\"],[0.4444444444444444,\"#bd3786\"],[0.5555555555555556,\"#d8576b\"],[0.6666666666666666,\"#ed7953\"],[0.7777777777777778,\"#fb9f3a\"],[0.8888888888888888,\"#fdca26\"],[1.0,\"#f0f921\"]],\"sequentialminus\":[[0.0,\"#0d0887\"],[0.1111111111111111,\"#46039f\"],[0.2222222222222222,\"#7201a8\"],[0.3333333333333333,\"#9c179e\"],[0.4444444444444444,\"#bd3786\"],[0.5555555555555556,\"#d8576b\"],[0.6666666666666666,\"#ed7953\"],[0.7777777777777778,\"#fb9f3a\"],[0.8888888888888888,\"#fdca26\"],[1.0,\"#f0f921\"]],\"diverging\":[[0,\"#8e0152\"],[0.1,\"#c51b7d\"],[0.2,\"#de77ae\"],[0.3,\"#f1b6da\"],[0.4,\"#fde0ef\"],[0.5,\"#f7f7f7\"],[0.6,\"#e6f5d0\"],[0.7,\"#b8e186\"],[0.8,\"#7fbc41\"],[0.9,\"#4d9221\"],[1,\"#276419\"]]},\"xaxis\":{\"gridcolor\":\"white\",\"linecolor\":\"white\",\"ticks\":\"\",\"title\":{\"standoff\":15},\"zerolinecolor\":\"white\",\"automargin\":true,\"zerolinewidth\":2},\"yaxis\":{\"gridcolor\":\"white\",\"linecolor\":\"white\",\"ticks\":\"\",\"title\":{\"standoff\":15},\"zerolinecolor\":\"white\",\"automargin\":true,\"zerolinewidth\":2},\"scene\":{\"xaxis\":{\"backgroundcolor\":\"#E5ECF6\",\"gridcolor\":\"white\",\"linecolor\":\"white\",\"showbackground\":true,\"ticks\":\"\",\"zerolinecolor\":\"white\",\"gridwidth\":2},\"yaxis\":{\"backgroundcolor\":\"#E5ECF6\",\"gridcolor\":\"white\",\"linecolor\":\"white\",\"showbackground\":true,\"ticks\":\"\",\"zerolinecolor\":\"white\",\"gridwidth\":2},\"zaxis\":{\"backgroundcolor\":\"#E5ECF6\",\"gridcolor\":\"white\",\"linecolor\":\"white\",\"showbackground\":true,\"ticks\":\"\",\"zerolinecolor\":\"white\",\"gridwidth\":2}},\"shapedefaults\":{\"line\":{\"color\":\"#2a3f5f\"}},\"annotationdefaults\":{\"arrowcolor\":\"#2a3f5f\",\"arrowhead\":0,\"arrowwidth\":1},\"geo\":{\"bgcolor\":\"white\",\"landcolor\":\"#E5ECF6\",\"subunitcolor\":\"white\",\"showland\":true,\"showlakes\":true,\"lakecolor\":\"white\"},\"title\":{\"x\":0.05},\"mapbox\":{\"style\":\"light\"}}},\"margin\":{\"r\":20,\"b\":10,\"l\":10,\"t\":40},\"title\":{\"text\":\"2D Chroma Vector Store Visualization\"},\"scene\":{\"xaxis\":{\"title\":{\"text\":\"x\"}},\"yaxis\":{\"title\":{\"text\":\"y\"}}},\"width\":800,\"height\":600},                        {\"responsive\": true}                    ).then(function(){\n",
       "                            \n",
       "var gd = document.getElementById('8023df70-79a0-407a-9240-ed4d40eb28e9');\n",
       "var x = new MutationObserver(function (mutations, observer) {{\n",
       "        var display = window.getComputedStyle(gd).display;\n",
       "        if (!display || display === 'none') {{\n",
       "            console.log([gd, 'removed!']);\n",
       "            Plotly.purge(gd);\n",
       "            observer.disconnect();\n",
       "        }}\n",
       "}});\n",
       "\n",
       "// Listen for the removal of the full notebook cells\n",
       "var notebookContainer = gd.closest('#notebook-container');\n",
       "if (notebookContainer) {{\n",
       "    x.observe(notebookContainer, {childList: true});\n",
       "}}\n",
       "\n",
       "// Listen for the clearing of the current output cell\n",
       "var outputEl = gd.closest('.output');\n",
       "if (outputEl) {{\n",
       "    x.observe(outputEl, {childList: true});\n",
       "}}\n",
       "\n",
       "                        })                };                });            </script>        </div>"
      ]
     },
     "metadata": {},
     "output_type": "display_data"
    }
   ],
   "source": [
    "# Initialize t-SNE for dimensionality reduction\n",
    "tsne = TSNE(n_components=2, random_state=42)\n",
    "reduced_vectors = tsne.fit_transform(vectors)\n",
    "\n",
    "# Create the 2D scatter plot using Plotly\n",
    "fig = go.Figure(data=[go.Scatter(\n",
    "    x=reduced_vectors[:, 0],\n",
    "    y=reduced_vectors[:, 1],\n",
    "    mode='markers',\n",
    "    marker=dict(size=5, color=colors, opacity=0.8),\n",
    "    text=[f\"Type: {t}<br>Text: {d[:100]}...\" for t, d in zip(doc_types, documents)],\n",
    "    hoverinfo='text'\n",
    ")])\n",
    "\n",
    "fig.update_layout(\n",
    "    title='2D Chroma Vector Store Visualization',\n",
    "    scene=dict(xaxis_title='x', yaxis_title='y'),\n",
    "    width=800,\n",
    "    height=600,\n",
    "    margin=dict(r=20, b=10, l=10, t=40)\n",
    ")\n",
    "\n",
    "fig.show()"
   ]
  },
  {
   "cell_type": "code",
   "execution_count": 30,
   "id": "d320fba6-e8ed-42b1-9127-448e3fb2567d",
   "metadata": {},
   "outputs": [
    {
     "data": {
      "application/vnd.plotly.v1+json": {
       "config": {
        "plotlyServerURL": "https://plot.ly"
       },
       "data": [
        {
         "hoverinfo": "text",
         "marker": {
          "color": [
           "orange",
           "orange",
           "orange",
           "orange",
           "orange",
           "orange",
           "orange",
           "red",
           "red",
           "red",
           "red",
           "red",
           "red",
           "red",
           "red",
           "red",
           "red",
           "red",
           "red",
           "red",
           "red",
           "red",
           "red",
           "red",
           "red",
           "red",
           "red",
           "red",
           "red",
           "red",
           "red",
           "green",
           "green",
           "green",
           "green",
           "green",
           "green",
           "green",
           "green",
           "green",
           "green",
           "green",
           "green",
           "green",
           "green",
           "green",
           "green",
           "green",
           "green",
           "green",
           "green",
           "green",
           "green",
           "green",
           "green",
           "blue",
           "blue",
           "blue",
           "blue"
          ],
          "opacity": 0.8,
          "size": 5
         },
         "mode": "markers",
         "text": [
          "Type: company<br>Text: # About Chain Reactions Africa\nChain Reactions Africa is a strategic communications and public relat...",
          "Type: company<br>Text: # Careers at Chain Reactions\nAt Chain Reactions Africa, we foster a dynamic workplace where creativi...",
          "Type: company<br>Text: # Israel “Jaiye” Opayemi – CEO of Chain Reactions Africa\n\n## 👤 About\nIsrael Opayemi is the **Managin...",
          "Type: company<br>Text: ## 🏆 Achievements\n\n### SABRE Awards\n- **2024**: 7 trophies for campaigns including Lagos Blue Rail, ...",
          "Type: company<br>Text: - **LaPRIGA 2023**:\n  - PR Practitioner of the Year – Israel Opayemi\n  - Best in Risk and Political ...",
          "Type: company<br>Text: # Our Mission\nTo be the most innovative and effective public relations firm in Africa, helping brand...",
          "Type: company<br>Text: # Company Overview\nChain Reactions Africa partners with corporations, governments, and institutions ...",
          "Type: contracts<br>Text: # Contract with ClientCorp 1 Ltd.\n\n## Terms\n\n1. *Parties Involved*: This agreement is between Chain ...",
          "Type: contracts<br>Text: ---\n\n**Signatures**\n\n*Chain Reactions Africa*  \n_____________________________  \nAuthorized Signature...",
          "Type: contracts<br>Text: # Contract with ClientCorp 10 Ltd.\n\n## Terms\n\n1. *Parties Involved*: This agreement is between Chain...",
          "Type: contracts<br>Text: ---\n\n**Signatures**\n\n*Chain Reactions Africa*  \n_____________________________  \nAuthorized Signature...",
          "Type: contracts<br>Text: # Contract with ClientCorp 11 Ltd.\n\n## Terms\n\n1. *Parties Involved*: This agreement is between Chain...",
          "Type: contracts<br>Text: ---\n\n**Signatures**\n\n*Chain Reactions Africa*  \n_____________________________  \nAuthorized Signature...",
          "Type: contracts<br>Text: # Contract with ClientCorp 12 Ltd.\n\n## Terms\n\n1. *Parties Involved*: This agreement is between Chain...",
          "Type: contracts<br>Text: ---\n\n**Signatures**\n\n*Chain Reactions Africa*  \n_____________________________  \nAuthorized Signature...",
          "Type: contracts<br>Text: # Contract with ClientCorp 2 Ltd.\n\n## Terms\n\n1. *Parties Involved*: This agreement is between Chain ...",
          "Type: contracts<br>Text: ---\n\n**Signatures**\n\n*Chain Reactions Africa*  \n_____________________________  \nAuthorized Signature...",
          "Type: contracts<br>Text: # Contract with ClientCorp 3 Ltd.\n\n## Terms\n\n1. *Parties Involved*: This agreement is between Chain ...",
          "Type: contracts<br>Text: ---\n\n**Signatures**\n\n*Chain Reactions Africa*  \n_____________________________  \nAuthorized Signature...",
          "Type: contracts<br>Text: # Contract with ClientCorp 4 Ltd.\n\n## Terms\n\n1. *Parties Involved*: This agreement is between Chain ...",
          "Type: contracts<br>Text: ---\n\n**Signatures**\n\n*Chain Reactions Africa*  \n_____________________________  \nAuthorized Signature...",
          "Type: contracts<br>Text: # Contract with ClientCorp 5 Ltd.\n\n## Terms\n\n1. *Parties Involved*: This agreement is between Chain ...",
          "Type: contracts<br>Text: ---\n\n**Signatures**\n\n*Chain Reactions Africa*  \n_____________________________  \nAuthorized Signature...",
          "Type: contracts<br>Text: # Contract with ClientCorp 6 Ltd.\n\n## Terms\n\n1. *Parties Involved*: This agreement is between Chain ...",
          "Type: contracts<br>Text: ---\n\n**Signatures**\n\n*Chain Reactions Africa*  \n_____________________________  \nAuthorized Signature...",
          "Type: contracts<br>Text: # Contract with ClientCorp 7 Ltd.\n\n## Terms\n\n1. *Parties Involved*: This agreement is between Chain ...",
          "Type: contracts<br>Text: ---\n\n**Signatures**\n\n*Chain Reactions Africa*  \n_____________________________  \nAuthorized Signature...",
          "Type: contracts<br>Text: # Contract with ClientCorp 8 Ltd.\n\n## Terms\n\n1. *Parties Involved*: This agreement is between Chain ...",
          "Type: contracts<br>Text: ---\n\n**Signatures**\n\n*Chain Reactions Africa*  \n_____________________________  \nAuthorized Signature...",
          "Type: contracts<br>Text: # Contract with ClientCorp 9 Ltd.\n\n## Terms\n\n1. *Parties Involved*: This agreement is between Chain ...",
          "Type: contracts<br>Text: ---\n\n**Signatures**\n\n*Chain Reactions Africa*  \n_____________________________  \nAuthorized Signature...",
          "Type: employees<br>Text: # HR Record\n\n# Anne Mccarty\n\n## Summary\n- *Date of Birth:* June 13, 1991  \n- *Job Title:* PR Campaig...",
          "Type: employees<br>Text: - *2023:*  \n  - Managed multi-stakeholder project with 95% delivery efficiency.  \n  - Trained two ju...",
          "Type: employees<br>Text: # HR Record\n\n# Dylan Morgan\n\n## Summary\n- *Date of Birth:* April 17, 1974  \n- *Job Title:* Digital C...",
          "Type: employees<br>Text: - *2024:*  \n  - Managed multi-stakeholder project with 95% delivery efficiency.  \n  - Trained two ju...",
          "Type: employees<br>Text: # HR Record\n\n# Danielle Johnson\n\n## Summary\n- *Date of Birth:* June 28, 1987  \n- *Job Title:* Media ...",
          "Type: employees<br>Text: - *2025:*  \n  - Managed multi-stakeholder project with 95% delivery efficiency.  \n  - Trained two ju...",
          "Type: employees<br>Text: # HR Record\n\n# Larry Peterson\n\n## Summary\n- *Date of Birth:* January 14, 1972  \n- *Job Title:* Digit...",
          "Type: employees<br>Text: - *2022:*  \n  - Managed multi-stakeholder project with 95% delivery efficiency.  \n  - Trained two ju...",
          "Type: employees<br>Text: # HR Record\n\n# Stephen Matthews\n\n## Summary\n- *Date of Birth:* September 17, 1998  \n- *Job Title:* C...",
          "Type: employees<br>Text: - *2024:*  \n  - Managed multi-stakeholder project with 95% delivery efficiency.  \n  - Trained two ju...",
          "Type: employees<br>Text: # HR Record\n\n# Anna Barker\n\n## Summary\n- *Date of Birth:* September 08, 1975  \n- *Job Title:* Brand ...",
          "Type: employees<br>Text: - *2025:*  \n  - Managed multi-stakeholder project with 95% delivery efficiency.  \n  - Trained two ju...",
          "Type: employees<br>Text: # HR Record\n\n# Abigail Espinoza\n\n## Summary\n- *Date of Birth:* February 08, 1986  \n- *Job Title:* Me...",
          "Type: employees<br>Text: - *2022:*  \n  - Managed multi-stakeholder project with 95% delivery efficiency.  \n  - Trained two ju...",
          "Type: employees<br>Text: # HR Record\n\n# Catherine Jones\n\n## Summary\n- *Date of Birth:* September 01, 1969  \n- *Job Title:* Cl...",
          "Type: employees<br>Text: - *2023:*  \n  - Managed multi-stakeholder project with 95% delivery efficiency.  \n  - Trained two ju...",
          "Type: employees<br>Text: # HR Record\n\n# Manuel Pierce\n\n## Summary\n- *Date of Birth:* January 02, 1988  \n- *Job Title:* Brand ...",
          "Type: employees<br>Text: - *2024:*  \n  - Managed multi-stakeholder project with 95% delivery efficiency.  \n  - Trained two ju...",
          "Type: employees<br>Text: # HR Record\n\n# Hannah Daniels\n\n## Summary\n- *Date of Birth:* May 07, 2000  \n- *Job Title:* Client Se...",
          "Type: employees<br>Text: - *2025:*  \n  - Managed multi-stakeholder project with 95% delivery efficiency.  \n  - Trained two ju...",
          "Type: employees<br>Text: # HR Record\n\n# John Anderson Jr.\n\n## Summary\n- *Date of Birth:* January 30, 1972  \n- *Job Title:* Br...",
          "Type: employees<br>Text: - *2022:*  \n  - Managed multi-stakeholder project with 95% delivery efficiency.  \n  - Trained two ju...",
          "Type: employees<br>Text: # HR Record\n\n# James Martinez\n\n## Summary\n- *Date of Birth:* September 10, 1996  \n- *Job Title:* PR ...",
          "Type: employees<br>Text: - *2023:*  \n  - Managed multi-stakeholder project with 95% delivery efficiency.  \n  - Trained two ju...",
          "Type: products<br>Text: # Product Summary\n\n# Brand Strategy\n\n## Summary\n\nBrand Strategy is one of Chain Reactions Africa’s l...",
          "Type: products<br>Text: # Product Summary\n\n# Crisis Management\n\n## Summary\n\nCrisis Management is one of Chain Reactions Afri...",
          "Type: products<br>Text: # Product Summary\n\n# Digital Campaigns\n\n## Summary\n\nDigital Campaigns is one of Chain Reactions Afri...",
          "Type: products<br>Text: # Product Summary\n\n# Media Relations\n\n## Summary\n\nMedia Relations is one of Chain Reactions Africa’s..."
         ],
         "type": "scatter3d",
         "x": [
          -13.321068,
          -5.6016192,
          8.730503,
          -51.6444,
          20.793945,
          -60.24256,
          -35.268314,
          123.195946,
          -12.070461,
          -84.684105,
          3.0663555,
          105.66571,
          -28.087067,
          88.144684,
          74.61888,
          89.85426,
          61.56181,
          50.486027,
          -67.472374,
          -53.68398,
          19.94999,
          45.749268,
          41.60341,
          -102.290855,
          43.719913,
          75.23131,
          50.129234,
          2.5407019,
          59.208035,
          85.45374,
          23.838017,
          31.443554,
          -114.25224,
          -24.242695,
          101.68594,
          -10.930083,
          -47.019966,
          38.72311,
          -45.462643,
          -2.3657868,
          -39.26437,
          105.57501,
          4.2274747,
          -78.99817,
          -42.738167,
          -49.42542,
          -119.80264,
          -41.9812,
          -91.10271,
          64.03756,
          2.2581673,
          16.182161,
          9.448476,
          10.252667,
          -21.47898,
          -61.86842,
          -80.38508,
          -15.434251,
          -57.290764
         ],
         "y": [
          -7.7291183,
          15.4638405,
          -37.88521,
          -52.90695,
          79.63607,
          -1.6139828,
          27.249033,
          -8.5063715,
          63.503387,
          11.825287,
          9.968442,
          29.926338,
          94.6214,
          75.59064,
          -26.479694,
          -44.73861,
          50.05215,
          -66.83717,
          117.97238,
          -56.550602,
          64.5001,
          -9.821761,
          47.207314,
          64.48333,
          55.660843,
          -16.79801,
          24.74451,
          -67.9312,
          0.45569533,
          25.286655,
          -43.623783,
          -71.64874,
          -45.776066,
          -41.028545,
          -72.86551,
          -87.646675,
          -109.828674,
          -110.23837,
          79.30302,
          -102.26399,
          115.018265,
          6.155068,
          24.04803,
          -46.94058,
          65.67963,
          -97.98299,
          6.376275,
          -55.281036,
          56.872795,
          -33.94087,
          112.86237,
          -9.240153,
          85.49447,
          -45.85818,
          37.30011,
          -24.89713,
          17.755909,
          26.554874,
          16.543533
         ],
         "z": [
          -46.422085,
          -8.688385,
          1.7319613,
          3.876964,
          96.27538,
          -17.367086,
          -50.95467,
          -41.16872,
          -103.484634,
          36.478306,
          -98.767876,
          -5.4781446,
          -64.92155,
          -34.50851,
          118.22125,
          -62.711098,
          43.58258,
          -36.371742,
          -31.45654,
          -59.380547,
          -52.621674,
          -48.949898,
          -6.587027,
          42.7109,
          -99.35647,
          -7.584107,
          97.31781,
          -60.150116,
          -112.07444,
          -59.79762,
          -112.910446,
          61.39943,
          -2.1123323,
          55.75594,
          20.47681,
          29.75282,
          -21.698719,
          19.236238,
          76.13157,
          86.91411,
          34.083416,
          63.194485,
          -159.71812,
          63.633907,
          6.2868595,
          63.338165,
          -25.073746,
          107.42308,
          -24.458725,
          54.16699,
          -9.8487215,
          55.487957,
          36.575356,
          102.26611,
          47.50839,
          -109.051575,
          -92.182945,
          132.06708,
          101.41748
         ]
        }
       ],
       "layout": {
        "height": 700,
        "margin": {
         "b": 10,
         "l": 10,
         "r": 20,
         "t": 40
        },
        "scene": {
         "aspectmode": "auto",
         "aspectratio": {
          "x": 0.9607330070924014,
          "y": 0.9022669790280684,
          "z": 1.1536185343113798
         },
         "xaxis": {
          "title": {
           "text": "x"
          },
          "type": "linear"
         },
         "yaxis": {
          "title": {
           "text": "y"
          },
          "type": "linear"
         },
         "zaxis": {
          "title": {
           "text": "z"
          },
          "type": "linear"
         }
        },
        "template": {
         "data": {
          "bar": [
           {
            "error_x": {
             "color": "#2a3f5f"
            },
            "error_y": {
             "color": "#2a3f5f"
            },
            "marker": {
             "line": {
              "color": "#E5ECF6",
              "width": 0.5
             },
             "pattern": {
              "fillmode": "overlay",
              "size": 10,
              "solidity": 0.2
             }
            },
            "type": "bar"
           }
          ],
          "barpolar": [
           {
            "marker": {
             "line": {
              "color": "#E5ECF6",
              "width": 0.5
             },
             "pattern": {
              "fillmode": "overlay",
              "size": 10,
              "solidity": 0.2
             }
            },
            "type": "barpolar"
           }
          ],
          "carpet": [
           {
            "aaxis": {
             "endlinecolor": "#2a3f5f",
             "gridcolor": "white",
             "linecolor": "white",
             "minorgridcolor": "white",
             "startlinecolor": "#2a3f5f"
            },
            "baxis": {
             "endlinecolor": "#2a3f5f",
             "gridcolor": "white",
             "linecolor": "white",
             "minorgridcolor": "white",
             "startlinecolor": "#2a3f5f"
            },
            "type": "carpet"
           }
          ],
          "choropleth": [
           {
            "colorbar": {
             "outlinewidth": 0,
             "ticks": ""
            },
            "type": "choropleth"
           }
          ],
          "contour": [
           {
            "colorbar": {
             "outlinewidth": 0,
             "ticks": ""
            },
            "colorscale": [
             [
              0,
              "#0d0887"
             ],
             [
              0.1111111111111111,
              "#46039f"
             ],
             [
              0.2222222222222222,
              "#7201a8"
             ],
             [
              0.3333333333333333,
              "#9c179e"
             ],
             [
              0.4444444444444444,
              "#bd3786"
             ],
             [
              0.5555555555555556,
              "#d8576b"
             ],
             [
              0.6666666666666666,
              "#ed7953"
             ],
             [
              0.7777777777777778,
              "#fb9f3a"
             ],
             [
              0.8888888888888888,
              "#fdca26"
             ],
             [
              1,
              "#f0f921"
             ]
            ],
            "type": "contour"
           }
          ],
          "contourcarpet": [
           {
            "colorbar": {
             "outlinewidth": 0,
             "ticks": ""
            },
            "type": "contourcarpet"
           }
          ],
          "heatmap": [
           {
            "colorbar": {
             "outlinewidth": 0,
             "ticks": ""
            },
            "colorscale": [
             [
              0,
              "#0d0887"
             ],
             [
              0.1111111111111111,
              "#46039f"
             ],
             [
              0.2222222222222222,
              "#7201a8"
             ],
             [
              0.3333333333333333,
              "#9c179e"
             ],
             [
              0.4444444444444444,
              "#bd3786"
             ],
             [
              0.5555555555555556,
              "#d8576b"
             ],
             [
              0.6666666666666666,
              "#ed7953"
             ],
             [
              0.7777777777777778,
              "#fb9f3a"
             ],
             [
              0.8888888888888888,
              "#fdca26"
             ],
             [
              1,
              "#f0f921"
             ]
            ],
            "type": "heatmap"
           }
          ],
          "heatmapgl": [
           {
            "colorbar": {
             "outlinewidth": 0,
             "ticks": ""
            },
            "colorscale": [
             [
              0,
              "#0d0887"
             ],
             [
              0.1111111111111111,
              "#46039f"
             ],
             [
              0.2222222222222222,
              "#7201a8"
             ],
             [
              0.3333333333333333,
              "#9c179e"
             ],
             [
              0.4444444444444444,
              "#bd3786"
             ],
             [
              0.5555555555555556,
              "#d8576b"
             ],
             [
              0.6666666666666666,
              "#ed7953"
             ],
             [
              0.7777777777777778,
              "#fb9f3a"
             ],
             [
              0.8888888888888888,
              "#fdca26"
             ],
             [
              1,
              "#f0f921"
             ]
            ],
            "type": "heatmapgl"
           }
          ],
          "histogram": [
           {
            "marker": {
             "pattern": {
              "fillmode": "overlay",
              "size": 10,
              "solidity": 0.2
             }
            },
            "type": "histogram"
           }
          ],
          "histogram2d": [
           {
            "colorbar": {
             "outlinewidth": 0,
             "ticks": ""
            },
            "colorscale": [
             [
              0,
              "#0d0887"
             ],
             [
              0.1111111111111111,
              "#46039f"
             ],
             [
              0.2222222222222222,
              "#7201a8"
             ],
             [
              0.3333333333333333,
              "#9c179e"
             ],
             [
              0.4444444444444444,
              "#bd3786"
             ],
             [
              0.5555555555555556,
              "#d8576b"
             ],
             [
              0.6666666666666666,
              "#ed7953"
             ],
             [
              0.7777777777777778,
              "#fb9f3a"
             ],
             [
              0.8888888888888888,
              "#fdca26"
             ],
             [
              1,
              "#f0f921"
             ]
            ],
            "type": "histogram2d"
           }
          ],
          "histogram2dcontour": [
           {
            "colorbar": {
             "outlinewidth": 0,
             "ticks": ""
            },
            "colorscale": [
             [
              0,
              "#0d0887"
             ],
             [
              0.1111111111111111,
              "#46039f"
             ],
             [
              0.2222222222222222,
              "#7201a8"
             ],
             [
              0.3333333333333333,
              "#9c179e"
             ],
             [
              0.4444444444444444,
              "#bd3786"
             ],
             [
              0.5555555555555556,
              "#d8576b"
             ],
             [
              0.6666666666666666,
              "#ed7953"
             ],
             [
              0.7777777777777778,
              "#fb9f3a"
             ],
             [
              0.8888888888888888,
              "#fdca26"
             ],
             [
              1,
              "#f0f921"
             ]
            ],
            "type": "histogram2dcontour"
           }
          ],
          "mesh3d": [
           {
            "colorbar": {
             "outlinewidth": 0,
             "ticks": ""
            },
            "type": "mesh3d"
           }
          ],
          "parcoords": [
           {
            "line": {
             "colorbar": {
              "outlinewidth": 0,
              "ticks": ""
             }
            },
            "type": "parcoords"
           }
          ],
          "pie": [
           {
            "automargin": true,
            "type": "pie"
           }
          ],
          "scatter": [
           {
            "fillpattern": {
             "fillmode": "overlay",
             "size": 10,
             "solidity": 0.2
            },
            "type": "scatter"
           }
          ],
          "scatter3d": [
           {
            "line": {
             "colorbar": {
              "outlinewidth": 0,
              "ticks": ""
             }
            },
            "marker": {
             "colorbar": {
              "outlinewidth": 0,
              "ticks": ""
             }
            },
            "type": "scatter3d"
           }
          ],
          "scattercarpet": [
           {
            "marker": {
             "colorbar": {
              "outlinewidth": 0,
              "ticks": ""
             }
            },
            "type": "scattercarpet"
           }
          ],
          "scattergeo": [
           {
            "marker": {
             "colorbar": {
              "outlinewidth": 0,
              "ticks": ""
             }
            },
            "type": "scattergeo"
           }
          ],
          "scattergl": [
           {
            "marker": {
             "colorbar": {
              "outlinewidth": 0,
              "ticks": ""
             }
            },
            "type": "scattergl"
           }
          ],
          "scattermapbox": [
           {
            "marker": {
             "colorbar": {
              "outlinewidth": 0,
              "ticks": ""
             }
            },
            "type": "scattermapbox"
           }
          ],
          "scatterpolar": [
           {
            "marker": {
             "colorbar": {
              "outlinewidth": 0,
              "ticks": ""
             }
            },
            "type": "scatterpolar"
           }
          ],
          "scatterpolargl": [
           {
            "marker": {
             "colorbar": {
              "outlinewidth": 0,
              "ticks": ""
             }
            },
            "type": "scatterpolargl"
           }
          ],
          "scatterternary": [
           {
            "marker": {
             "colorbar": {
              "outlinewidth": 0,
              "ticks": ""
             }
            },
            "type": "scatterternary"
           }
          ],
          "surface": [
           {
            "colorbar": {
             "outlinewidth": 0,
             "ticks": ""
            },
            "colorscale": [
             [
              0,
              "#0d0887"
             ],
             [
              0.1111111111111111,
              "#46039f"
             ],
             [
              0.2222222222222222,
              "#7201a8"
             ],
             [
              0.3333333333333333,
              "#9c179e"
             ],
             [
              0.4444444444444444,
              "#bd3786"
             ],
             [
              0.5555555555555556,
              "#d8576b"
             ],
             [
              0.6666666666666666,
              "#ed7953"
             ],
             [
              0.7777777777777778,
              "#fb9f3a"
             ],
             [
              0.8888888888888888,
              "#fdca26"
             ],
             [
              1,
              "#f0f921"
             ]
            ],
            "type": "surface"
           }
          ],
          "table": [
           {
            "cells": {
             "fill": {
              "color": "#EBF0F8"
             },
             "line": {
              "color": "white"
             }
            },
            "header": {
             "fill": {
              "color": "#C8D4E3"
             },
             "line": {
              "color": "white"
             }
            },
            "type": "table"
           }
          ]
         },
         "layout": {
          "annotationdefaults": {
           "arrowcolor": "#2a3f5f",
           "arrowhead": 0,
           "arrowwidth": 1
          },
          "autotypenumbers": "strict",
          "coloraxis": {
           "colorbar": {
            "outlinewidth": 0,
            "ticks": ""
           }
          },
          "colorscale": {
           "diverging": [
            [
             0,
             "#8e0152"
            ],
            [
             0.1,
             "#c51b7d"
            ],
            [
             0.2,
             "#de77ae"
            ],
            [
             0.3,
             "#f1b6da"
            ],
            [
             0.4,
             "#fde0ef"
            ],
            [
             0.5,
             "#f7f7f7"
            ],
            [
             0.6,
             "#e6f5d0"
            ],
            [
             0.7,
             "#b8e186"
            ],
            [
             0.8,
             "#7fbc41"
            ],
            [
             0.9,
             "#4d9221"
            ],
            [
             1,
             "#276419"
            ]
           ],
           "sequential": [
            [
             0,
             "#0d0887"
            ],
            [
             0.1111111111111111,
             "#46039f"
            ],
            [
             0.2222222222222222,
             "#7201a8"
            ],
            [
             0.3333333333333333,
             "#9c179e"
            ],
            [
             0.4444444444444444,
             "#bd3786"
            ],
            [
             0.5555555555555556,
             "#d8576b"
            ],
            [
             0.6666666666666666,
             "#ed7953"
            ],
            [
             0.7777777777777778,
             "#fb9f3a"
            ],
            [
             0.8888888888888888,
             "#fdca26"
            ],
            [
             1,
             "#f0f921"
            ]
           ],
           "sequentialminus": [
            [
             0,
             "#0d0887"
            ],
            [
             0.1111111111111111,
             "#46039f"
            ],
            [
             0.2222222222222222,
             "#7201a8"
            ],
            [
             0.3333333333333333,
             "#9c179e"
            ],
            [
             0.4444444444444444,
             "#bd3786"
            ],
            [
             0.5555555555555556,
             "#d8576b"
            ],
            [
             0.6666666666666666,
             "#ed7953"
            ],
            [
             0.7777777777777778,
             "#fb9f3a"
            ],
            [
             0.8888888888888888,
             "#fdca26"
            ],
            [
             1,
             "#f0f921"
            ]
           ]
          },
          "colorway": [
           "#636efa",
           "#EF553B",
           "#00cc96",
           "#ab63fa",
           "#FFA15A",
           "#19d3f3",
           "#FF6692",
           "#B6E880",
           "#FF97FF",
           "#FECB52"
          ],
          "font": {
           "color": "#2a3f5f"
          },
          "geo": {
           "bgcolor": "white",
           "lakecolor": "white",
           "landcolor": "#E5ECF6",
           "showlakes": true,
           "showland": true,
           "subunitcolor": "white"
          },
          "hoverlabel": {
           "align": "left"
          },
          "hovermode": "closest",
          "mapbox": {
           "style": "light"
          },
          "paper_bgcolor": "white",
          "plot_bgcolor": "#E5ECF6",
          "polar": {
           "angularaxis": {
            "gridcolor": "white",
            "linecolor": "white",
            "ticks": ""
           },
           "bgcolor": "#E5ECF6",
           "radialaxis": {
            "gridcolor": "white",
            "linecolor": "white",
            "ticks": ""
           }
          },
          "scene": {
           "xaxis": {
            "backgroundcolor": "#E5ECF6",
            "gridcolor": "white",
            "gridwidth": 2,
            "linecolor": "white",
            "showbackground": true,
            "ticks": "",
            "zerolinecolor": "white"
           },
           "yaxis": {
            "backgroundcolor": "#E5ECF6",
            "gridcolor": "white",
            "gridwidth": 2,
            "linecolor": "white",
            "showbackground": true,
            "ticks": "",
            "zerolinecolor": "white"
           },
           "zaxis": {
            "backgroundcolor": "#E5ECF6",
            "gridcolor": "white",
            "gridwidth": 2,
            "linecolor": "white",
            "showbackground": true,
            "ticks": "",
            "zerolinecolor": "white"
           }
          },
          "shapedefaults": {
           "line": {
            "color": "#2a3f5f"
           }
          },
          "ternary": {
           "aaxis": {
            "gridcolor": "white",
            "linecolor": "white",
            "ticks": ""
           },
           "baxis": {
            "gridcolor": "white",
            "linecolor": "white",
            "ticks": ""
           },
           "bgcolor": "#E5ECF6",
           "caxis": {
            "gridcolor": "white",
            "linecolor": "white",
            "ticks": ""
           }
          },
          "title": {
           "x": 0.05
          },
          "xaxis": {
           "automargin": true,
           "gridcolor": "white",
           "linecolor": "white",
           "ticks": "",
           "title": {
            "standoff": 15
           },
           "zerolinecolor": "white",
           "zerolinewidth": 2
          },
          "yaxis": {
           "automargin": true,
           "gridcolor": "white",
           "linecolor": "white",
           "ticks": "",
           "title": {
            "standoff": 15
           },
           "zerolinecolor": "white",
           "zerolinewidth": 2
          }
         }
        },
        "title": {
         "text": "3D Chroma Vector Store Visualization"
        },
        "width": 900
       }
      },
      "text/html": [
       "<div>                            <div id=\"1b373eb9-921d-4911-8ae1-d84163c7f4f8\" class=\"plotly-graph-div\" style=\"height:700px; width:900px;\"></div>            <script type=\"text/javascript\">                require([\"plotly\"], function(Plotly) {                    window.PLOTLYENV=window.PLOTLYENV || {};                                    if (document.getElementById(\"1b373eb9-921d-4911-8ae1-d84163c7f4f8\")) {                    Plotly.newPlot(                        \"1b373eb9-921d-4911-8ae1-d84163c7f4f8\",                        [{\"hoverinfo\":\"text\",\"marker\":{\"color\":[\"orange\",\"orange\",\"orange\",\"orange\",\"orange\",\"orange\",\"orange\",\"red\",\"red\",\"red\",\"red\",\"red\",\"red\",\"red\",\"red\",\"red\",\"red\",\"red\",\"red\",\"red\",\"red\",\"red\",\"red\",\"red\",\"red\",\"red\",\"red\",\"red\",\"red\",\"red\",\"red\",\"green\",\"green\",\"green\",\"green\",\"green\",\"green\",\"green\",\"green\",\"green\",\"green\",\"green\",\"green\",\"green\",\"green\",\"green\",\"green\",\"green\",\"green\",\"green\",\"green\",\"green\",\"green\",\"green\",\"green\",\"blue\",\"blue\",\"blue\",\"blue\"],\"opacity\":0.8,\"size\":5},\"mode\":\"markers\",\"text\":[\"Type: company\\u003cbr\\u003eText: # About Chain Reactions Africa\\nChain Reactions Africa is a strategic communications and public relat...\",\"Type: company\\u003cbr\\u003eText: # Careers at Chain Reactions\\nAt Chain Reactions Africa, we foster a dynamic workplace where creativi...\",\"Type: company\\u003cbr\\u003eText: # Israel “Jaiye” Opayemi – CEO of Chain Reactions Africa\\n\\n## 👤 About\\nIsrael Opayemi is the **Managin...\",\"Type: company\\u003cbr\\u003eText: ## 🏆 Achievements\\n\\n### SABRE Awards\\n- **2024**: 7 trophies for campaigns including Lagos Blue Rail, ...\",\"Type: company\\u003cbr\\u003eText: - **LaPRIGA 2023**:\\n  - PR Practitioner of the Year – Israel Opayemi\\n  - Best in Risk and Political ...\",\"Type: company\\u003cbr\\u003eText: # Our Mission\\nTo be the most innovative and effective public relations firm in Africa, helping brand...\",\"Type: company\\u003cbr\\u003eText: # Company Overview\\nChain Reactions Africa partners with corporations, governments, and institutions ...\",\"Type: contracts\\u003cbr\\u003eText: # Contract with ClientCorp 1 Ltd.\\n\\n## Terms\\n\\n1. *Parties Involved*: This agreement is between Chain ...\",\"Type: contracts\\u003cbr\\u003eText: ---\\n\\n**Signatures**\\n\\n*Chain Reactions Africa*  \\n_____________________________  \\nAuthorized Signature...\",\"Type: contracts\\u003cbr\\u003eText: # Contract with ClientCorp 10 Ltd.\\n\\n## Terms\\n\\n1. *Parties Involved*: This agreement is between Chain...\",\"Type: contracts\\u003cbr\\u003eText: ---\\n\\n**Signatures**\\n\\n*Chain Reactions Africa*  \\n_____________________________  \\nAuthorized Signature...\",\"Type: contracts\\u003cbr\\u003eText: # Contract with ClientCorp 11 Ltd.\\n\\n## Terms\\n\\n1. *Parties Involved*: This agreement is between Chain...\",\"Type: contracts\\u003cbr\\u003eText: ---\\n\\n**Signatures**\\n\\n*Chain Reactions Africa*  \\n_____________________________  \\nAuthorized Signature...\",\"Type: contracts\\u003cbr\\u003eText: # Contract with ClientCorp 12 Ltd.\\n\\n## Terms\\n\\n1. *Parties Involved*: This agreement is between Chain...\",\"Type: contracts\\u003cbr\\u003eText: ---\\n\\n**Signatures**\\n\\n*Chain Reactions Africa*  \\n_____________________________  \\nAuthorized Signature...\",\"Type: contracts\\u003cbr\\u003eText: # Contract with ClientCorp 2 Ltd.\\n\\n## Terms\\n\\n1. *Parties Involved*: This agreement is between Chain ...\",\"Type: contracts\\u003cbr\\u003eText: ---\\n\\n**Signatures**\\n\\n*Chain Reactions Africa*  \\n_____________________________  \\nAuthorized Signature...\",\"Type: contracts\\u003cbr\\u003eText: # Contract with ClientCorp 3 Ltd.\\n\\n## Terms\\n\\n1. *Parties Involved*: This agreement is between Chain ...\",\"Type: contracts\\u003cbr\\u003eText: ---\\n\\n**Signatures**\\n\\n*Chain Reactions Africa*  \\n_____________________________  \\nAuthorized Signature...\",\"Type: contracts\\u003cbr\\u003eText: # Contract with ClientCorp 4 Ltd.\\n\\n## Terms\\n\\n1. *Parties Involved*: This agreement is between Chain ...\",\"Type: contracts\\u003cbr\\u003eText: ---\\n\\n**Signatures**\\n\\n*Chain Reactions Africa*  \\n_____________________________  \\nAuthorized Signature...\",\"Type: contracts\\u003cbr\\u003eText: # Contract with ClientCorp 5 Ltd.\\n\\n## Terms\\n\\n1. *Parties Involved*: This agreement is between Chain ...\",\"Type: contracts\\u003cbr\\u003eText: ---\\n\\n**Signatures**\\n\\n*Chain Reactions Africa*  \\n_____________________________  \\nAuthorized Signature...\",\"Type: contracts\\u003cbr\\u003eText: # Contract with ClientCorp 6 Ltd.\\n\\n## Terms\\n\\n1. *Parties Involved*: This agreement is between Chain ...\",\"Type: contracts\\u003cbr\\u003eText: ---\\n\\n**Signatures**\\n\\n*Chain Reactions Africa*  \\n_____________________________  \\nAuthorized Signature...\",\"Type: contracts\\u003cbr\\u003eText: # Contract with ClientCorp 7 Ltd.\\n\\n## Terms\\n\\n1. *Parties Involved*: This agreement is between Chain ...\",\"Type: contracts\\u003cbr\\u003eText: ---\\n\\n**Signatures**\\n\\n*Chain Reactions Africa*  \\n_____________________________  \\nAuthorized Signature...\",\"Type: contracts\\u003cbr\\u003eText: # Contract with ClientCorp 8 Ltd.\\n\\n## Terms\\n\\n1. *Parties Involved*: This agreement is between Chain ...\",\"Type: contracts\\u003cbr\\u003eText: ---\\n\\n**Signatures**\\n\\n*Chain Reactions Africa*  \\n_____________________________  \\nAuthorized Signature...\",\"Type: contracts\\u003cbr\\u003eText: # Contract with ClientCorp 9 Ltd.\\n\\n## Terms\\n\\n1. *Parties Involved*: This agreement is between Chain ...\",\"Type: contracts\\u003cbr\\u003eText: ---\\n\\n**Signatures**\\n\\n*Chain Reactions Africa*  \\n_____________________________  \\nAuthorized Signature...\",\"Type: employees\\u003cbr\\u003eText: # HR Record\\n\\n# Anne Mccarty\\n\\n## Summary\\n- *Date of Birth:* June 13, 1991  \\n- *Job Title:* PR Campaig...\",\"Type: employees\\u003cbr\\u003eText: - *2023:*  \\n  - Managed multi-stakeholder project with 95% delivery efficiency.  \\n  - Trained two ju...\",\"Type: employees\\u003cbr\\u003eText: # HR Record\\n\\n# Dylan Morgan\\n\\n## Summary\\n- *Date of Birth:* April 17, 1974  \\n- *Job Title:* Digital C...\",\"Type: employees\\u003cbr\\u003eText: - *2024:*  \\n  - Managed multi-stakeholder project with 95% delivery efficiency.  \\n  - Trained two ju...\",\"Type: employees\\u003cbr\\u003eText: # HR Record\\n\\n# Danielle Johnson\\n\\n## Summary\\n- *Date of Birth:* June 28, 1987  \\n- *Job Title:* Media ...\",\"Type: employees\\u003cbr\\u003eText: - *2025:*  \\n  - Managed multi-stakeholder project with 95% delivery efficiency.  \\n  - Trained two ju...\",\"Type: employees\\u003cbr\\u003eText: # HR Record\\n\\n# Larry Peterson\\n\\n## Summary\\n- *Date of Birth:* January 14, 1972  \\n- *Job Title:* Digit...\",\"Type: employees\\u003cbr\\u003eText: - *2022:*  \\n  - Managed multi-stakeholder project with 95% delivery efficiency.  \\n  - Trained two ju...\",\"Type: employees\\u003cbr\\u003eText: # HR Record\\n\\n# Stephen Matthews\\n\\n## Summary\\n- *Date of Birth:* September 17, 1998  \\n- *Job Title:* C...\",\"Type: employees\\u003cbr\\u003eText: - *2024:*  \\n  - Managed multi-stakeholder project with 95% delivery efficiency.  \\n  - Trained two ju...\",\"Type: employees\\u003cbr\\u003eText: # HR Record\\n\\n# Anna Barker\\n\\n## Summary\\n- *Date of Birth:* September 08, 1975  \\n- *Job Title:* Brand ...\",\"Type: employees\\u003cbr\\u003eText: - *2025:*  \\n  - Managed multi-stakeholder project with 95% delivery efficiency.  \\n  - Trained two ju...\",\"Type: employees\\u003cbr\\u003eText: # HR Record\\n\\n# Abigail Espinoza\\n\\n## Summary\\n- *Date of Birth:* February 08, 1986  \\n- *Job Title:* Me...\",\"Type: employees\\u003cbr\\u003eText: - *2022:*  \\n  - Managed multi-stakeholder project with 95% delivery efficiency.  \\n  - Trained two ju...\",\"Type: employees\\u003cbr\\u003eText: # HR Record\\n\\n# Catherine Jones\\n\\n## Summary\\n- *Date of Birth:* September 01, 1969  \\n- *Job Title:* Cl...\",\"Type: employees\\u003cbr\\u003eText: - *2023:*  \\n  - Managed multi-stakeholder project with 95% delivery efficiency.  \\n  - Trained two ju...\",\"Type: employees\\u003cbr\\u003eText: # HR Record\\n\\n# Manuel Pierce\\n\\n## Summary\\n- *Date of Birth:* January 02, 1988  \\n- *Job Title:* Brand ...\",\"Type: employees\\u003cbr\\u003eText: - *2024:*  \\n  - Managed multi-stakeholder project with 95% delivery efficiency.  \\n  - Trained two ju...\",\"Type: employees\\u003cbr\\u003eText: # HR Record\\n\\n# Hannah Daniels\\n\\n## Summary\\n- *Date of Birth:* May 07, 2000  \\n- *Job Title:* Client Se...\",\"Type: employees\\u003cbr\\u003eText: - *2025:*  \\n  - Managed multi-stakeholder project with 95% delivery efficiency.  \\n  - Trained two ju...\",\"Type: employees\\u003cbr\\u003eText: # HR Record\\n\\n# John Anderson Jr.\\n\\n## Summary\\n- *Date of Birth:* January 30, 1972  \\n- *Job Title:* Br...\",\"Type: employees\\u003cbr\\u003eText: - *2022:*  \\n  - Managed multi-stakeholder project with 95% delivery efficiency.  \\n  - Trained two ju...\",\"Type: employees\\u003cbr\\u003eText: # HR Record\\n\\n# James Martinez\\n\\n## Summary\\n- *Date of Birth:* September 10, 1996  \\n- *Job Title:* PR ...\",\"Type: employees\\u003cbr\\u003eText: - *2023:*  \\n  - Managed multi-stakeholder project with 95% delivery efficiency.  \\n  - Trained two ju...\",\"Type: products\\u003cbr\\u003eText: # Product Summary\\n\\n# Brand Strategy\\n\\n## Summary\\n\\nBrand Strategy is one of Chain Reactions Africa’s l...\",\"Type: products\\u003cbr\\u003eText: # Product Summary\\n\\n# Crisis Management\\n\\n## Summary\\n\\nCrisis Management is one of Chain Reactions Afri...\",\"Type: products\\u003cbr\\u003eText: # Product Summary\\n\\n# Digital Campaigns\\n\\n## Summary\\n\\nDigital Campaigns is one of Chain Reactions Afri...\",\"Type: products\\u003cbr\\u003eText: # Product Summary\\n\\n# Media Relations\\n\\n## Summary\\n\\nMedia Relations is one of Chain Reactions Africa’s...\"],\"x\":[-13.321068,-5.6016192,8.730503,-51.6444,20.793945,-60.24256,-35.268314,123.195946,-12.070461,-84.684105,3.0663555,105.66571,-28.087067,88.144684,74.61888,89.85426,61.56181,50.486027,-67.472374,-53.68398,19.94999,45.749268,41.60341,-102.290855,43.719913,75.23131,50.129234,2.5407019,59.208035,85.45374,23.838017,31.443554,-114.25224,-24.242695,101.68594,-10.930083,-47.019966,38.72311,-45.462643,-2.3657868,-39.26437,105.57501,4.2274747,-78.99817,-42.738167,-49.42542,-119.80264,-41.9812,-91.10271,64.03756,2.2581673,16.182161,9.448476,10.252667,-21.47898,-61.86842,-80.38508,-15.434251,-57.290764],\"y\":[-7.7291183,15.4638405,-37.88521,-52.90695,79.63607,-1.6139828,27.249033,-8.5063715,63.503387,11.825287,9.968442,29.926338,94.6214,75.59064,-26.479694,-44.73861,50.05215,-66.83717,117.97238,-56.550602,64.5001,-9.821761,47.207314,64.48333,55.660843,-16.79801,24.74451,-67.9312,0.45569533,25.286655,-43.623783,-71.64874,-45.776066,-41.028545,-72.86551,-87.646675,-109.828674,-110.23837,79.30302,-102.26399,115.018265,6.155068,24.04803,-46.94058,65.67963,-97.98299,6.376275,-55.281036,56.872795,-33.94087,112.86237,-9.240153,85.49447,-45.85818,37.30011,-24.89713,17.755909,26.554874,16.543533],\"z\":[-46.422085,-8.688385,1.7319613,3.876964,96.27538,-17.367086,-50.95467,-41.16872,-103.484634,36.478306,-98.767876,-5.4781446,-64.92155,-34.50851,118.22125,-62.711098,43.58258,-36.371742,-31.45654,-59.380547,-52.621674,-48.949898,-6.587027,42.7109,-99.35647,-7.584107,97.31781,-60.150116,-112.07444,-59.79762,-112.910446,61.39943,-2.1123323,55.75594,20.47681,29.75282,-21.698719,19.236238,76.13157,86.91411,34.083416,63.194485,-159.71812,63.633907,6.2868595,63.338165,-25.073746,107.42308,-24.458725,54.16699,-9.8487215,55.487957,36.575356,102.26611,47.50839,-109.051575,-92.182945,132.06708,101.41748],\"type\":\"scatter3d\"}],                        {\"template\":{\"data\":{\"histogram2dcontour\":[{\"type\":\"histogram2dcontour\",\"colorbar\":{\"outlinewidth\":0,\"ticks\":\"\"},\"colorscale\":[[0.0,\"#0d0887\"],[0.1111111111111111,\"#46039f\"],[0.2222222222222222,\"#7201a8\"],[0.3333333333333333,\"#9c179e\"],[0.4444444444444444,\"#bd3786\"],[0.5555555555555556,\"#d8576b\"],[0.6666666666666666,\"#ed7953\"],[0.7777777777777778,\"#fb9f3a\"],[0.8888888888888888,\"#fdca26\"],[1.0,\"#f0f921\"]]}],\"choropleth\":[{\"type\":\"choropleth\",\"colorbar\":{\"outlinewidth\":0,\"ticks\":\"\"}}],\"histogram2d\":[{\"type\":\"histogram2d\",\"colorbar\":{\"outlinewidth\":0,\"ticks\":\"\"},\"colorscale\":[[0.0,\"#0d0887\"],[0.1111111111111111,\"#46039f\"],[0.2222222222222222,\"#7201a8\"],[0.3333333333333333,\"#9c179e\"],[0.4444444444444444,\"#bd3786\"],[0.5555555555555556,\"#d8576b\"],[0.6666666666666666,\"#ed7953\"],[0.7777777777777778,\"#fb9f3a\"],[0.8888888888888888,\"#fdca26\"],[1.0,\"#f0f921\"]]}],\"heatmap\":[{\"type\":\"heatmap\",\"colorbar\":{\"outlinewidth\":0,\"ticks\":\"\"},\"colorscale\":[[0.0,\"#0d0887\"],[0.1111111111111111,\"#46039f\"],[0.2222222222222222,\"#7201a8\"],[0.3333333333333333,\"#9c179e\"],[0.4444444444444444,\"#bd3786\"],[0.5555555555555556,\"#d8576b\"],[0.6666666666666666,\"#ed7953\"],[0.7777777777777778,\"#fb9f3a\"],[0.8888888888888888,\"#fdca26\"],[1.0,\"#f0f921\"]]}],\"heatmapgl\":[{\"type\":\"heatmapgl\",\"colorbar\":{\"outlinewidth\":0,\"ticks\":\"\"},\"colorscale\":[[0.0,\"#0d0887\"],[0.1111111111111111,\"#46039f\"],[0.2222222222222222,\"#7201a8\"],[0.3333333333333333,\"#9c179e\"],[0.4444444444444444,\"#bd3786\"],[0.5555555555555556,\"#d8576b\"],[0.6666666666666666,\"#ed7953\"],[0.7777777777777778,\"#fb9f3a\"],[0.8888888888888888,\"#fdca26\"],[1.0,\"#f0f921\"]]}],\"contourcarpet\":[{\"type\":\"contourcarpet\",\"colorbar\":{\"outlinewidth\":0,\"ticks\":\"\"}}],\"contour\":[{\"type\":\"contour\",\"colorbar\":{\"outlinewidth\":0,\"ticks\":\"\"},\"colorscale\":[[0.0,\"#0d0887\"],[0.1111111111111111,\"#46039f\"],[0.2222222222222222,\"#7201a8\"],[0.3333333333333333,\"#9c179e\"],[0.4444444444444444,\"#bd3786\"],[0.5555555555555556,\"#d8576b\"],[0.6666666666666666,\"#ed7953\"],[0.7777777777777778,\"#fb9f3a\"],[0.8888888888888888,\"#fdca26\"],[1.0,\"#f0f921\"]]}],\"surface\":[{\"type\":\"surface\",\"colorbar\":{\"outlinewidth\":0,\"ticks\":\"\"},\"colorscale\":[[0.0,\"#0d0887\"],[0.1111111111111111,\"#46039f\"],[0.2222222222222222,\"#7201a8\"],[0.3333333333333333,\"#9c179e\"],[0.4444444444444444,\"#bd3786\"],[0.5555555555555556,\"#d8576b\"],[0.6666666666666666,\"#ed7953\"],[0.7777777777777778,\"#fb9f3a\"],[0.8888888888888888,\"#fdca26\"],[1.0,\"#f0f921\"]]}],\"mesh3d\":[{\"type\":\"mesh3d\",\"colorbar\":{\"outlinewidth\":0,\"ticks\":\"\"}}],\"scatter\":[{\"fillpattern\":{\"fillmode\":\"overlay\",\"size\":10,\"solidity\":0.2},\"type\":\"scatter\"}],\"parcoords\":[{\"type\":\"parcoords\",\"line\":{\"colorbar\":{\"outlinewidth\":0,\"ticks\":\"\"}}}],\"scatterpolargl\":[{\"type\":\"scatterpolargl\",\"marker\":{\"colorbar\":{\"outlinewidth\":0,\"ticks\":\"\"}}}],\"bar\":[{\"error_x\":{\"color\":\"#2a3f5f\"},\"error_y\":{\"color\":\"#2a3f5f\"},\"marker\":{\"line\":{\"color\":\"#E5ECF6\",\"width\":0.5},\"pattern\":{\"fillmode\":\"overlay\",\"size\":10,\"solidity\":0.2}},\"type\":\"bar\"}],\"scattergeo\":[{\"type\":\"scattergeo\",\"marker\":{\"colorbar\":{\"outlinewidth\":0,\"ticks\":\"\"}}}],\"scatterpolar\":[{\"type\":\"scatterpolar\",\"marker\":{\"colorbar\":{\"outlinewidth\":0,\"ticks\":\"\"}}}],\"histogram\":[{\"marker\":{\"pattern\":{\"fillmode\":\"overlay\",\"size\":10,\"solidity\":0.2}},\"type\":\"histogram\"}],\"scattergl\":[{\"type\":\"scattergl\",\"marker\":{\"colorbar\":{\"outlinewidth\":0,\"ticks\":\"\"}}}],\"scatter3d\":[{\"type\":\"scatter3d\",\"line\":{\"colorbar\":{\"outlinewidth\":0,\"ticks\":\"\"}},\"marker\":{\"colorbar\":{\"outlinewidth\":0,\"ticks\":\"\"}}}],\"scattermapbox\":[{\"type\":\"scattermapbox\",\"marker\":{\"colorbar\":{\"outlinewidth\":0,\"ticks\":\"\"}}}],\"scatterternary\":[{\"type\":\"scatterternary\",\"marker\":{\"colorbar\":{\"outlinewidth\":0,\"ticks\":\"\"}}}],\"scattercarpet\":[{\"type\":\"scattercarpet\",\"marker\":{\"colorbar\":{\"outlinewidth\":0,\"ticks\":\"\"}}}],\"carpet\":[{\"aaxis\":{\"endlinecolor\":\"#2a3f5f\",\"gridcolor\":\"white\",\"linecolor\":\"white\",\"minorgridcolor\":\"white\",\"startlinecolor\":\"#2a3f5f\"},\"baxis\":{\"endlinecolor\":\"#2a3f5f\",\"gridcolor\":\"white\",\"linecolor\":\"white\",\"minorgridcolor\":\"white\",\"startlinecolor\":\"#2a3f5f\"},\"type\":\"carpet\"}],\"table\":[{\"cells\":{\"fill\":{\"color\":\"#EBF0F8\"},\"line\":{\"color\":\"white\"}},\"header\":{\"fill\":{\"color\":\"#C8D4E3\"},\"line\":{\"color\":\"white\"}},\"type\":\"table\"}],\"barpolar\":[{\"marker\":{\"line\":{\"color\":\"#E5ECF6\",\"width\":0.5},\"pattern\":{\"fillmode\":\"overlay\",\"size\":10,\"solidity\":0.2}},\"type\":\"barpolar\"}],\"pie\":[{\"automargin\":true,\"type\":\"pie\"}]},\"layout\":{\"autotypenumbers\":\"strict\",\"colorway\":[\"#636efa\",\"#EF553B\",\"#00cc96\",\"#ab63fa\",\"#FFA15A\",\"#19d3f3\",\"#FF6692\",\"#B6E880\",\"#FF97FF\",\"#FECB52\"],\"font\":{\"color\":\"#2a3f5f\"},\"hovermode\":\"closest\",\"hoverlabel\":{\"align\":\"left\"},\"paper_bgcolor\":\"white\",\"plot_bgcolor\":\"#E5ECF6\",\"polar\":{\"bgcolor\":\"#E5ECF6\",\"angularaxis\":{\"gridcolor\":\"white\",\"linecolor\":\"white\",\"ticks\":\"\"},\"radialaxis\":{\"gridcolor\":\"white\",\"linecolor\":\"white\",\"ticks\":\"\"}},\"ternary\":{\"bgcolor\":\"#E5ECF6\",\"aaxis\":{\"gridcolor\":\"white\",\"linecolor\":\"white\",\"ticks\":\"\"},\"baxis\":{\"gridcolor\":\"white\",\"linecolor\":\"white\",\"ticks\":\"\"},\"caxis\":{\"gridcolor\":\"white\",\"linecolor\":\"white\",\"ticks\":\"\"}},\"coloraxis\":{\"colorbar\":{\"outlinewidth\":0,\"ticks\":\"\"}},\"colorscale\":{\"sequential\":[[0.0,\"#0d0887\"],[0.1111111111111111,\"#46039f\"],[0.2222222222222222,\"#7201a8\"],[0.3333333333333333,\"#9c179e\"],[0.4444444444444444,\"#bd3786\"],[0.5555555555555556,\"#d8576b\"],[0.6666666666666666,\"#ed7953\"],[0.7777777777777778,\"#fb9f3a\"],[0.8888888888888888,\"#fdca26\"],[1.0,\"#f0f921\"]],\"sequentialminus\":[[0.0,\"#0d0887\"],[0.1111111111111111,\"#46039f\"],[0.2222222222222222,\"#7201a8\"],[0.3333333333333333,\"#9c179e\"],[0.4444444444444444,\"#bd3786\"],[0.5555555555555556,\"#d8576b\"],[0.6666666666666666,\"#ed7953\"],[0.7777777777777778,\"#fb9f3a\"],[0.8888888888888888,\"#fdca26\"],[1.0,\"#f0f921\"]],\"diverging\":[[0,\"#8e0152\"],[0.1,\"#c51b7d\"],[0.2,\"#de77ae\"],[0.3,\"#f1b6da\"],[0.4,\"#fde0ef\"],[0.5,\"#f7f7f7\"],[0.6,\"#e6f5d0\"],[0.7,\"#b8e186\"],[0.8,\"#7fbc41\"],[0.9,\"#4d9221\"],[1,\"#276419\"]]},\"xaxis\":{\"gridcolor\":\"white\",\"linecolor\":\"white\",\"ticks\":\"\",\"title\":{\"standoff\":15},\"zerolinecolor\":\"white\",\"automargin\":true,\"zerolinewidth\":2},\"yaxis\":{\"gridcolor\":\"white\",\"linecolor\":\"white\",\"ticks\":\"\",\"title\":{\"standoff\":15},\"zerolinecolor\":\"white\",\"automargin\":true,\"zerolinewidth\":2},\"scene\":{\"xaxis\":{\"backgroundcolor\":\"#E5ECF6\",\"gridcolor\":\"white\",\"linecolor\":\"white\",\"showbackground\":true,\"ticks\":\"\",\"zerolinecolor\":\"white\",\"gridwidth\":2},\"yaxis\":{\"backgroundcolor\":\"#E5ECF6\",\"gridcolor\":\"white\",\"linecolor\":\"white\",\"showbackground\":true,\"ticks\":\"\",\"zerolinecolor\":\"white\",\"gridwidth\":2},\"zaxis\":{\"backgroundcolor\":\"#E5ECF6\",\"gridcolor\":\"white\",\"linecolor\":\"white\",\"showbackground\":true,\"ticks\":\"\",\"zerolinecolor\":\"white\",\"gridwidth\":2}},\"shapedefaults\":{\"line\":{\"color\":\"#2a3f5f\"}},\"annotationdefaults\":{\"arrowcolor\":\"#2a3f5f\",\"arrowhead\":0,\"arrowwidth\":1},\"geo\":{\"bgcolor\":\"white\",\"landcolor\":\"#E5ECF6\",\"subunitcolor\":\"white\",\"showland\":true,\"showlakes\":true,\"lakecolor\":\"white\"},\"title\":{\"x\":0.05},\"mapbox\":{\"style\":\"light\"}}},\"margin\":{\"r\":20,\"b\":10,\"l\":10,\"t\":40},\"title\":{\"text\":\"3D Chroma Vector Store Visualization\"},\"scene\":{\"xaxis\":{\"title\":{\"text\":\"x\"}},\"yaxis\":{\"title\":{\"text\":\"y\"}},\"zaxis\":{\"title\":{\"text\":\"z\"}}},\"width\":900,\"height\":700},                        {\"responsive\": true}                    ).then(function(){\n",
       "                            \n",
       "var gd = document.getElementById('1b373eb9-921d-4911-8ae1-d84163c7f4f8');\n",
       "var x = new MutationObserver(function (mutations, observer) {{\n",
       "        var display = window.getComputedStyle(gd).display;\n",
       "        if (!display || display === 'none') {{\n",
       "            console.log([gd, 'removed!']);\n",
       "            Plotly.purge(gd);\n",
       "            observer.disconnect();\n",
       "        }}\n",
       "}});\n",
       "\n",
       "// Listen for the removal of the full notebook cells\n",
       "var notebookContainer = gd.closest('#notebook-container');\n",
       "if (notebookContainer) {{\n",
       "    x.observe(notebookContainer, {childList: true});\n",
       "}}\n",
       "\n",
       "// Listen for the clearing of the current output cell\n",
       "var outputEl = gd.closest('.output');\n",
       "if (outputEl) {{\n",
       "    x.observe(outputEl, {childList: true});\n",
       "}}\n",
       "\n",
       "                        })                };                });            </script>        </div>"
      ]
     },
     "metadata": {},
     "output_type": "display_data"
    }
   ],
   "source": [
    "# Perform 3D t-SNE for higher-dimensional visualization\n",
    "tsne = TSNE(n_components=3, random_state=42)\n",
    "reduced_vectors = tsne.fit_transform(vectors)\n",
    "\n",
    "# Create the 3D scatter plot using Plotly\n",
    "fig = go.Figure(data=[go.Scatter3d(\n",
    "    x=reduced_vectors[:, 0],\n",
    "    y=reduced_vectors[:, 1],\n",
    "    z=reduced_vectors[:, 2],\n",
    "    mode='markers',\n",
    "    marker=dict(size=5, color=colors, opacity=0.8),\n",
    "    text=[f\"Type: {t}<br>Text: {d[:100]}...\" for t, d in zip(doc_types, documents)],\n",
    "    hoverinfo='text'\n",
    ")])\n",
    "\n",
    "fig.update_layout(\n",
    "    title='3D Chroma Vector Store Visualization',\n",
    "    scene=dict(xaxis_title='x', yaxis_title='y', zaxis_title='z'),\n",
    "    width=900,\n",
    "    height=700,\n",
    "    margin=dict(r=20, b=10, l=10, t=40)\n",
    ")\n",
    "\n",
    "fig.show()"
   ]
  },
  {
   "cell_type": "code",
   "execution_count": 31,
   "id": "32989b49-3e93-4f46-87a3-8a39c941fa17",
   "metadata": {},
   "outputs": [
    {
     "name": "stdout",
     "output_type": "stream",
     "text": [
      "Chain Reactions Africa is a strategic communications and public relations firm that operates across Africa. They partner with corporations, governments, and institutions to provide full-service PR solutions, including media relations, digital campaigns, and crisis management. They aim to build trust and meaningful relationships for brands, as well as manage crises effectively.\n"
     ]
    }
   ],
   "source": [
    "# Set up a conversational AI chat using OpenAI\n",
    "llm = ChatOpenAI(\n",
    "    temperature=0.7,\n",
    "    model_name=\"gpt-4\",  # You can use \"gpt-3.5-turbo\" as an alternative\n",
    "    openai_api_key=  # Replace with your actual key\n",
    ")\n",
    "\n",
    "# Alternative - if you'd like to use Ollama locally, uncomment this line instead\n",
    "# llm = ChatOpenAI(temperature=0.7, model_name='llama3.2', base_url='http://localhost:11434/v1', api_key='ollama')\n",
    "\n",
    "# Set up conversation memory to manage chat history\n",
    "memory = ConversationBufferMemory(memory_key='chat_history', return_messages=True)\n",
    "\n",
    "# Initialize a retriever using the vector store\n",
    "retriever = vectorstore.as_retriever()\n",
    "\n",
    "# Set up a conversation chain for retrieval-augmented generation (RAG)\n",
    "conversation_chain = ConversationalRetrievalChain.from_llm(llm=llm, retriever=retriever, memory=memory)\n",
    "\n",
    "# Query the conversation chain with a question\n",
    "query = \"Please explain what chain reaction africa is in a couple of sentences\"\n",
    "result = conversation_chain.invoke({\"question\": query})\n",
    "print(result[\"answer\"])"
   ]
  },
  {
   "cell_type": "code",
   "execution_count": 32,
   "id": "2e6d1874-4317-479f-b2f7-5d664dd1c9c0",
   "metadata": {},
   "outputs": [],
   "source": [
    "def chat(question, history):\n",
    "    \"\"\"Execute a chat conversation based on a question and chat history.\n",
    "    \n",
    "    Args:\n",
    "        question (str): The question to ask the conversational model.\n",
    "        history (list): The conversation history.\n",
    "\n",
    "    Returns:\n",
    "        str: The answer from the conversation model.\n",
    "    \"\"\"\n",
    "    result = conversation_chain.invoke({\"question\": question})\n",
    "    return result[\"answer\"]"
   ]
  },
  {
   "cell_type": "code",
   "execution_count": 33,
   "id": "c6b92468-18db-4e92-9f9a-0846265e3540",
   "metadata": {},
   "outputs": [
    {
     "name": "stdout",
     "output_type": "stream",
     "text": [
      "* Running on local URL:  http://127.0.0.1:7862\n",
      "* To create a public link, set `share=True` in `launch()`.\n"
     ]
    },
    {
     "data": {
      "text/html": [
       "<div><iframe src=\"http://127.0.0.1:7862/\" width=\"100%\" height=\"500\" allow=\"autoplay; camera; microphone; clipboard-read; clipboard-write;\" frameborder=\"0\" allowfullscreen></iframe></div>"
      ],
      "text/plain": [
       "<IPython.core.display.HTML object>"
      ]
     },
     "metadata": {},
     "output_type": "display_data"
    }
   ],
   "source": [
    "# Launch a Gradio interface for chatting\n",
    "view = gr.ChatInterface(chat, type=\"messages\").launch(inbrowser=True)\n",
    "\n",
    "from langchain.prompts import ChatPromptTemplate, SystemMessagePromptTemplate, HumanMessagePromptTemplate\n",
    "\n",
    "# Define system and human message templates for the conversation prompt\n",
    "system_message = SystemMessagePromptTemplate.from_template(\n",
    "    \"You are a nice interactive chatbot who is expert in answering accurate questions about Chain reactions africa, the pr consultancy company. Give brief, accurate answers. If you don't know the answer, say so. Do not make anything up if you haven't been provided with relevant context.\"\n",
    ")\n",
    "\n",
    "human_message = HumanMessagePromptTemplate.from_template(\n",
    "    \"Context:\\n{context}\\n\\nQuestion: {question}\"\n",
    ")\n",
    "\n",
    "# Create a chat prompt template for the conversation chain\n",
    "chat_prompt = ChatPromptTemplate.from_messages([system_message, human_message])"
   ]
  },
  {
   "cell_type": "code",
   "execution_count": 34,
   "id": "60ba7809-d25c-4bbe-a168-b810907116a3",
   "metadata": {},
   "outputs": [],
   "source": [
    "# Set up a new conversational AI chat with OpenAI\n",
    "llm = ChatOpenAI(\n",
    "    temperature=0.7,\n",
    "    model_name=\"gpt-4\",  # You can use \"gpt-3.5-turbo\" as an alternative\n",
    "    openai_api_key=  # Replace with your actual key\n",
    ")\n",
    "\n",
    "# Set up conversation memory again for new chat instance\n",
    "memory = ConversationBufferMemory(memory_key='chat_history', return_messages=True)\n",
    "\n",
    "# Set up the retriever with specific retrieval settings\n",
    "retriever = vectorstore.as_retriever(search_kwargs={\"k\": 50})\n",
    "\n",
    "# Configure conversation chain with specific prompt and settings\n",
    "conversation_chain = ConversationalRetrievalChain.from_llm(\n",
    "    llm=llm,\n",
    "    retriever=retriever,\n",
    "    memory=memory,\n",
    "    combine_docs_chain_kwargs={\n",
    "        \"prompt\": chat_prompt,\n",
    "        \"document_variable_name\": \"context\"  # This specifies the context insertion point\n",
    "    }\n",
    ")\n"
   ]
  },
  {
   "cell_type": "code",
   "execution_count": 35,
   "id": "25168036-331a-46d0-8eec-da9027b8a300",
   "metadata": {},
   "outputs": [
    {
     "name": "stdout",
     "output_type": "stream",
     "text": [
      "* Running on local URL:  http://127.0.0.1:7863\n",
      "* To create a public link, set `share=True` in `launch()`.\n"
     ]
    },
    {
     "data": {
      "text/html": [
       "<div><iframe src=\"http://127.0.0.1:7863/\" width=\"100%\" height=\"500\" allow=\"autoplay; camera; microphone; clipboard-read; clipboard-write;\" frameborder=\"0\" allowfullscreen></iframe></div>"
      ],
      "text/plain": [
       "<IPython.core.display.HTML object>"
      ]
     },
     "metadata": {},
     "output_type": "display_data"
    }
   ],
   "source": [
    "def chat(question, history):\n",
    "    \"\"\"Execute a chat conversation based on a question and chat history.\n",
    "    \n",
    "    Args:\n",
    "        question (str): The question to ask the conversational model.\n",
    "        history (list): The conversation history.\n",
    "\n",
    "    Returns:\n",
    "        str: The answer from the conversation model.\n",
    "    \"\"\"\n",
    "    result = conversation_chain.invoke({\"question\": question})\n",
    "    return result[\"answer\"]\n",
    "\n",
    "# Launch a Gradio interface for chatting\n",
    "view = gr.ChatInterface(chat, type=\"messages\").launch(inbrowser=True)"
   ]
  },
  {
   "cell_type": "code",
   "execution_count": null,
   "id": "c406a2fc-2a60-45a2-bbb5-48c03f7332b0",
   "metadata": {},
   "outputs": [],
   "source": []
  }
 ],
 "metadata": {
  "kernelspec": {
   "display_name": "Python 3 (ipykernel)",
   "language": "python",
   "name": "python3"
  },
  "language_info": {
   "codemirror_mode": {
    "name": "ipython",
    "version": 3
   },
   "file_extension": ".py",
   "mimetype": "text/x-python",
   "name": "python",
   "nbconvert_exporter": "python",
   "pygments_lexer": "ipython3",
   "version": "3.11.10"
  }
 },
 "nbformat": 4,
 "nbformat_minor": 5
}
