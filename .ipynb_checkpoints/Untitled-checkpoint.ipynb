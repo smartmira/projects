{
 "cells": [
  {
   "cell_type": "markdown",
   "id": "d1816587-81ea-4141-902e-d8990cfb1cb8",
   "metadata": {},
   "source": [
    "### lets create a model using the U.S. Home Sales dataset"
   ]
  },
  {
   "cell_type": "markdown",
   "id": "f952021b-6010-49fa-8852-56ea2f5e543c",
   "metadata": {},
   "source": [
    "### problem definition\n",
    "in this project i am trying to predict the value of each house based on the category\n",
    "\n",
    "### data\n",
    "we were able to get our data from Tableau Public Data Sets,the link below is the location of the U.S. Home Sales dataset\n",
    "https://public.tableau.com/app/learn/sample-data"
   ]
  },
  {
   "cell_type": "code",
   "execution_count": 133,
   "id": "fb4de082-d46b-4afb-acd6-21d404ebac62",
   "metadata": {},
   "outputs": [
    {
     "ename": "IndentationError",
     "evalue": "unexpected indent (1763107424.py, line 13)",
     "output_type": "error",
     "traceback": [
      "\u001b[1;36m  Cell \u001b[1;32mIn[133], line 13\u001b[1;36m\u001b[0m\n\u001b[1;33m    from sklearn.model_selection import cross_val_score\u001b[0m\n\u001b[1;37m    ^\u001b[0m\n\u001b[1;31mIndentationError\u001b[0m\u001b[1;31m:\u001b[0m unexpected indent\n"
     ]
    }
   ],
   "source": [
    "#lets import all the tools needed\n",
    "import pandas as pd\n",
    "import numpy as np\n",
    "import sklearn\n",
    "import matplotlib.pyplot as plt\n",
    "import seaborn as sns\n",
    "from sklearn.metrics import make_scorer\n",
    "from sklearn.impute import KNNImputer\n",
    "from sklearn.linear_model import LinearRegression\n",
    "from sklearn.ensemble import RandomForestRegressor\n",
    "from sklearn.ensemble import GradientBoostingRegressor\n",
    "from sklearn.model_selection import RandomizedSearchCV\n",
    " from sklearn.model_selection import cross_val_score\n",
    "from sklearn.metrics import mean_absolute_error, r2_score, mean_squared_log_error"
   ]
  },
  {
   "cell_type": "code",
   "execution_count": null,
   "id": "3714085a-c266-4e87-b638-bdfda58f991a",
   "metadata": {},
   "outputs": [],
   "source": [
    "#import the dataset and assign it to house_sales\n",
    "house_sales = pd.read_csv(r\"C:\\Users\\USER\\Desktop\\house_price\\house_sales.csv\", encoding='latin1')"
   ]
  },
  {
   "cell_type": "markdown",
   "id": "c9d0f8d7-ace5-4f80-963e-05bd676ff403",
   "metadata": {},
   "source": [
    "### lets do a little visualization to understand the dataset"
   ]
  },
  {
   "cell_type": "code",
   "execution_count": null,
   "id": "f7cb8d67-7853-4ee0-903d-18d6704a5577",
   "metadata": {},
   "outputs": [],
   "source": [
    "house_sales.head()"
   ]
  },
  {
   "cell_type": "code",
   "execution_count": null,
   "id": "de4b0343-f74d-498c-abfc-7b9de7201c54",
   "metadata": {},
   "outputs": [],
   "source": [
    "#length of our dataset\n",
    "len(house_sales)"
   ]
  },
  {
   "cell_type": "code",
   "execution_count": null,
   "id": "3e399811-9be6-4fd0-b4be-fbbe8ddc5d3a",
   "metadata": {},
   "outputs": [],
   "source": [
    "house_sales.info()"
   ]
  },
  {
   "cell_type": "markdown",
   "id": "f235eb2b-659f-47e3-88be-0b58a47a4d06",
   "metadata": {},
   "source": [
    "### lets view each column and see how they correspond with each other to better understand our dataset"
   ]
  },
  {
   "cell_type": "code",
   "execution_count": null,
   "id": "0836c472-71e4-446e-9ad2-c66c3986f11c",
   "metadata": {},
   "outputs": [],
   "source": [
    "#lets check out our category columns\n",
    "house_sales.groupby(['cat_idx', 'cat_code', 'cat_desc', 'cat_indent']).size()"
   ]
  },
  {
   "cell_type": "code",
   "execution_count": null,
   "id": "3595c4e9-df91-4d2a-8832-c8b9d3fd4a8e",
   "metadata": {},
   "outputs": [],
   "source": [
    "# plot a graph to visualize all our category columns using groupby\n",
    "grouped_data = house_sales.groupby(['cat_idx', 'cat_code', 'cat_desc']).size().reset_index(name='count')\n",
    "\n",
    "# Plotting\n",
    "plt.figure(figsize=(12, 6))\n",
    "sns.barplot(data=grouped_data, x='cat_code', y='count', hue='cat_desc')\n",
    "plt.title('Counts of House Sales by Category')\n",
    "plt.xlabel('Category Code')\n",
    "plt.ylabel('Count')\n",
    "plt.xticks(rotation=45)\n",
    "plt.legend(title='Category Description')\n",
    "plt.tight_layout()\n",
    "plt.show()"
   ]
  },
  {
   "cell_type": "code",
   "execution_count": null,
   "id": "40c21ecd-bae8-4fa4-a6d0-7735a6d96ae4",
   "metadata": {},
   "outputs": [],
   "source": [
    "#lets check out our data column\n",
    "house_sales.groupby(['dt_idx', 'dt_code', 'dt_desc', 'dt_unit']).size()"
   ]
  },
  {
   "cell_type": "code",
   "execution_count": null,
   "id": "36d86dff-7cff-4679-81e7-5a8df93e0b39",
   "metadata": {},
   "outputs": [],
   "source": [
    "# plot a graph to visualize all our data columns using groupby\n",
    "grouped_data_dt = house_sales.groupby(['dt_idx', 'dt_code', 'dt_desc', 'dt_unit']).size().reset_index(name='count')\n",
    "\n",
    "plt.figure(figsize=(12, 6))\n",
    "sns.barplot(data=grouped_data_dt, x='dt_code', y='count', hue='dt_unit')\n",
    "plt.title('Counts of House Sales by data')\n",
    "plt.xlabel('dta Code')\n",
    "plt.ylabel('Count')\n",
    "plt.xticks(rotation=45)\n",
    "plt.legend(title='data Description')\n",
    "#plt.tight_layout()\n",
    "plt.show()\n"
   ]
  },
  {
   "cell_type": "code",
   "execution_count": null,
   "id": "84894b98-c8ff-473a-a77d-51fb429726a5",
   "metadata": {},
   "outputs": [],
   "source": [
    "# this tells us the estimated values on how accurate the actual values recorded on our dataset is\n",
    "# the values on our estimate column seems to be really poor  \n",
    "# as we know higher values indicate higer errors on our dataset but we can fix that\n",
    "house_sales.groupby(['et_idx', 'et_code', 'et_desc', 'et_unit']).size()"
   ]
  },
  {
   "cell_type": "code",
   "execution_count": null,
   "id": "cfdabd48-2799-4ac9-922e-4f0be4c3d49a",
   "metadata": {},
   "outputs": [],
   "source": [
    "# plot a graph to visualize all our error term columns using groupby\n",
    "grouped_data_dt = house_sales.groupby(['et_idx', 'et_code', 'et_desc', 'et_unit']).size().reset_index(name='count')\n",
    "\n",
    "plt.figure(figsize=(12, 6))\n",
    "sns.barplot(data=grouped_data_dt, x='et_code', y='et_idx', hue='et_desc')\n",
    "plt.title('Counts of House Sales by data')\n",
    "plt.xlabel('et_Code')\n",
    "plt.ylabel('Count')\n",
    "plt.xticks(rotation=45)\n",
    "plt.legend(title='errortotal Description')\n",
    "#plt.tight_layout()\n",
    "plt.show()"
   ]
  },
  {
   "cell_type": "code",
   "execution_count": null,
   "id": "4b719498-88ba-40e2-89f3-44c314c9c25d",
   "metadata": {},
   "outputs": [],
   "source": [
    "# lets check out our geographical column\n",
    "house_sales.groupby(['geo_code', 'geo_desc', 'geo_idx']).size()"
   ]
  },
  {
   "cell_type": "code",
   "execution_count": null,
   "id": "7737aa8e-6612-44af-8cfb-c716b20c3502",
   "metadata": {},
   "outputs": [],
   "source": [
    "# plot a graph to visualize all our geographical columns using groupby\n",
    "group_data_geo = house_sales.groupby(['geo_code', 'geo_desc', 'geo_idx']).size().reset_index(name='count')\n",
    "\n",
    "plt.figure(figsize=(12, 6))\n",
    "sns.barplot(data=group_data_geo, x='geo_code', y='count', hue='geo_desc')\n",
    "plt.xlabel('geo_Code')\n",
    "plt.ylabel('Count')\n",
    "plt.xticks(rotation=45)\n",
    "plt.legend(title='geo_loc')\n",
    "#plt.tight_layout()\n",
    "plt.show()"
   ]
  },
  {
   "cell_type": "code",
   "execution_count": null,
   "id": "8b4a59f7-58cd-4297-978e-7ef038699c9b",
   "metadata": {},
   "outputs": [],
   "source": [
    "# the is_adjusted columns tells us the columns in our dataset that were adjusted\n",
    "# 0 means not adjusted 1 means is adjusted\n",
    "house_sales[\"is_adj\"].value_counts()"
   ]
  },
  {
   "cell_type": "code",
   "execution_count": null,
   "id": "27331b1a-d8b6-406f-8345-870803d34517",
   "metadata": {},
   "outputs": [],
   "source": [
    "# this tells us how the cat, data_desc, data_unit and val correspond with eachother\n",
    "house_sales.groupby(['cat_code', 'dt_desc', 'dt_unit', 'val']).size()"
   ]
  },
  {
   "cell_type": "code",
   "execution_count": null,
   "id": "d59e7ce4-0115-4b32-92f2-ad0eb12e6bb7",
   "metadata": {},
   "outputs": [],
   "source": [
    "# this tells us how the geo_desc, cat_code, data_desc and data_unit correspond with eachother\n",
    "house_sales.groupby(['geo_desc', 'cat_code', 'dt_desc', 'dt_unit']).size()"
   ]
  },
  {
   "cell_type": "code",
   "execution_count": null,
   "id": "80202b6e-6e70-4d65-86f6-6c7e47f78989",
   "metadata": {},
   "outputs": [],
   "source": [
    "# one more visualization on our cat and dt_desc columns this tells us how the column performs on count plot\n",
    "plt.subplot(2, 2, 1)\n",
    "sns.countplot(y='cat_desc', data=house_sales)\n",
    "plt.title('category description count')\n",
    "\n",
    "plt.subplot(2, 2, 4)\n",
    "sns.countplot(y='dt_desc', data=house_sales)\n",
    "plt.title('data description count')"
   ]
  },
  {
   "cell_type": "markdown",
   "id": "160490bd-ca78-4638-bd7a-ee7f13248f28",
   "metadata": {},
   "source": [
    "### lets better understand our val (target) column"
   ]
  },
  {
   "cell_type": "code",
   "execution_count": 134,
   "id": "cd3069bb-8d2d-4aaf-9ebd-b1127ffc3e63",
   "metadata": {},
   "outputs": [
    {
     "data": {
      "text/plain": [
       "count     18610.000000\n",
       "mean       9352.033638\n",
       "std       42851.074035\n",
       "min           1.000000\n",
       "25%          11.000000\n",
       "50%          31.500000\n",
       "75%         151.750000\n",
       "max      384000.000000\n",
       "Name: val, dtype: float64"
      ]
     },
     "execution_count": 134,
     "metadata": {},
     "output_type": "execute_result"
    }
   ],
   "source": [
    "house_sales['val'].describe()"
   ]
  },
  {
   "cell_type": "code",
   "execution_count": 135,
   "id": "ca2a3861-cd86-48d3-8adb-cb96ffde8cde",
   "metadata": {},
   "outputs": [
    {
     "data": {
      "text/plain": [
       "1739"
      ]
     },
     "execution_count": 135,
     "metadata": {},
     "output_type": "execute_result"
    }
   ],
   "source": [
    "#tells us the count for each unique numerical feature on our datset\n",
    "house_sales['val'].nunique()"
   ]
  },
  {
   "cell_type": "code",
   "execution_count": 136,
   "id": "7b9489d2-d751-430c-9656-a6ce07769835",
   "metadata": {},
   "outputs": [
    {
     "data": {
      "image/png": "[encoded data removed]",
      "text/plain": [
       "<Figure size 1600x1000 with 2 Axes>"
      ]
     },
     "metadata": {},
     "output_type": "display_data"
    }
   ],
   "source": [
    "#the first plot tells the val dist on its count and its values the y axis are the unique count and the x axis are the values  \n",
    "plt.figure(figsize=(16, 10))\n",
    "plt.subplot(2, 2, 1)\n",
    "sns.histplot(house_sales['val'], bins=30, kde=True)\n",
    "plt.title('Distribution of val')\n",
    "\n",
    "# the per name column stands for the date column, this tells our val column overtime we would visualize this after weve wored on our datetime obj\n",
    "plt.subplot(2, 2, 2)\n",
    "plt.plot(house_sales['per_name'], house_sales['val'])\n",
    "plt.xticks(rotation=90)\n",
    "plt.title('val over time')\n",
    "\n",
    "plt.tight_layout()\n",
    "plt.show()"
   ]
  },
  {
   "cell_type": "markdown",
   "id": "737012cc-355f-4f3d-861d-9b20ad61bb7d",
   "metadata": {},
   "source": [
    "### lets copy our dataset so we can ma some changes on it"
   ]
  },
  {
   "cell_type": "code",
   "execution_count": 137,
   "id": "c9691a0c-b434-48b4-859f-b5197d578ecf",
   "metadata": {},
   "outputs": [],
   "source": [
    "df_house = house_sales.copy()"
   ]
  },
  {
   "cell_type": "code",
   "execution_count": 138,
   "id": "da60877f-6d80-4f38-ab85-3f7a0011526f",
   "metadata": {},
   "outputs": [
    {
     "data": {
      "text/html": [
       "<div>\n",
       "<style scoped>\n",
       "    .dataframe tbody tr th:only-of-type {\n",
       "        vertical-align: middle;\n",
       "    }\n",
       "\n",
       "    .dataframe tbody tr th {\n",
       "        vertical-align: top;\n",
       "    }\n",
       "\n",
       "    .dataframe thead th {\n",
       "        text-align: right;\n",
       "    }\n",
       "</style>\n",
       "<table border=\"1\" class=\"dataframe\">\n",
       "  <thead>\n",
       "    <tr style=\"text-align: right;\">\n",
       "      <th></th>\n",
       "      <th>per_idx</th>\n",
       "      <th>per_name</th>\n",
       "      <th>cat_idx</th>\n",
       "      <th>cat_code</th>\n",
       "      <th>cat_desc</th>\n",
       "      <th>cat_indent</th>\n",
       "      <th>dt_idx</th>\n",
       "      <th>dt_code</th>\n",
       "      <th>dt_desc</th>\n",
       "      <th>dt_unit</th>\n",
       "      <th>et_idx</th>\n",
       "      <th>et_code</th>\n",
       "      <th>et_desc</th>\n",
       "      <th>et_unit</th>\n",
       "      <th>geo_idx</th>\n",
       "      <th>geo_code</th>\n",
       "      <th>geo_desc</th>\n",
       "      <th>is_adj</th>\n",
       "      <th>val</th>\n",
       "      <th>serialid</th>\n",
       "    </tr>\n",
       "  </thead>\n",
       "  <tbody>\n",
       "    <tr>\n",
       "      <th>0</th>\n",
       "      <td>1</td>\n",
       "      <td>1/1/1963</td>\n",
       "      <td>1</td>\n",
       "      <td>SOLD</td>\n",
       "      <td>New Single-family Houses Sold</td>\n",
       "      <td>0</td>\n",
       "      <td>5</td>\n",
       "      <td>MEDIAN</td>\n",
       "      <td>Median Sales Price</td>\n",
       "      <td>DOL</td>\n",
       "      <td>0</td>\n",
       "      <td>NaN</td>\n",
       "      <td>NaN</td>\n",
       "      <td>NaN</td>\n",
       "      <td>1</td>\n",
       "      <td>US</td>\n",
       "      <td>United States</td>\n",
       "      <td>0</td>\n",
       "      <td>17200.0</td>\n",
       "      <td>1</td>\n",
       "    </tr>\n",
       "  </tbody>\n",
       "</table>\n",
       "</div>"
      ],
      "text/plain": [
       "   per_idx  per_name  cat_idx cat_code                       cat_desc  \\\n",
       "0        1  1/1/1963        1     SOLD  New Single-family Houses Sold   \n",
       "\n",
       "   cat_indent  dt_idx dt_code             dt_desc dt_unit  et_idx et_code  \\\n",
       "0           0       5  MEDIAN  Median Sales Price     DOL       0     NaN   \n",
       "\n",
       "  et_desc et_unit  geo_idx geo_code       geo_desc  is_adj      val  serialid  \n",
       "0     NaN     NaN        1       US  United States       0  17200.0         1  "
      ]
     },
     "execution_count": 138,
     "metadata": {},
     "output_type": "execute_result"
    }
   ],
   "source": [
    "df_house.head(1)"
   ]
  },
  {
   "cell_type": "markdown",
   "id": "e747f449-9c7c-44b0-8d0c-152e28403741",
   "metadata": {},
   "source": [
    "### rename our per_name column to date \n",
    "### change it to a date time object\n",
    "### plot the val/date column again\n",
    "### create a year/month/day column from our date column \n",
    "### then drop the date column"
   ]
  },
  {
   "cell_type": "code",
   "execution_count": 139,
   "id": "a5f7a767-0fd2-45ee-a4a4-d929342daeae",
   "metadata": {},
   "outputs": [],
   "source": [
    "df_house = df_house.rename(columns = {'per_name': 'date'})"
   ]
  },
  {
   "cell_type": "code",
   "execution_count": 140,
   "id": "afdca1f6-30d6-466e-bfc7-4564d82f4fbc",
   "metadata": {},
   "outputs": [],
   "source": [
    "df_house['date'] = pd.to_datetime(df_house['date'])"
   ]
  },
  {
   "cell_type": "code",
   "execution_count": 141,
   "id": "e7a3da73-9332-471a-a3c6-7c6ac8426bf8",
   "metadata": {},
   "outputs": [
    {
     "data": {
      "image/png": "[encoded data removed]",
      "text/plain": [
       "<Figure size 640x480 with 1 Axes>"
      ]
     },
     "metadata": {},
     "output_type": "display_data"
    }
   ],
   "source": [
    "plt.subplot(2, 1, 2)\n",
    "plt.plot(df_house['date'], house_sales['val'])\n",
    "plt.xticks(rotation=90)\n",
    "plt.title('val over time')\n",
    "\n",
    "plt.tight_layout()\n",
    "plt.show()"
   ]
  },
  {
   "cell_type": "code",
   "execution_count": 142,
   "id": "3c5f60fc-3f4c-4254-84a9-47dbae6c2019",
   "metadata": {},
   "outputs": [],
   "source": [
    "date_index = df_house.columns.get_loc('date')"
   ]
  },
  {
   "cell_type": "code",
   "execution_count": 143,
   "id": "cf3668f7-6f4d-4ec1-a8cb-8f7180ecadcc",
   "metadata": {},
   "outputs": [],
   "source": [
    "df_house.insert(date_index, 'year', df_house['date'].dt.year)\n",
    "df_house.insert(date_index + 1, 'month', df_house['date'].dt.month)\n",
    "df_house.insert(date_index + 2, 'day', df_house['date'].dt.day)"
   ]
  },
  {
   "cell_type": "code",
   "execution_count": 144,
   "id": "f9ccde45-0e44-4e50-a0be-7f95242cd8d9",
   "metadata": {},
   "outputs": [],
   "source": [
    "df_house = df_house.drop('date', axis=1)"
   ]
  },
  {
   "cell_type": "code",
   "execution_count": 145,
   "id": "1aaf8dab-c6dd-42e2-93f0-2706a47576c2",
   "metadata": {},
   "outputs": [
    {
     "data": {
      "text/html": [
       "<div>\n",
       "<style scoped>\n",
       "    .dataframe tbody tr th:only-of-type {\n",
       "        vertical-align: middle;\n",
       "    }\n",
       "\n",
       "    .dataframe tbody tr th {\n",
       "        vertical-align: top;\n",
       "    }\n",
       "\n",
       "    .dataframe thead th {\n",
       "        text-align: right;\n",
       "    }\n",
       "</style>\n",
       "<table border=\"1\" class=\"dataframe\">\n",
       "  <thead>\n",
       "    <tr style=\"text-align: right;\">\n",
       "      <th></th>\n",
       "      <th>per_idx</th>\n",
       "      <th>year</th>\n",
       "      <th>month</th>\n",
       "      <th>day</th>\n",
       "      <th>cat_idx</th>\n",
       "      <th>cat_code</th>\n",
       "      <th>cat_desc</th>\n",
       "      <th>cat_indent</th>\n",
       "      <th>dt_idx</th>\n",
       "      <th>dt_code</th>\n",
       "      <th>...</th>\n",
       "      <th>et_idx</th>\n",
       "      <th>et_code</th>\n",
       "      <th>et_desc</th>\n",
       "      <th>et_unit</th>\n",
       "      <th>geo_idx</th>\n",
       "      <th>geo_code</th>\n",
       "      <th>geo_desc</th>\n",
       "      <th>is_adj</th>\n",
       "      <th>val</th>\n",
       "      <th>serialid</th>\n",
       "    </tr>\n",
       "  </thead>\n",
       "  <tbody>\n",
       "    <tr>\n",
       "      <th>0</th>\n",
       "      <td>1</td>\n",
       "      <td>1963</td>\n",
       "      <td>1</td>\n",
       "      <td>1</td>\n",
       "      <td>1</td>\n",
       "      <td>SOLD</td>\n",
       "      <td>New Single-family Houses Sold</td>\n",
       "      <td>0</td>\n",
       "      <td>5</td>\n",
       "      <td>MEDIAN</td>\n",
       "      <td>...</td>\n",
       "      <td>0</td>\n",
       "      <td>NaN</td>\n",
       "      <td>NaN</td>\n",
       "      <td>NaN</td>\n",
       "      <td>1</td>\n",
       "      <td>US</td>\n",
       "      <td>United States</td>\n",
       "      <td>0</td>\n",
       "      <td>17200.0</td>\n",
       "      <td>1</td>\n",
       "    </tr>\n",
       "  </tbody>\n",
       "</table>\n",
       "<p>1 rows × 22 columns</p>\n",
       "</div>"
      ],
      "text/plain": [
       "   per_idx  year  month  day  cat_idx cat_code                       cat_desc  \\\n",
       "0        1  1963      1    1        1     SOLD  New Single-family Houses Sold   \n",
       "\n",
       "   cat_indent  dt_idx dt_code  ... et_idx et_code  et_desc et_unit geo_idx  \\\n",
       "0           0       5  MEDIAN  ...      0     NaN      NaN     NaN       1   \n",
       "\n",
       "  geo_code       geo_desc is_adj      val  serialid  \n",
       "0       US  United States      0  17200.0         1  \n",
       "\n",
       "[1 rows x 22 columns]"
      ]
     },
     "execution_count": 145,
     "metadata": {},
     "output_type": "execute_result"
    }
   ],
   "source": [
    "df_house.head(1)"
   ]
  },
  {
   "cell_type": "markdown",
   "id": "d899fd53-73ec-4f40-bfea-4498ce055c5c",
   "metadata": {},
   "source": [
    "### lets change categorical features to numerical and fill in missing values using KNN"
   ]
  },
  {
   "cell_type": "code",
   "execution_count": 146,
   "id": "aab37b96-ddf0-432d-8883-cf16eb81860a",
   "metadata": {},
   "outputs": [
    {
     "data": {
      "text/plain": [
       "per_idx           0\n",
       "year              0\n",
       "month             0\n",
       "day               0\n",
       "cat_idx           0\n",
       "cat_code          0\n",
       "cat_desc          0\n",
       "cat_indent        0\n",
       "dt_idx            0\n",
       "dt_code        5050\n",
       "dt_desc        5050\n",
       "dt_unit        5050\n",
       "et_idx            0\n",
       "et_code       15354\n",
       "et_desc       15354\n",
       "et_unit       15354\n",
       "geo_idx           0\n",
       "geo_code          0\n",
       "geo_desc          0\n",
       "is_adj            0\n",
       "val            1794\n",
       "serialid          0\n",
       "dtype: int64"
      ]
     },
     "execution_count": 146,
     "metadata": {},
     "output_type": "execute_result"
    }
   ],
   "source": [
    "df_house.isna().sum()"
   ]
  },
  {
   "cell_type": "code",
   "execution_count": 147,
   "id": "e8f8d53e-9d31-4a01-bdec-42bd7d2f4ca6",
   "metadata": {},
   "outputs": [
    {
     "data": {
      "text/plain": [
       "Index(['cat_code', 'cat_desc', 'dt_code', 'dt_desc', 'dt_unit', 'et_code',\n",
       "       'et_desc', 'et_unit', 'geo_code', 'geo_desc'],\n",
       "      dtype='object')"
      ]
     },
     "execution_count": 147,
     "metadata": {},
     "output_type": "execute_result"
    }
   ],
   "source": [
    "obj = df_house.select_dtypes(exclude=['number']).columns\n",
    "obj"
   ]
  },
  {
   "cell_type": "code",
   "execution_count": 148,
   "id": "195a2378-14a6-4732-8d08-383d1f9870ed",
   "metadata": {},
   "outputs": [],
   "source": [
    "cat_columns = ['cat_code', 'cat_desc', 'dt_code', 'dt_desc', 'dt_unit', 'et_code',\n",
    "               'et_desc', 'et_unit', 'geo_code', 'geo_desc']\n",
    "df_house[cat_columns] = df_house[cat_columns].astype('category')"
   ]
  },
  {
   "cell_type": "code",
   "execution_count": 149,
   "id": "e78d4585-602f-4acb-b418-68634b823045",
   "metadata": {},
   "outputs": [
    {
     "data": {
      "text/plain": [
       "0        2\n",
       "1        2\n",
       "2        2\n",
       "3        2\n",
       "4        2\n",
       "        ..\n",
       "20399    1\n",
       "20400    1\n",
       "20401    1\n",
       "20402    1\n",
       "20403    1\n",
       "Length: 20404, dtype: int8"
      ]
     },
     "execution_count": 149,
     "metadata": {},
     "output_type": "execute_result"
    }
   ],
   "source": [
    "df_house.cat_code.cat.codes"
   ]
  },
  {
   "cell_type": "code",
   "execution_count": 150,
   "id": "85050271-fd74-4000-8782-c5db6aff80f2",
   "metadata": {},
   "outputs": [],
   "source": [
    "for label, content in df_house.items():\n",
    "    df_house[label] = pd.Categorical(content).codes+1"
   ]
  },
  {
   "cell_type": "code",
   "execution_count": 151,
   "id": "5024ee9d-7865-44bd-8066-93df70377caa",
   "metadata": {},
   "outputs": [],
   "source": [
    "Imputer = KNNImputer(n_neighbors=5)\n",
    "\n",
    "df1_house = pd.DataFrame(Imputer.fit_transform(df_house), columns=df_house.columns)"
   ]
  },
  {
   "cell_type": "code",
   "execution_count": 152,
   "id": "869cad34-a87f-46d7-851d-17a03bb0a631",
   "metadata": {},
   "outputs": [
    {
     "data": {
      "text/plain": [
       "per_idx       0\n",
       "year          0\n",
       "month         0\n",
       "day           0\n",
       "cat_idx       0\n",
       "cat_code      0\n",
       "cat_desc      0\n",
       "cat_indent    0\n",
       "dt_idx        0\n",
       "dt_code       0\n",
       "dt_desc       0\n",
       "dt_unit       0\n",
       "et_idx        0\n",
       "et_code       0\n",
       "et_desc       0\n",
       "et_unit       0\n",
       "geo_idx       0\n",
       "geo_code      0\n",
       "geo_desc      0\n",
       "is_adj        0\n",
       "val           0\n",
       "serialid      0\n",
       "dtype: int64"
      ]
     },
     "execution_count": 152,
     "metadata": {},
     "output_type": "execute_result"
    }
   ],
   "source": [
    "df1_house.isna().sum()"
   ]
  },
  {
   "cell_type": "markdown",
   "id": "2974976a-d1ba-43b1-946c-01d6df8e6851",
   "metadata": {},
   "source": [
    "### lets create our feature and target variable and create our train test and val split"
   ]
  },
  {
   "cell_type": "code",
   "execution_count": 153,
   "id": "51d59744-296d-413b-ba73-77e207f3c78a",
   "metadata": {},
   "outputs": [],
   "source": [
    "\n",
    "def rmsle(y_true, y_preds):\n",
    "    \"\"\"\n",
    "    Calculate the Root Mean Squared Log Error (RMSLE).\n",
    "    \"\"\"\n",
    "    return np.sqrt(mean_squared_log_error(y_true, y_preds))\n",
    "\n",
    "def evaluate_preds(y_true, y_preds):\n",
    "    \"\"\"\n",
    "    Performs evaluation comparison on y_true labels vs. y_pred labels\n",
    "    on a regression task.\n",
    "    \"\"\"\n",
    "    # Calculate the regression metrics\n",
    "    mae = mean_absolute_error(y_true, y_preds)\n",
    "    rmsle_value = rmsle(y_true, y_preds)\n",
    "    r2 = r2_score(y_true, y_preds)\n",
    "    \n",
    "    # Create a dictionary for the metrics\n",
    "    metric_dict = {\"MAE\": round(mae, 2),\n",
    "                   \"RMSLE\": round(rmsle_value, 2),\n",
    "                   \"R2\": round(r2, 2)}\n",
    "    \n",
    "    # Print the metrics\n",
    "    print(f\"Mean Absolute Error (MAE): {mae:.2f}\")\n",
    "    print(f\"Root Mean Squared Log Error (RMSLE): {rmsle_value:.2f}\")\n",
    "    print(f\"R2 Score: {r2:.2f}\")\n",
    "    \n",
    "    return metric_dict\n",
    "\n"
   ]
  },
  {
   "cell_type": "code",
   "execution_count": 154,
   "id": "9f6783b8-8e04-40ee-ac6a-55c5a741cdc6",
   "metadata": {},
   "outputs": [
    {
     "data": {
      "text/plain": [
       "((12242, 21), (4081, 21), (4081, 21))"
      ]
     },
     "execution_count": 154,
     "metadata": {},
     "output_type": "execute_result"
    }
   ],
   "source": [
    "df2_house = df_house.sample(frac=1)\n",
    "\n",
    "X = df_house.drop('val', axis=1)\n",
    "y = df_house['val']\n",
    "\n",
    "train_split = round(0.6 * len (df2_house))\n",
    "valid_split = round(train_split + 0.2 * len (df2_house))\n",
    "\n",
    "X_train, y_train = X[:train_split], y[:train_split]\n",
    "X_val, y_val = X[train_split:valid_split], y[train_split:valid_split]\n",
    "X_test, y_test = X[valid_split:], y[valid_split:]\n",
    "\n",
    "X_train.shape, X_val.shape, X_test.shape"
   ]
  },
  {
   "cell_type": "markdown",
   "id": "814886b8-038c-489c-9a69-fc9ee9ace378",
   "metadata": {},
   "source": [
    "### lets try a our baseline model to try our split"
   ]
  },
  {
   "cell_type": "code",
   "execution_count": 155,
   "id": "c0720eae-20ea-4363-8770-6908bd53001a",
   "metadata": {},
   "outputs": [],
   "source": [
    "clf = RandomForestRegressor()"
   ]
  },
  {
   "cell_type": "code",
   "execution_count": 156,
   "id": "f547eefb-c4b3-442c-af24-634f7c44321e",
   "metadata": {},
   "outputs": [
    {
     "data": {
      "text/html": [
       "<style>#sk-container-id-5 {\n",
       "  /* Definition of color scheme common for light and dark mode */\n",
       "  --sklearn-color-text: black;\n",
       "  --sklearn-color-line: gray;\n",
       "  /* Definition of color scheme for unfitted estimators */\n",
       "  --sklearn-color-unfitted-level-0: #fff5e6;\n",
       "  --sklearn-color-unfitted-level-1: #f6e4d2;\n",
       "  --sklearn-color-unfitted-level-2: #ffe0b3;\n",
       "  --sklearn-color-unfitted-level-3: chocolate;\n",
       "  /* Definition of color scheme for fitted estimators */\n",
       "  --sklearn-color-fitted-level-0: #f0f8ff;\n",
       "  --sklearn-color-fitted-level-1: #d4ebff;\n",
       "  --sklearn-color-fitted-level-2: #b3dbfd;\n",
       "  --sklearn-color-fitted-level-3: cornflowerblue;\n",
       "\n",
       "  /* Specific color for light theme */\n",
       "  --sklearn-color-text-on-default-background: var(--sg-text-color, var(--theme-code-foreground, var(--jp-content-font-color1, black)));\n",
       "  --sklearn-color-background: var(--sg-background-color, var(--theme-background, var(--jp-layout-color0, white)));\n",
       "  --sklearn-color-border-box: var(--sg-text-color, var(--theme-code-foreground, var(--jp-content-font-color1, black)));\n",
       "  --sklearn-color-icon: #696969;\n",
       "\n",
       "  @media (prefers-color-scheme: dark) {\n",
       "    /* Redefinition of color scheme for dark theme */\n",
       "    --sklearn-color-text-on-default-background: var(--sg-text-color, var(--theme-code-foreground, var(--jp-content-font-color1, white)));\n",
       "    --sklearn-color-background: var(--sg-background-color, var(--theme-background, var(--jp-layout-color0, #111)));\n",
       "    --sklearn-color-border-box: var(--sg-text-color, var(--theme-code-foreground, var(--jp-content-font-color1, white)));\n",
       "    --sklearn-color-icon: #878787;\n",
       "  }\n",
       "}\n",
       "\n",
       "#sk-container-id-5 {\n",
       "  color: var(--sklearn-color-text);\n",
       "}\n",
       "\n",
       "#sk-container-id-5 pre {\n",
       "  padding: 0;\n",
       "}\n",
       "\n",
       "#sk-container-id-5 input.sk-hidden--visually {\n",
       "  border: 0;\n",
       "  clip: rect(1px 1px 1px 1px);\n",
       "  clip: rect(1px, 1px, 1px, 1px);\n",
       "  height: 1px;\n",
       "  margin: -1px;\n",
       "  overflow: hidden;\n",
       "  padding: 0;\n",
       "  position: absolute;\n",
       "  width: 1px;\n",
       "}\n",
       "\n",
       "#sk-container-id-5 div.sk-dashed-wrapped {\n",
       "  border: 1px dashed var(--sklearn-color-line);\n",
       "  margin: 0 0.4em 0.5em 0.4em;\n",
       "  box-sizing: border-box;\n",
       "  padding-bottom: 0.4em;\n",
       "  background-color: var(--sklearn-color-background);\n",
       "}\n",
       "\n",
       "#sk-container-id-5 div.sk-container {\n",
       "  /* jupyter's `normalize.less` sets `[hidden] { display: none; }`\n",
       "     but bootstrap.min.css set `[hidden] { display: none !important; }`\n",
       "     so we also need the `!important` here to be able to override the\n",
       "     default hidden behavior on the sphinx rendered scikit-learn.org.\n",
       "     See: https://github.com/scikit-learn/scikit-learn/issues/21755 */\n",
       "  display: inline-block !important;\n",
       "  position: relative;\n",
       "}\n",
       "\n",
       "#sk-container-id-5 div.sk-text-repr-fallback {\n",
       "  display: none;\n",
       "}\n",
       "\n",
       "div.sk-parallel-item,\n",
       "div.sk-serial,\n",
       "div.sk-item {\n",
       "  /* draw centered vertical line to link estimators */\n",
       "  background-image: linear-gradient(var(--sklearn-color-text-on-default-background), var(--sklearn-color-text-on-default-background));\n",
       "  background-size: 2px 100%;\n",
       "  background-repeat: no-repeat;\n",
       "  background-position: center center;\n",
       "}\n",
       "\n",
       "/* Parallel-specific style estimator block */\n",
       "\n",
       "#sk-container-id-5 div.sk-parallel-item::after {\n",
       "  content: \"\";\n",
       "  width: 100%;\n",
       "  border-bottom: 2px solid var(--sklearn-color-text-on-default-background);\n",
       "  flex-grow: 1;\n",
       "}\n",
       "\n",
       "#sk-container-id-5 div.sk-parallel {\n",
       "  display: flex;\n",
       "  align-items: stretch;\n",
       "  justify-content: center;\n",
       "  background-color: var(--sklearn-color-background);\n",
       "  position: relative;\n",
       "}\n",
       "\n",
       "#sk-container-id-5 div.sk-parallel-item {\n",
       "  display: flex;\n",
       "  flex-direction: column;\n",
       "}\n",
       "\n",
       "#sk-container-id-5 div.sk-parallel-item:first-child::after {\n",
       "  align-self: flex-end;\n",
       "  width: 50%;\n",
       "}\n",
       "\n",
       "#sk-container-id-5 div.sk-parallel-item:last-child::after {\n",
       "  align-self: flex-start;\n",
       "  width: 50%;\n",
       "}\n",
       "\n",
       "#sk-container-id-5 div.sk-parallel-item:only-child::after {\n",
       "  width: 0;\n",
       "}\n",
       "\n",
       "/* Serial-specific style estimator block */\n",
       "\n",
       "#sk-container-id-5 div.sk-serial {\n",
       "  display: flex;\n",
       "  flex-direction: column;\n",
       "  align-items: center;\n",
       "  background-color: var(--sklearn-color-background);\n",
       "  padding-right: 1em;\n",
       "  padding-left: 1em;\n",
       "}\n",
       "\n",
       "\n",
       "/* Toggleable style: style used for estimator/Pipeline/ColumnTransformer box that is\n",
       "clickable and can be expanded/collapsed.\n",
       "- Pipeline and ColumnTransformer use this feature and define the default style\n",
       "- Estimators will overwrite some part of the style using the `sk-estimator` class\n",
       "*/\n",
       "\n",
       "/* Pipeline and ColumnTransformer style (default) */\n",
       "\n",
       "#sk-container-id-5 div.sk-toggleable {\n",
       "  /* Default theme specific background. It is overwritten whether we have a\n",
       "  specific estimator or a Pipeline/ColumnTransformer */\n",
       "  background-color: var(--sklearn-color-background);\n",
       "}\n",
       "\n",
       "/* Toggleable label */\n",
       "#sk-container-id-5 label.sk-toggleable__label {\n",
       "  cursor: pointer;\n",
       "  display: block;\n",
       "  width: 100%;\n",
       "  margin-bottom: 0;\n",
       "  padding: 0.5em;\n",
       "  box-sizing: border-box;\n",
       "  text-align: center;\n",
       "}\n",
       "\n",
       "#sk-container-id-5 label.sk-toggleable__label-arrow:before {\n",
       "  /* Arrow on the left of the label */\n",
       "  content: \"▸\";\n",
       "  float: left;\n",
       "  margin-right: 0.25em;\n",
       "  color: var(--sklearn-color-icon);\n",
       "}\n",
       "\n",
       "#sk-container-id-5 label.sk-toggleable__label-arrow:hover:before {\n",
       "  color: var(--sklearn-color-text);\n",
       "}\n",
       "\n",
       "/* Toggleable content - dropdown */\n",
       "\n",
       "#sk-container-id-5 div.sk-toggleable__content {\n",
       "  max-height: 0;\n",
       "  max-width: 0;\n",
       "  overflow: hidden;\n",
       "  text-align: left;\n",
       "  /* unfitted */\n",
       "  background-color: var(--sklearn-color-unfitted-level-0);\n",
       "}\n",
       "\n",
       "#sk-container-id-5 div.sk-toggleable__content.fitted {\n",
       "  /* fitted */\n",
       "  background-color: var(--sklearn-color-fitted-level-0);\n",
       "}\n",
       "\n",
       "#sk-container-id-5 div.sk-toggleable__content pre {\n",
       "  margin: 0.2em;\n",
       "  border-radius: 0.25em;\n",
       "  color: var(--sklearn-color-text);\n",
       "  /* unfitted */\n",
       "  background-color: var(--sklearn-color-unfitted-level-0);\n",
       "}\n",
       "\n",
       "#sk-container-id-5 div.sk-toggleable__content.fitted pre {\n",
       "  /* unfitted */\n",
       "  background-color: var(--sklearn-color-fitted-level-0);\n",
       "}\n",
       "\n",
       "#sk-container-id-5 input.sk-toggleable__control:checked~div.sk-toggleable__content {\n",
       "  /* Expand drop-down */\n",
       "  max-height: 200px;\n",
       "  max-width: 100%;\n",
       "  overflow: auto;\n",
       "}\n",
       "\n",
       "#sk-container-id-5 input.sk-toggleable__control:checked~label.sk-toggleable__label-arrow:before {\n",
       "  content: \"▾\";\n",
       "}\n",
       "\n",
       "/* Pipeline/ColumnTransformer-specific style */\n",
       "\n",
       "#sk-container-id-5 div.sk-label input.sk-toggleable__control:checked~label.sk-toggleable__label {\n",
       "  color: var(--sklearn-color-text);\n",
       "  background-color: var(--sklearn-color-unfitted-level-2);\n",
       "}\n",
       "\n",
       "#sk-container-id-5 div.sk-label.fitted input.sk-toggleable__control:checked~label.sk-toggleable__label {\n",
       "  background-color: var(--sklearn-color-fitted-level-2);\n",
       "}\n",
       "\n",
       "/* Estimator-specific style */\n",
       "\n",
       "/* Colorize estimator box */\n",
       "#sk-container-id-5 div.sk-estimator input.sk-toggleable__control:checked~label.sk-toggleable__label {\n",
       "  /* unfitted */\n",
       "  background-color: var(--sklearn-color-unfitted-level-2);\n",
       "}\n",
       "\n",
       "#sk-container-id-5 div.sk-estimator.fitted input.sk-toggleable__control:checked~label.sk-toggleable__label {\n",
       "  /* fitted */\n",
       "  background-color: var(--sklearn-color-fitted-level-2);\n",
       "}\n",
       "\n",
       "#sk-container-id-5 div.sk-label label.sk-toggleable__label,\n",
       "#sk-container-id-5 div.sk-label label {\n",
       "  /* The background is the default theme color */\n",
       "  color: var(--sklearn-color-text-on-default-background);\n",
       "}\n",
       "\n",
       "/* On hover, darken the color of the background */\n",
       "#sk-container-id-5 div.sk-label:hover label.sk-toggleable__label {\n",
       "  color: var(--sklearn-color-text);\n",
       "  background-color: var(--sklearn-color-unfitted-level-2);\n",
       "}\n",
       "\n",
       "/* Label box, darken color on hover, fitted */\n",
       "#sk-container-id-5 div.sk-label.fitted:hover label.sk-toggleable__label.fitted {\n",
       "  color: var(--sklearn-color-text);\n",
       "  background-color: var(--sklearn-color-fitted-level-2);\n",
       "}\n",
       "\n",
       "/* Estimator label */\n",
       "\n",
       "#sk-container-id-5 div.sk-label label {\n",
       "  font-family: monospace;\n",
       "  font-weight: bold;\n",
       "  display: inline-block;\n",
       "  line-height: 1.2em;\n",
       "}\n",
       "\n",
       "#sk-container-id-5 div.sk-label-container {\n",
       "  text-align: center;\n",
       "}\n",
       "\n",
       "/* Estimator-specific */\n",
       "#sk-container-id-5 div.sk-estimator {\n",
       "  font-family: monospace;\n",
       "  border: 1px dotted var(--sklearn-color-border-box);\n",
       "  border-radius: 0.25em;\n",
       "  box-sizing: border-box;\n",
       "  margin-bottom: 0.5em;\n",
       "  /* unfitted */\n",
       "  background-color: var(--sklearn-color-unfitted-level-0);\n",
       "}\n",
       "\n",
       "#sk-container-id-5 div.sk-estimator.fitted {\n",
       "  /* fitted */\n",
       "  background-color: var(--sklearn-color-fitted-level-0);\n",
       "}\n",
       "\n",
       "/* on hover */\n",
       "#sk-container-id-5 div.sk-estimator:hover {\n",
       "  /* unfitted */\n",
       "  background-color: var(--sklearn-color-unfitted-level-2);\n",
       "}\n",
       "\n",
       "#sk-container-id-5 div.sk-estimator.fitted:hover {\n",
       "  /* fitted */\n",
       "  background-color: var(--sklearn-color-fitted-level-2);\n",
       "}\n",
       "\n",
       "/* Specification for estimator info (e.g. \"i\" and \"?\") */\n",
       "\n",
       "/* Common style for \"i\" and \"?\" */\n",
       "\n",
       ".sk-estimator-doc-link,\n",
       "a:link.sk-estimator-doc-link,\n",
       "a:visited.sk-estimator-doc-link {\n",
       "  float: right;\n",
       "  font-size: smaller;\n",
       "  line-height: 1em;\n",
       "  font-family: monospace;\n",
       "  background-color: var(--sklearn-color-background);\n",
       "  border-radius: 1em;\n",
       "  height: 1em;\n",
       "  width: 1em;\n",
       "  text-decoration: none !important;\n",
       "  margin-left: 1ex;\n",
       "  /* unfitted */\n",
       "  border: var(--sklearn-color-unfitted-level-1) 1pt solid;\n",
       "  color: var(--sklearn-color-unfitted-level-1);\n",
       "}\n",
       "\n",
       ".sk-estimator-doc-link.fitted,\n",
       "a:link.sk-estimator-doc-link.fitted,\n",
       "a:visited.sk-estimator-doc-link.fitted {\n",
       "  /* fitted */\n",
       "  border: var(--sklearn-color-fitted-level-1) 1pt solid;\n",
       "  color: var(--sklearn-color-fitted-level-1);\n",
       "}\n",
       "\n",
       "/* On hover */\n",
       "div.sk-estimator:hover .sk-estimator-doc-link:hover,\n",
       ".sk-estimator-doc-link:hover,\n",
       "div.sk-label-container:hover .sk-estimator-doc-link:hover,\n",
       ".sk-estimator-doc-link:hover {\n",
       "  /* unfitted */\n",
       "  background-color: var(--sklearn-color-unfitted-level-3);\n",
       "  color: var(--sklearn-color-background);\n",
       "  text-decoration: none;\n",
       "}\n",
       "\n",
       "div.sk-estimator.fitted:hover .sk-estimator-doc-link.fitted:hover,\n",
       ".sk-estimator-doc-link.fitted:hover,\n",
       "div.sk-label-container:hover .sk-estimator-doc-link.fitted:hover,\n",
       ".sk-estimator-doc-link.fitted:hover {\n",
       "  /* fitted */\n",
       "  background-color: var(--sklearn-color-fitted-level-3);\n",
       "  color: var(--sklearn-color-background);\n",
       "  text-decoration: none;\n",
       "}\n",
       "\n",
       "/* Span, style for the box shown on hovering the info icon */\n",
       ".sk-estimator-doc-link span {\n",
       "  display: none;\n",
       "  z-index: 9999;\n",
       "  position: relative;\n",
       "  font-weight: normal;\n",
       "  right: .2ex;\n",
       "  padding: .5ex;\n",
       "  margin: .5ex;\n",
       "  width: min-content;\n",
       "  min-width: 20ex;\n",
       "  max-width: 50ex;\n",
       "  color: var(--sklearn-color-text);\n",
       "  box-shadow: 2pt 2pt 4pt #999;\n",
       "  /* unfitted */\n",
       "  background: var(--sklearn-color-unfitted-level-0);\n",
       "  border: .5pt solid var(--sklearn-color-unfitted-level-3);\n",
       "}\n",
       "\n",
       ".sk-estimator-doc-link.fitted span {\n",
       "  /* fitted */\n",
       "  background: var(--sklearn-color-fitted-level-0);\n",
       "  border: var(--sklearn-color-fitted-level-3);\n",
       "}\n",
       "\n",
       ".sk-estimator-doc-link:hover span {\n",
       "  display: block;\n",
       "}\n",
       "\n",
       "/* \"?\"-specific style due to the `<a>` HTML tag */\n",
       "\n",
       "#sk-container-id-5 a.estimator_doc_link {\n",
       "  float: right;\n",
       "  font-size: 1rem;\n",
       "  line-height: 1em;\n",
       "  font-family: monospace;\n",
       "  background-color: var(--sklearn-color-background);\n",
       "  border-radius: 1rem;\n",
       "  height: 1rem;\n",
       "  width: 1rem;\n",
       "  text-decoration: none;\n",
       "  /* unfitted */\n",
       "  color: var(--sklearn-color-unfitted-level-1);\n",
       "  border: var(--sklearn-color-unfitted-level-1) 1pt solid;\n",
       "}\n",
       "\n",
       "#sk-container-id-5 a.estimator_doc_link.fitted {\n",
       "  /* fitted */\n",
       "  border: var(--sklearn-color-fitted-level-1) 1pt solid;\n",
       "  color: var(--sklearn-color-fitted-level-1);\n",
       "}\n",
       "\n",
       "/* On hover */\n",
       "#sk-container-id-5 a.estimator_doc_link:hover {\n",
       "  /* unfitted */\n",
       "  background-color: var(--sklearn-color-unfitted-level-3);\n",
       "  color: var(--sklearn-color-background);\n",
       "  text-decoration: none;\n",
       "}\n",
       "\n",
       "#sk-container-id-5 a.estimator_doc_link.fitted:hover {\n",
       "  /* fitted */\n",
       "  background-color: var(--sklearn-color-fitted-level-3);\n",
       "}\n",
       "</style><div id=\"sk-container-id-5\" class=\"sk-top-container\"><div class=\"sk-text-repr-fallback\"><pre>RandomForestRegressor()</pre><b>In a Jupyter environment, please rerun this cell to show the HTML representation or trust the notebook. <br />On GitHub, the HTML representation is unable to render, please try loading this page with nbviewer.org.</b></div><div class=\"sk-container\" hidden><div class=\"sk-item\"><div class=\"sk-estimator fitted sk-toggleable\"><input class=\"sk-toggleable__control sk-hidden--visually\" id=\"sk-estimator-id-9\" type=\"checkbox\" checked><label for=\"sk-estimator-id-9\" class=\"sk-toggleable__label fitted sk-toggleable__label-arrow fitted\">&nbsp;&nbsp;RandomForestRegressor<a class=\"sk-estimator-doc-link fitted\" rel=\"noreferrer\" target=\"_blank\" href=\"https://scikit-learn.org/1.5/modules/generated/sklearn.ensemble.RandomForestRegressor.html\">?<span>Documentation for RandomForestRegressor</span></a><span class=\"sk-estimator-doc-link fitted\">i<span>Fitted</span></span></label><div class=\"sk-toggleable__content fitted\"><pre>RandomForestRegressor()</pre></div> </div></div></div></div>"
      ],
      "text/plain": [
       "RandomForestRegressor()"
      ]
     },
     "execution_count": 156,
     "metadata": {},
     "output_type": "execute_result"
    }
   ],
   "source": [
    "clf.fit(X_train, y_train)"
   ]
  },
  {
   "cell_type": "code",
   "execution_count": 157,
   "id": "5180d6d6-797d-47a0-afc9-b2028b34b981",
   "metadata": {},
   "outputs": [
    {
     "name": "stdout",
     "output_type": "stream",
     "text": [
      "Mean Absolute Error (MAE): 25.21\n",
      "Root Mean Squared Log Error (RMSLE): 0.39\n",
      "R2 Score: 0.96\n"
     ]
    },
    {
     "data": {
      "text/plain": [
       "{'MAE': 25.21, 'RMSLE': 0.39, 'R2': 0.96}"
      ]
     },
     "execution_count": 157,
     "metadata": {},
     "output_type": "execute_result"
    }
   ],
   "source": [
    "y_preds = clf.predict(X_val)\n",
    "\n",
    "baseline_metrics = evaluate_preds(y_val, y_preds)\n",
    "baseline_metrics"
   ]
  },
  {
   "cell_type": "markdown",
   "id": "bce23d28-4024-4d22-bd5a-d3a796c9a210",
   "metadata": {},
   "source": [
    "### works well now lets check other models to see which works best"
   ]
  },
  {
   "cell_type": "code",
   "execution_count": 158,
   "id": "54fcf2db-46fc-4b58-ac0e-c6bd6833f339",
   "metadata": {},
   "outputs": [],
   "source": [
    "models = {\"Linear\": LinearRegression(),\n",
    "          \"Random\": RandomForestRegressor(),\n",
    "          \"Gradient\": GradientBoostingRegressor()\n",
    "         }\n",
    "\n",
    "def fit_and_score(models, X_train, y_train, X_val, y_val):\n",
    "    np.random.seed(42)\n",
    "    model_scores = {}\n",
    "    for name, model in models.items():\n",
    "        model.fit(X_train, y_train)\n",
    "        model_scores[name] = model.score(X_val, y_val)\n",
    "\n",
    "    return model_scores"
   ]
  },
  {
   "cell_type": "code",
   "execution_count": 159,
   "id": "573288e8-f0e0-4ec2-a886-c1b637649ae5",
   "metadata": {},
   "outputs": [
    {
     "data": {
      "text/plain": [
       "{'Linear': 0.7756945294279587,\n",
       " 'Random': 0.9641076446560166,\n",
       " 'Gradient': 0.957085905005262}"
      ]
     },
     "execution_count": 159,
     "metadata": {},
     "output_type": "execute_result"
    }
   ],
   "source": [
    "model_scores = fit_and_score(models=models,\n",
    "                             X_train=X_train,\n",
    "                             y_train=y_train,\n",
    "                             X_val=X_val,\n",
    "                             y_val=y_val)\n",
    "model_scores"
   ]
  },
  {
   "cell_type": "code",
   "execution_count": 160,
   "id": "5eab4bb9-477a-426f-9306-a42b7f5d8950",
   "metadata": {},
   "outputs": [
    {
     "data": {
      "image/png": "[encoded data removed]",
      "text/plain": [
       "<Figure size 640x480 with 1 Axes>"
      ]
     },
     "metadata": {},
     "output_type": "display_data"
    }
   ],
   "source": [
    "model_compare = pd.DataFrame(model_scores, index=[\"accuracy\"])\n",
    "model_compare.T.plot.bar()\n",
    "plt.show()"
   ]
  },
  {
   "cell_type": "markdown",
   "id": "27018cb0-360d-47f3-99e2-8898fc30ea05",
   "metadata": {},
   "source": [
    "### our RandomForestRegressor still performs best now lets try hyperparameter tunning to see if we can improve on it"
   ]
  },
  {
   "cell_type": "code",
   "execution_count": 161,
   "id": "1cd17bba-ce0d-43d6-af03-4dd59359138a",
   "metadata": {},
   "outputs": [],
   "source": [
    "rf_grid = {\"n_estimators\": np.arange(10, 100, 10),\n",
    "           \"max_depth\": [None, 3, 5, 10],\n",
    "           \"min_samples_split\": np.arange(2, 20, 2),\n",
    "           \"min_samples_leaf\": np.arange(1, 20, 2),\n",
    "           \"max_features\": [0.5, 1, \"sqrt\", \"log2\"],\n",
    "           \"max_samples\": [None]}"
   ]
  },
  {
   "cell_type": "code",
   "execution_count": 162,
   "id": "89d72ac3-b48c-4a12-bc22-84e45c0e7260",
   "metadata": {},
   "outputs": [
    {
     "name": "stdout",
     "output_type": "stream",
     "text": [
      "Fitting 5 folds for each of 5 candidates, totalling 25 fits\n"
     ]
    },
    {
     "data": {
      "text/html": [
       "<style>#sk-container-id-6 {\n",
       "  /* Definition of color scheme common for light and dark mode */\n",
       "  --sklearn-color-text: black;\n",
       "  --sklearn-color-line: gray;\n",
       "  /* Definition of color scheme for unfitted estimators */\n",
       "  --sklearn-color-unfitted-level-0: #fff5e6;\n",
       "  --sklearn-color-unfitted-level-1: #f6e4d2;\n",
       "  --sklearn-color-unfitted-level-2: #ffe0b3;\n",
       "  --sklearn-color-unfitted-level-3: chocolate;\n",
       "  /* Definition of color scheme for fitted estimators */\n",
       "  --sklearn-color-fitted-level-0: #f0f8ff;\n",
       "  --sklearn-color-fitted-level-1: #d4ebff;\n",
       "  --sklearn-color-fitted-level-2: #b3dbfd;\n",
       "  --sklearn-color-fitted-level-3: cornflowerblue;\n",
       "\n",
       "  /* Specific color for light theme */\n",
       "  --sklearn-color-text-on-default-background: var(--sg-text-color, var(--theme-code-foreground, var(--jp-content-font-color1, black)));\n",
       "  --sklearn-color-background: var(--sg-background-color, var(--theme-background, var(--jp-layout-color0, white)));\n",
       "  --sklearn-color-border-box: var(--sg-text-color, var(--theme-code-foreground, var(--jp-content-font-color1, black)));\n",
       "  --sklearn-color-icon: #696969;\n",
       "\n",
       "  @media (prefers-color-scheme: dark) {\n",
       "    /* Redefinition of color scheme for dark theme */\n",
       "    --sklearn-color-text-on-default-background: var(--sg-text-color, var(--theme-code-foreground, var(--jp-content-font-color1, white)));\n",
       "    --sklearn-color-background: var(--sg-background-color, var(--theme-background, var(--jp-layout-color0, #111)));\n",
       "    --sklearn-color-border-box: var(--sg-text-color, var(--theme-code-foreground, var(--jp-content-font-color1, white)));\n",
       "    --sklearn-color-icon: #878787;\n",
       "  }\n",
       "}\n",
       "\n",
       "#sk-container-id-6 {\n",
       "  color: var(--sklearn-color-text);\n",
       "}\n",
       "\n",
       "#sk-container-id-6 pre {\n",
       "  padding: 0;\n",
       "}\n",
       "\n",
       "#sk-container-id-6 input.sk-hidden--visually {\n",
       "  border: 0;\n",
       "  clip: rect(1px 1px 1px 1px);\n",
       "  clip: rect(1px, 1px, 1px, 1px);\n",
       "  height: 1px;\n",
       "  margin: -1px;\n",
       "  overflow: hidden;\n",
       "  padding: 0;\n",
       "  position: absolute;\n",
       "  width: 1px;\n",
       "}\n",
       "\n",
       "#sk-container-id-6 div.sk-dashed-wrapped {\n",
       "  border: 1px dashed var(--sklearn-color-line);\n",
       "  margin: 0 0.4em 0.5em 0.4em;\n",
       "  box-sizing: border-box;\n",
       "  padding-bottom: 0.4em;\n",
       "  background-color: var(--sklearn-color-background);\n",
       "}\n",
       "\n",
       "#sk-container-id-6 div.sk-container {\n",
       "  /* jupyter's `normalize.less` sets `[hidden] { display: none; }`\n",
       "     but bootstrap.min.css set `[hidden] { display: none !important; }`\n",
       "     so we also need the `!important` here to be able to override the\n",
       "     default hidden behavior on the sphinx rendered scikit-learn.org.\n",
       "     See: https://github.com/scikit-learn/scikit-learn/issues/21755 */\n",
       "  display: inline-block !important;\n",
       "  position: relative;\n",
       "}\n",
       "\n",
       "#sk-container-id-6 div.sk-text-repr-fallback {\n",
       "  display: none;\n",
       "}\n",
       "\n",
       "div.sk-parallel-item,\n",
       "div.sk-serial,\n",
       "div.sk-item {\n",
       "  /* draw centered vertical line to link estimators */\n",
       "  background-image: linear-gradient(var(--sklearn-color-text-on-default-background), var(--sklearn-color-text-on-default-background));\n",
       "  background-size: 2px 100%;\n",
       "  background-repeat: no-repeat;\n",
       "  background-position: center center;\n",
       "}\n",
       "\n",
       "/* Parallel-specific style estimator block */\n",
       "\n",
       "#sk-container-id-6 div.sk-parallel-item::after {\n",
       "  content: \"\";\n",
       "  width: 100%;\n",
       "  border-bottom: 2px solid var(--sklearn-color-text-on-default-background);\n",
       "  flex-grow: 1;\n",
       "}\n",
       "\n",
       "#sk-container-id-6 div.sk-parallel {\n",
       "  display: flex;\n",
       "  align-items: stretch;\n",
       "  justify-content: center;\n",
       "  background-color: var(--sklearn-color-background);\n",
       "  position: relative;\n",
       "}\n",
       "\n",
       "#sk-container-id-6 div.sk-parallel-item {\n",
       "  display: flex;\n",
       "  flex-direction: column;\n",
       "}\n",
       "\n",
       "#sk-container-id-6 div.sk-parallel-item:first-child::after {\n",
       "  align-self: flex-end;\n",
       "  width: 50%;\n",
       "}\n",
       "\n",
       "#sk-container-id-6 div.sk-parallel-item:last-child::after {\n",
       "  align-self: flex-start;\n",
       "  width: 50%;\n",
       "}\n",
       "\n",
       "#sk-container-id-6 div.sk-parallel-item:only-child::after {\n",
       "  width: 0;\n",
       "}\n",
       "\n",
       "/* Serial-specific style estimator block */\n",
       "\n",
       "#sk-container-id-6 div.sk-serial {\n",
       "  display: flex;\n",
       "  flex-direction: column;\n",
       "  align-items: center;\n",
       "  background-color: var(--sklearn-color-background);\n",
       "  padding-right: 1em;\n",
       "  padding-left: 1em;\n",
       "}\n",
       "\n",
       "\n",
       "/* Toggleable style: style used for estimator/Pipeline/ColumnTransformer box that is\n",
       "clickable and can be expanded/collapsed.\n",
       "- Pipeline and ColumnTransformer use this feature and define the default style\n",
       "- Estimators will overwrite some part of the style using the `sk-estimator` class\n",
       "*/\n",
       "\n",
       "/* Pipeline and ColumnTransformer style (default) */\n",
       "\n",
       "#sk-container-id-6 div.sk-toggleable {\n",
       "  /* Default theme specific background. It is overwritten whether we have a\n",
       "  specific estimator or a Pipeline/ColumnTransformer */\n",
       "  background-color: var(--sklearn-color-background);\n",
       "}\n",
       "\n",
       "/* Toggleable label */\n",
       "#sk-container-id-6 label.sk-toggleable__label {\n",
       "  cursor: pointer;\n",
       "  display: block;\n",
       "  width: 100%;\n",
       "  margin-bottom: 0;\n",
       "  padding: 0.5em;\n",
       "  box-sizing: border-box;\n",
       "  text-align: center;\n",
       "}\n",
       "\n",
       "#sk-container-id-6 label.sk-toggleable__label-arrow:before {\n",
       "  /* Arrow on the left of the label */\n",
       "  content: \"▸\";\n",
       "  float: left;\n",
       "  margin-right: 0.25em;\n",
       "  color: var(--sklearn-color-icon);\n",
       "}\n",
       "\n",
       "#sk-container-id-6 label.sk-toggleable__label-arrow:hover:before {\n",
       "  color: var(--sklearn-color-text);\n",
       "}\n",
       "\n",
       "/* Toggleable content - dropdown */\n",
       "\n",
       "#sk-container-id-6 div.sk-toggleable__content {\n",
       "  max-height: 0;\n",
       "  max-width: 0;\n",
       "  overflow: hidden;\n",
       "  text-align: left;\n",
       "  /* unfitted */\n",
       "  background-color: var(--sklearn-color-unfitted-level-0);\n",
       "}\n",
       "\n",
       "#sk-container-id-6 div.sk-toggleable__content.fitted {\n",
       "  /* fitted */\n",
       "  background-color: var(--sklearn-color-fitted-level-0);\n",
       "}\n",
       "\n",
       "#sk-container-id-6 div.sk-toggleable__content pre {\n",
       "  margin: 0.2em;\n",
       "  border-radius: 0.25em;\n",
       "  color: var(--sklearn-color-text);\n",
       "  /* unfitted */\n",
       "  background-color: var(--sklearn-color-unfitted-level-0);\n",
       "}\n",
       "\n",
       "#sk-container-id-6 div.sk-toggleable__content.fitted pre {\n",
       "  /* unfitted */\n",
       "  background-color: var(--sklearn-color-fitted-level-0);\n",
       "}\n",
       "\n",
       "#sk-container-id-6 input.sk-toggleable__control:checked~div.sk-toggleable__content {\n",
       "  /* Expand drop-down */\n",
       "  max-height: 200px;\n",
       "  max-width: 100%;\n",
       "  overflow: auto;\n",
       "}\n",
       "\n",
       "#sk-container-id-6 input.sk-toggleable__control:checked~label.sk-toggleable__label-arrow:before {\n",
       "  content: \"▾\";\n",
       "}\n",
       "\n",
       "/* Pipeline/ColumnTransformer-specific style */\n",
       "\n",
       "#sk-container-id-6 div.sk-label input.sk-toggleable__control:checked~label.sk-toggleable__label {\n",
       "  color: var(--sklearn-color-text);\n",
       "  background-color: var(--sklearn-color-unfitted-level-2);\n",
       "}\n",
       "\n",
       "#sk-container-id-6 div.sk-label.fitted input.sk-toggleable__control:checked~label.sk-toggleable__label {\n",
       "  background-color: var(--sklearn-color-fitted-level-2);\n",
       "}\n",
       "\n",
       "/* Estimator-specific style */\n",
       "\n",
       "/* Colorize estimator box */\n",
       "#sk-container-id-6 div.sk-estimator input.sk-toggleable__control:checked~label.sk-toggleable__label {\n",
       "  /* unfitted */\n",
       "  background-color: var(--sklearn-color-unfitted-level-2);\n",
       "}\n",
       "\n",
       "#sk-container-id-6 div.sk-estimator.fitted input.sk-toggleable__control:checked~label.sk-toggleable__label {\n",
       "  /* fitted */\n",
       "  background-color: var(--sklearn-color-fitted-level-2);\n",
       "}\n",
       "\n",
       "#sk-container-id-6 div.sk-label label.sk-toggleable__label,\n",
       "#sk-container-id-6 div.sk-label label {\n",
       "  /* The background is the default theme color */\n",
       "  color: var(--sklearn-color-text-on-default-background);\n",
       "}\n",
       "\n",
       "/* On hover, darken the color of the background */\n",
       "#sk-container-id-6 div.sk-label:hover label.sk-toggleable__label {\n",
       "  color: var(--sklearn-color-text);\n",
       "  background-color: var(--sklearn-color-unfitted-level-2);\n",
       "}\n",
       "\n",
       "/* Label box, darken color on hover, fitted */\n",
       "#sk-container-id-6 div.sk-label.fitted:hover label.sk-toggleable__label.fitted {\n",
       "  color: var(--sklearn-color-text);\n",
       "  background-color: var(--sklearn-color-fitted-level-2);\n",
       "}\n",
       "\n",
       "/* Estimator label */\n",
       "\n",
       "#sk-container-id-6 div.sk-label label {\n",
       "  font-family: monospace;\n",
       "  font-weight: bold;\n",
       "  display: inline-block;\n",
       "  line-height: 1.2em;\n",
       "}\n",
       "\n",
       "#sk-container-id-6 div.sk-label-container {\n",
       "  text-align: center;\n",
       "}\n",
       "\n",
       "/* Estimator-specific */\n",
       "#sk-container-id-6 div.sk-estimator {\n",
       "  font-family: monospace;\n",
       "  border: 1px dotted var(--sklearn-color-border-box);\n",
       "  border-radius: 0.25em;\n",
       "  box-sizing: border-box;\n",
       "  margin-bottom: 0.5em;\n",
       "  /* unfitted */\n",
       "  background-color: var(--sklearn-color-unfitted-level-0);\n",
       "}\n",
       "\n",
       "#sk-container-id-6 div.sk-estimator.fitted {\n",
       "  /* fitted */\n",
       "  background-color: var(--sklearn-color-fitted-level-0);\n",
       "}\n",
       "\n",
       "/* on hover */\n",
       "#sk-container-id-6 div.sk-estimator:hover {\n",
       "  /* unfitted */\n",
       "  background-color: var(--sklearn-color-unfitted-level-2);\n",
       "}\n",
       "\n",
       "#sk-container-id-6 div.sk-estimator.fitted:hover {\n",
       "  /* fitted */\n",
       "  background-color: var(--sklearn-color-fitted-level-2);\n",
       "}\n",
       "\n",
       "/* Specification for estimator info (e.g. \"i\" and \"?\") */\n",
       "\n",
       "/* Common style for \"i\" and \"?\" */\n",
       "\n",
       ".sk-estimator-doc-link,\n",
       "a:link.sk-estimator-doc-link,\n",
       "a:visited.sk-estimator-doc-link {\n",
       "  float: right;\n",
       "  font-size: smaller;\n",
       "  line-height: 1em;\n",
       "  font-family: monospace;\n",
       "  background-color: var(--sklearn-color-background);\n",
       "  border-radius: 1em;\n",
       "  height: 1em;\n",
       "  width: 1em;\n",
       "  text-decoration: none !important;\n",
       "  margin-left: 1ex;\n",
       "  /* unfitted */\n",
       "  border: var(--sklearn-color-unfitted-level-1) 1pt solid;\n",
       "  color: var(--sklearn-color-unfitted-level-1);\n",
       "}\n",
       "\n",
       ".sk-estimator-doc-link.fitted,\n",
       "a:link.sk-estimator-doc-link.fitted,\n",
       "a:visited.sk-estimator-doc-link.fitted {\n",
       "  /* fitted */\n",
       "  border: var(--sklearn-color-fitted-level-1) 1pt solid;\n",
       "  color: var(--sklearn-color-fitted-level-1);\n",
       "}\n",
       "\n",
       "/* On hover */\n",
       "div.sk-estimator:hover .sk-estimator-doc-link:hover,\n",
       ".sk-estimator-doc-link:hover,\n",
       "div.sk-label-container:hover .sk-estimator-doc-link:hover,\n",
       ".sk-estimator-doc-link:hover {\n",
       "  /* unfitted */\n",
       "  background-color: var(--sklearn-color-unfitted-level-3);\n",
       "  color: var(--sklearn-color-background);\n",
       "  text-decoration: none;\n",
       "}\n",
       "\n",
       "div.sk-estimator.fitted:hover .sk-estimator-doc-link.fitted:hover,\n",
       ".sk-estimator-doc-link.fitted:hover,\n",
       "div.sk-label-container:hover .sk-estimator-doc-link.fitted:hover,\n",
       ".sk-estimator-doc-link.fitted:hover {\n",
       "  /* fitted */\n",
       "  background-color: var(--sklearn-color-fitted-level-3);\n",
       "  color: var(--sklearn-color-background);\n",
       "  text-decoration: none;\n",
       "}\n",
       "\n",
       "/* Span, style for the box shown on hovering the info icon */\n",
       ".sk-estimator-doc-link span {\n",
       "  display: none;\n",
       "  z-index: 9999;\n",
       "  position: relative;\n",
       "  font-weight: normal;\n",
       "  right: .2ex;\n",
       "  padding: .5ex;\n",
       "  margin: .5ex;\n",
       "  width: min-content;\n",
       "  min-width: 20ex;\n",
       "  max-width: 50ex;\n",
       "  color: var(--sklearn-color-text);\n",
       "  box-shadow: 2pt 2pt 4pt #999;\n",
       "  /* unfitted */\n",
       "  background: var(--sklearn-color-unfitted-level-0);\n",
       "  border: .5pt solid var(--sklearn-color-unfitted-level-3);\n",
       "}\n",
       "\n",
       ".sk-estimator-doc-link.fitted span {\n",
       "  /* fitted */\n",
       "  background: var(--sklearn-color-fitted-level-0);\n",
       "  border: var(--sklearn-color-fitted-level-3);\n",
       "}\n",
       "\n",
       ".sk-estimator-doc-link:hover span {\n",
       "  display: block;\n",
       "}\n",
       "\n",
       "/* \"?\"-specific style due to the `<a>` HTML tag */\n",
       "\n",
       "#sk-container-id-6 a.estimator_doc_link {\n",
       "  float: right;\n",
       "  font-size: 1rem;\n",
       "  line-height: 1em;\n",
       "  font-family: monospace;\n",
       "  background-color: var(--sklearn-color-background);\n",
       "  border-radius: 1rem;\n",
       "  height: 1rem;\n",
       "  width: 1rem;\n",
       "  text-decoration: none;\n",
       "  /* unfitted */\n",
       "  color: var(--sklearn-color-unfitted-level-1);\n",
       "  border: var(--sklearn-color-unfitted-level-1) 1pt solid;\n",
       "}\n",
       "\n",
       "#sk-container-id-6 a.estimator_doc_link.fitted {\n",
       "  /* fitted */\n",
       "  border: var(--sklearn-color-fitted-level-1) 1pt solid;\n",
       "  color: var(--sklearn-color-fitted-level-1);\n",
       "}\n",
       "\n",
       "/* On hover */\n",
       "#sk-container-id-6 a.estimator_doc_link:hover {\n",
       "  /* unfitted */\n",
       "  background-color: var(--sklearn-color-unfitted-level-3);\n",
       "  color: var(--sklearn-color-background);\n",
       "  text-decoration: none;\n",
       "}\n",
       "\n",
       "#sk-container-id-6 a.estimator_doc_link.fitted:hover {\n",
       "  /* fitted */\n",
       "  background-color: var(--sklearn-color-fitted-level-3);\n",
       "}\n",
       "</style><div id=\"sk-container-id-6\" class=\"sk-top-container\"><div class=\"sk-text-repr-fallback\"><pre>RandomizedSearchCV(cv=5, estimator=RandomForestRegressor(random_state=42),\n",
       "                   n_iter=5,\n",
       "                   param_distributions={&#x27;max_depth&#x27;: [None, 3, 5, 10],\n",
       "                                        &#x27;max_features&#x27;: [0.5, 1, &#x27;sqrt&#x27;,\n",
       "                                                         &#x27;log2&#x27;],\n",
       "                                        &#x27;max_samples&#x27;: [None],\n",
       "                                        &#x27;min_samples_leaf&#x27;: array([ 1,  3,  5,  7,  9, 11, 13, 15, 17, 19]),\n",
       "                                        &#x27;min_samples_split&#x27;: array([ 2,  4,  6,  8, 10, 12, 14, 16, 18]),\n",
       "                                        &#x27;n_estimators&#x27;: array([10, 20, 30, 40, 50, 60, 70, 80, 90])},\n",
       "                   verbose=True)</pre><b>In a Jupyter environment, please rerun this cell to show the HTML representation or trust the notebook. <br />On GitHub, the HTML representation is unable to render, please try loading this page with nbviewer.org.</b></div><div class=\"sk-container\" hidden><div class=\"sk-item sk-dashed-wrapped\"><div class=\"sk-label-container\"><div class=\"sk-label fitted sk-toggleable\"><input class=\"sk-toggleable__control sk-hidden--visually\" id=\"sk-estimator-id-10\" type=\"checkbox\" ><label for=\"sk-estimator-id-10\" class=\"sk-toggleable__label fitted sk-toggleable__label-arrow fitted\">&nbsp;&nbsp;RandomizedSearchCV<a class=\"sk-estimator-doc-link fitted\" rel=\"noreferrer\" target=\"_blank\" href=\"https://scikit-learn.org/1.5/modules/generated/sklearn.model_selection.RandomizedSearchCV.html\">?<span>Documentation for RandomizedSearchCV</span></a><span class=\"sk-estimator-doc-link fitted\">i<span>Fitted</span></span></label><div class=\"sk-toggleable__content fitted\"><pre>RandomizedSearchCV(cv=5, estimator=RandomForestRegressor(random_state=42),\n",
       "                   n_iter=5,\n",
       "                   param_distributions={&#x27;max_depth&#x27;: [None, 3, 5, 10],\n",
       "                                        &#x27;max_features&#x27;: [0.5, 1, &#x27;sqrt&#x27;,\n",
       "                                                         &#x27;log2&#x27;],\n",
       "                                        &#x27;max_samples&#x27;: [None],\n",
       "                                        &#x27;min_samples_leaf&#x27;: array([ 1,  3,  5,  7,  9, 11, 13, 15, 17, 19]),\n",
       "                                        &#x27;min_samples_split&#x27;: array([ 2,  4,  6,  8, 10, 12, 14, 16, 18]),\n",
       "                                        &#x27;n_estimators&#x27;: array([10, 20, 30, 40, 50, 60, 70, 80, 90])},\n",
       "                   verbose=True)</pre></div> </div></div><div class=\"sk-parallel\"><div class=\"sk-parallel-item\"><div class=\"sk-item\"><div class=\"sk-label-container\"><div class=\"sk-label fitted sk-toggleable\"><input class=\"sk-toggleable__control sk-hidden--visually\" id=\"sk-estimator-id-11\" type=\"checkbox\" ><label for=\"sk-estimator-id-11\" class=\"sk-toggleable__label fitted sk-toggleable__label-arrow fitted\">best_estimator_: RandomForestRegressor</label><div class=\"sk-toggleable__content fitted\"><pre>RandomForestRegressor(max_features=1, min_samples_split=12, n_estimators=90,\n",
       "                      random_state=42)</pre></div> </div></div><div class=\"sk-serial\"><div class=\"sk-item\"><div class=\"sk-estimator fitted sk-toggleable\"><input class=\"sk-toggleable__control sk-hidden--visually\" id=\"sk-estimator-id-12\" type=\"checkbox\" ><label for=\"sk-estimator-id-12\" class=\"sk-toggleable__label fitted sk-toggleable__label-arrow fitted\">&nbsp;RandomForestRegressor<a class=\"sk-estimator-doc-link fitted\" rel=\"noreferrer\" target=\"_blank\" href=\"https://scikit-learn.org/1.5/modules/generated/sklearn.ensemble.RandomForestRegressor.html\">?<span>Documentation for RandomForestRegressor</span></a></label><div class=\"sk-toggleable__content fitted\"><pre>RandomForestRegressor(max_features=1, min_samples_split=12, n_estimators=90,\n",
       "                      random_state=42)</pre></div> </div></div></div></div></div></div></div></div></div>"
      ],
      "text/plain": [
       "RandomizedSearchCV(cv=5, estimator=RandomForestRegressor(random_state=42),\n",
       "                   n_iter=5,\n",
       "                   param_distributions={'max_depth': [None, 3, 5, 10],\n",
       "                                        'max_features': [0.5, 1, 'sqrt',\n",
       "                                                         'log2'],\n",
       "                                        'max_samples': [None],\n",
       "                                        'min_samples_leaf': array([ 1,  3,  5,  7,  9, 11, 13, 15, 17, 19]),\n",
       "                                        'min_samples_split': array([ 2,  4,  6,  8, 10, 12, 14, 16, 18]),\n",
       "                                        'n_estimators': array([10, 20, 30, 40, 50, 60, 70, 80, 90])},\n",
       "                   verbose=True)"
      ]
     },
     "execution_count": 162,
     "metadata": {},
     "output_type": "execute_result"
    }
   ],
   "source": [
    "\n",
    "rf_model = RandomizedSearchCV(RandomForestRegressor(random_state=42),\n",
    "                               param_distributions=rf_grid,\n",
    "                               n_iter=5,\n",
    "                               cv=5,\n",
    "                               verbose=True)\n",
    "rf_model.fit(X_train, y_train)"
   ]
  },
  {
   "cell_type": "code",
   "execution_count": 163,
   "id": "8b03f322-604b-4863-b14e-b2b0f77563b2",
   "metadata": {},
   "outputs": [
    {
     "data": {
      "text/plain": [
       "{'n_estimators': 90,\n",
       " 'min_samples_split': 12,\n",
       " 'min_samples_leaf': 1,\n",
       " 'max_samples': None,\n",
       " 'max_features': 1,\n",
       " 'max_depth': None}"
      ]
     },
     "execution_count": 163,
     "metadata": {},
     "output_type": "execute_result"
    }
   ],
   "source": [
    "rf_model.best_params_"
   ]
  },
  {
   "cell_type": "code",
   "execution_count": 164,
   "id": "94283303-f3df-4820-a6d1-265f9a43574d",
   "metadata": {},
   "outputs": [],
   "source": [
    "y_preds1 = rf_model.predict(X_val)"
   ]
  },
  {
   "cell_type": "code",
   "execution_count": 165,
   "id": "014b637c-00e1-4517-aa4f-6a55be8443af",
   "metadata": {},
   "outputs": [],
   "source": [
    "def rmsle(y_val, y_preds1):\n",
    "    return np.sqrt(mean_squared_log_error(y_val, y_preds1))\n",
    "    \n",
    "\n",
    "def evaluate_preds(y_val, y_preds1):\n",
    "    mae = mean_absolute_error(y_val, y_preds1)\n",
    "    rmsle_value = rmsle(y_val, y_preds1)\n",
    "    r2 = r2_score(y_val, y_preds1)\n",
    "    metric_dict={\"mae\": round(mae, 2),\n",
    "                 \"rmsle\": round(rmsle_value, 2),\n",
    "                 \"r2_score\": round(r2, 2)}\n",
    "    \n",
    "    print(f\"mae: {mae:.2f}\")\n",
    "    print(f\"rmsle: {rmsle_value:.2f}\")\n",
    "    print(f\"r2_score: {r2 * 100:.2f}%\")\n",
    "\n",
    "    return metric_dict\n",
    "    "
   ]
  },
  {
   "cell_type": "code",
   "execution_count": 166,
   "id": "92e414be-5a4a-4963-a5bd-cf0cbf658b33",
   "metadata": {},
   "outputs": [
    {
     "name": "stdout",
     "output_type": "stream",
     "text": [
      "mae: 43.14\n",
      "rmsle: 1.32\n",
      "r2_score: 94.88%\n"
     ]
    },
    {
     "data": {
      "text/plain": [
       "{'mae': 43.14, 'rmsle': 1.32, 'r2_score': 0.95}"
      ]
     },
     "execution_count": 166,
     "metadata": {},
     "output_type": "execute_result"
    }
   ],
   "source": [
    "evaluate_preds(y_val, y_preds1)"
   ]
  },
  {
   "cell_type": "markdown",
   "id": "69f8bc26-a68c-44d8-8d87-c9789e8e3704",
   "metadata": {},
   "source": [
    "### after trying series of hyperparameter tunning, our base model is still the best"
   ]
  },
  {
   "cell_type": "markdown",
   "id": "3dc9d8b4-fac6-4988-ab30-f4434594a74a",
   "metadata": {},
   "source": [
    "## now lets proceed"
   ]
  },
  {
   "cell_type": "markdown",
   "id": "47367a17-1f33-493f-9b55-802d7ff80365",
   "metadata": {},
   "source": [
    "### trying to understand our score on each evaluation metric"
   ]
  },
  {
   "cell_type": "code",
   "execution_count": 167,
   "id": "cc42be7d-4034-4d24-b174-a74667a46029",
   "metadata": {},
   "outputs": [
    {
     "data": {
      "text/plain": [
       "0.964199168712523"
      ]
     },
     "execution_count": 167,
     "metadata": {},
     "output_type": "execute_result"
    }
   ],
   "source": [
    "r2_score(y_true=y_val,\n",
    "         y_pred=y_preds)"
   ]
  },
  {
   "cell_type": "code",
   "execution_count": 168,
   "id": "4e720b51-0c78-40f6-ba10-1b792c87c8f0",
   "metadata": {},
   "outputs": [
    {
     "data": {
      "text/plain": [
       "25.21297231070816"
      ]
     },
     "execution_count": 168,
     "metadata": {},
     "output_type": "execute_result"
    }
   ],
   "source": [
    "mae = mean_absolute_error(y_val, y_preds)\n",
    "mae"
   ]
  },
  {
   "cell_type": "code",
   "execution_count": 169,
   "id": "2d16357d-b23e-4bbc-8186-575938c9e6dc",
   "metadata": {},
   "outputs": [
    {
     "data": {
      "text/plain": [
       "0.3892627837261351"
      ]
     },
     "execution_count": 169,
     "metadata": {},
     "output_type": "execute_result"
    }
   ],
   "source": [
    "rmsle = np.sqrt(mean_squared_log_error(y_val, y_preds))\n",
    "rmsle"
   ]
  },
  {
   "cell_type": "code",
   "execution_count": 170,
   "id": "242d6d0b-b16e-43d5-89ec-c998410f7af5",
   "metadata": {},
   "outputs": [
    {
     "data": {
      "text/html": [
       "<div>\n",
       "<style scoped>\n",
       "    .dataframe tbody tr th:only-of-type {\n",
       "        vertical-align: middle;\n",
       "    }\n",
       "\n",
       "    .dataframe tbody tr th {\n",
       "        vertical-align: top;\n",
       "    }\n",
       "\n",
       "    .dataframe thead th {\n",
       "        text-align: right;\n",
       "    }\n",
       "</style>\n",
       "<table border=\"1\" class=\"dataframe\">\n",
       "  <thead>\n",
       "    <tr style=\"text-align: right;\">\n",
       "      <th></th>\n",
       "      <th>actual values</th>\n",
       "      <th>predicted values</th>\n",
       "      <th>differences</th>\n",
       "    </tr>\n",
       "  </thead>\n",
       "  <tbody>\n",
       "    <tr>\n",
       "      <th>12242</th>\n",
       "      <td>1419</td>\n",
       "      <td>1413.04</td>\n",
       "      <td>-5.96</td>\n",
       "    </tr>\n",
       "    <tr>\n",
       "      <th>12243</th>\n",
       "      <td>4</td>\n",
       "      <td>4.03</td>\n",
       "      <td>0.03</td>\n",
       "    </tr>\n",
       "    <tr>\n",
       "      <th>12244</th>\n",
       "      <td>34</td>\n",
       "      <td>30.73</td>\n",
       "      <td>-3.27</td>\n",
       "    </tr>\n",
       "    <tr>\n",
       "      <th>12245</th>\n",
       "      <td>6</td>\n",
       "      <td>5.99</td>\n",
       "      <td>-0.01</td>\n",
       "    </tr>\n",
       "    <tr>\n",
       "      <th>12246</th>\n",
       "      <td>33</td>\n",
       "      <td>30.77</td>\n",
       "      <td>-2.23</td>\n",
       "    </tr>\n",
       "    <tr>\n",
       "      <th>12247</th>\n",
       "      <td>6</td>\n",
       "      <td>6.19</td>\n",
       "      <td>0.19</td>\n",
       "    </tr>\n",
       "    <tr>\n",
       "      <th>12248</th>\n",
       "      <td>21</td>\n",
       "      <td>23.30</td>\n",
       "      <td>2.30</td>\n",
       "    </tr>\n",
       "    <tr>\n",
       "      <th>12249</th>\n",
       "      <td>10</td>\n",
       "      <td>9.64</td>\n",
       "      <td>-0.36</td>\n",
       "    </tr>\n",
       "    <tr>\n",
       "      <th>12250</th>\n",
       "      <td>88</td>\n",
       "      <td>88.57</td>\n",
       "      <td>0.57</td>\n",
       "    </tr>\n",
       "    <tr>\n",
       "      <th>12251</th>\n",
       "      <td>789</td>\n",
       "      <td>792.17</td>\n",
       "      <td>3.17</td>\n",
       "    </tr>\n",
       "  </tbody>\n",
       "</table>\n",
       "</div>"
      ],
      "text/plain": [
       "       actual values  predicted values  differences\n",
       "12242           1419           1413.04        -5.96\n",
       "12243              4              4.03         0.03\n",
       "12244             34             30.73        -3.27\n",
       "12245              6              5.99        -0.01\n",
       "12246             33             30.77        -2.23\n",
       "12247              6              6.19         0.19\n",
       "12248             21             23.30         2.30\n",
       "12249             10              9.64        -0.36\n",
       "12250             88             88.57         0.57\n",
       "12251            789            792.17         3.17"
      ]
     },
     "execution_count": 170,
     "metadata": {},
     "output_type": "execute_result"
    }
   ],
   "source": [
    "df = pd.DataFrame(data={\"actual values\": y_val,\n",
    "                        \"predicted values\": y_preds})\n",
    "\n",
    "df[\"differences\"] = df[\"predicted values\"] - df[\"actual values\"]\n",
    "df.head(10)"
   ]
  },
  {
   "cell_type": "markdown",
   "id": "73fe36c3-0cad-404e-b23a-9c587c8c886e",
   "metadata": {},
   "source": [
    "### lets us cross validation to evaluate our scores"
   ]
  },
  {
   "cell_type": "code",
   "execution_count": 171,
   "id": "00141f24-b0b3-4b6f-9c86-c32b84c3ba02",
   "metadata": {},
   "outputs": [
    {
     "data": {
      "text/plain": [
       "array([0.92360925, 0.97879478, 0.99296204, 0.97322259, 0.99038766])"
      ]
     },
     "execution_count": 171,
     "metadata": {},
     "output_type": "execute_result"
    }
   ],
   "source": [
    "np.random.seed(42)\n",
    "cv_r2 = cross_val_score(clf, X, y, cv=5, scoring=None)\n",
    "cv_r2"
   ]
  },
  {
   "cell_type": "code",
   "execution_count": 172,
   "id": "ecf99ca1-379e-4ed6-bf7e-2c87a5d9c7db",
   "metadata": {},
   "outputs": [
    {
     "data": {
      "text/plain": [
       "0.9717952646623337"
      ]
     },
     "execution_count": 172,
     "metadata": {},
     "output_type": "execute_result"
    }
   ],
   "source": [
    "np.mean(cv_r2)"
   ]
  },
  {
   "cell_type": "code",
   "execution_count": 173,
   "id": "5dbe9b26-5a40-4911-b85d-c87e80671a12",
   "metadata": {},
   "outputs": [
    {
     "data": {
      "text/plain": [
       "array([-41.18765009, -23.88468268, -13.74735114, -20.69047782,\n",
       "       -11.8167451 ])"
      ]
     },
     "execution_count": 173,
     "metadata": {},
     "output_type": "execute_result"
    }
   ],
   "source": [
    "cv_mae = cross_val_score(clf, X, y, cv=5, scoring=\"neg_mean_absolute_error\")\n",
    "cv_mae"
   ]
  },
  {
   "cell_type": "code",
   "execution_count": 174,
   "id": "d9f94caf-c406-4c8b-b0a8-6c40c6416321",
   "metadata": {},
   "outputs": [
    {
     "data": {
      "text/plain": [
       "-22.26538136462132"
      ]
     },
     "execution_count": 174,
     "metadata": {},
     "output_type": "execute_result"
    }
   ],
   "source": [
    "np.mean(cv_mae)"
   ]
  },
  {
   "cell_type": "code",
   "execution_count": 175,
   "id": "7fc2d849-444b-4934-94c1-b429336c9c25",
   "metadata": {},
   "outputs": [
    {
     "data": {
      "text/plain": [
       "array([-0.43076434, -0.32512637, -0.16035403, -0.31433769, -0.23279518])"
      ]
     },
     "execution_count": 175,
     "metadata": {},
     "output_type": "execute_result"
    }
   ],
   "source": [
    "def rmsle(y_true, y_preds):\n",
    "    return np.sqrt(mean_squared_log_error(y_true, y_preds))\n",
    "\n",
    "rmsle_scorer = make_scorer(rmsle, greater_is_better=False)\n",
    "cv_rmsle = cross_val_score(clf, X, y, cv=5, scoring=rmsle_scorer)\n",
    "cv_rmsle"
   ]
  },
  {
   "cell_type": "code",
   "execution_count": 176,
   "id": "23e015e4-116c-44ed-8a8e-0d7ba20b13fb",
   "metadata": {},
   "outputs": [
    {
     "data": {
      "text/plain": [
       "-0.2926755232108603"
      ]
     },
     "execution_count": 176,
     "metadata": {},
     "output_type": "execute_result"
    }
   ],
   "source": [
    "np.mean(cv_rmsle)"
   ]
  },
  {
   "cell_type": "markdown",
   "id": "a2066fc6-9996-4cd2-af5a-29eb44b458c2",
   "metadata": {},
   "source": [
    "## lets evaluate our test set"
   ]
  },
  {
   "cell_type": "code",
   "execution_count": 177,
   "id": "afe49eee-c55b-40e4-8984-85fedaf481bd",
   "metadata": {},
   "outputs": [],
   "source": [
    "y_preds2 = clf.predict(X_test)"
   ]
  },
  {
   "cell_type": "code",
   "execution_count": 178,
   "id": "b9b22c8e-e9d2-4afc-aecc-86a869a8fa2f",
   "metadata": {},
   "outputs": [
    {
     "name": "stdout",
     "output_type": "stream",
     "text": [
      "mae: 43.36\n",
      "rmsle: 0.62\n",
      "r2_score: 91.26%\n"
     ]
    },
    {
     "data": {
      "text/plain": [
       "{'mae': 43.36, 'rmsle': 0.62, 'r2_score': 0.91}"
      ]
     },
     "execution_count": 178,
     "metadata": {},
     "output_type": "execute_result"
    }
   ],
   "source": [
    "evaluate_preds(y_test, y_preds2)"
   ]
  },
  {
   "cell_type": "markdown",
   "id": "5117f734-c704-4b61-ab24-1c4b4dd9cb34",
   "metadata": {},
   "source": [
    "## now lets build our pipeline to do everything at once"
   ]
  },
  {
   "cell_type": "code",
   "execution_count": 179,
   "id": "a953c9a5-f8fb-4a51-81b7-c70cba3c5eab",
   "metadata": {},
   "outputs": [
    {
     "name": "stdout",
     "output_type": "stream",
     "text": [
      "Model score: 0.9985234605616489\n"
     ]
    }
   ],
   "source": [
    "from sklearn.compose import ColumnTransformer\n",
    "from sklearn.pipeline import Pipeline\n",
    "from sklearn.preprocessing import OneHotEncoder\n",
    "from sklearn.impute import SimpleImputer\n",
    "from sklearn.impute import KNNImputer\n",
    "from sklearn.ensemble import RandomForestRegressor\n",
    "import pandas as pd\n",
    "from sklearn.model_selection import train_test_split\n",
    "import numpy as np\n",
    "\n",
    "np.random.seed(42)\n",
    "\n",
    "# Load the data\n",
    "data = pd.read_csv(r\"C:\\Users\\USER\\Desktop\\house_price\\house_sales.csv\", encoding='latin1')\n",
    "data.dropna(subset=[\"val\"], inplace=True)\n",
    "\n",
    "# Define categorical and numerical columns\n",
    "cat_columns = ['cat_code', 'cat_desc', 'dt_code', 'dt_desc', 'dt_unit', \n",
    "               'et_code', 'et_desc', 'et_unit', 'geo_code', 'geo_desc']\n",
    "specific_columns = ['cat_idx', 'cat_indent', 'dt_idx', 'et_idx', 'geo_idx', 'is_adj', 'serialid']\n",
    "num_columns = specific_columns \n",
    "\n",
    "# Define the transformers\n",
    "numerical_transformer = Pipeline(steps=[\n",
    "    ('imputer', KNNImputer(n_neighbors=5))\n",
    "])\n",
    "\n",
    "categorical_transformer = Pipeline(steps=[\n",
    "    ('imputer', SimpleImputer(strategy='most_frequent')),  \n",
    "    ('encoder', OneHotEncoder(handle_unknown='ignore'))\n",
    "])\n",
    "\n",
    "# Combine the transformers\n",
    "preprocessor = ColumnTransformer(\n",
    "    transformers=[\n",
    "        ('num', numerical_transformer, num_columns),\n",
    "        ('cat', categorical_transformer, cat_columns)\n",
    "    ]\n",
    ")\n",
    "\n",
    "# Define the model pipeline\n",
    "model = Pipeline(steps=[(\"preprocessor\", preprocessor),\n",
    "                        (\"model\", RandomForestRegressor())])\n",
    "\n",
    "# Prepare the data for training\n",
    "X = data.drop(\"val\", axis=1)\n",
    "y = data[\"val\"]\n",
    "X_train, X_test, y_train, y_test = train_test_split(X, y, test_size=0.2)\n",
    "\n",
    "# Fit the model\n",
    "model.fit(X_train, y_train)\n",
    "\n",
    "# Evaluate the model\n",
    "model_score = model.score(X_test, y_test)\n",
    "print(\"Model score:\", model_score)\n"
   ]
  },
  {
   "cell_type": "code",
   "execution_count": 181,
   "id": "9a0d5953-8fc6-4397-a5d0-1f25872f5353",
   "metadata": {},
   "outputs": [],
   "source": [
    "import pickle\n",
    "filename = 'house_prices'\n",
    "with open(filename, 'wb') as file:\n",
    "    pickle.dump(model, file)"
   ]
  },
  {
   "cell_type": "code",
   "execution_count": null,
   "id": "07fcfa5c-6d7e-4e84-bf56-eb734412034f",
   "metadata": {},
   "outputs": [],
   "source": []
  },
  {
   "cell_type": "code",
   "execution_count": null,
   "id": "3d952a87-0b2c-4ba5-8bec-193b524a6d61",
   "metadata": {},
   "outputs": [],
   "source": []
  },
  {
   "cell_type": "code",
   "execution_count": null,
   "id": "1cc138a6-4a54-41e3-b60f-210c48dfed75",
   "metadata": {},
   "outputs": [],
   "source": []
  },
  {
   "cell_type": "code",
   "execution_count": null,
   "id": "5d0421e4-5eba-4117-bb93-75333eff52f2",
   "metadata": {},
   "outputs": [],
   "source": []
  }
 ],
 "metadata": {
  "kernelspec": {
   "display_name": "Python 3 (ipykernel)",
   "language": "python",
   "name": "python3"
  },
  "language_info": {
   "codemirror_mode": {
    "name": "ipython",
    "version": 3
   },
   "file_extension": ".py",
   "mimetype": "text/x-python",
   "name": "python",
   "nbconvert_exporter": "python",
   "pygments_lexer": "ipython3",
   "version": "3.11.10"
  }
 },
 "nbformat": 4,
 "nbformat_minor": 5
}
