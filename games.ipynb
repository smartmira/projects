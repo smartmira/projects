{
 "cells": [
  {
   "cell_type": "code",
   "execution_count": 1,
   "id": "ff7932f8-f242-4b91-ae70-4bb126c3036a",
   "metadata": {},
   "outputs": [],
   "source": [
    "import random\n",
    "\n",
    "\n",
    "def game_options():\n",
    "    options = ['rock', 'paper', 'scissos']\n",
    "    return random.choice(options)\n",
    "\n",
    "\n",
    "def players_choice():\n",
    "    while True:\n",
    "        option = input(\"pick an option (rock, paper, or scissors): \").lower()\n",
    "        if option in ['rock', 'paper', 'scissors']:\n",
    "            return option\n",
    "        print('invalid choice. please choose \"rock\", \"paper\", or \"scissors\".')"
   ]
  },
  {
   "cell_type": "code",
   "execution_count": 2,
   "id": "e8e25751-1685-40b7-93a7-2a54125b2042",
   "metadata": {},
   "outputs": [],
   "source": [
    "def determine_winner(user_choice, computer_choice):\n",
    "    if user_choice == computer_choice:\n",
    "        return \"it's a tie!\"\n",
    "    elif (user_choice == 'rock' and computer_choice == 'scissors') or \\\n",
    "         (user_choice == 'scissors' and computer_choice == 'paper') or \\\n",
    "         (user_choice == 'paper' and computer_choice == 'rock'):\n",
    "        return \"You win!\"\n",
    "    else:\n",
    "        return \"computer wins!\""
   ]
  },
  {
   "cell_type": "code",
   "execution_count": null,
   "id": "575dc14d-1bc7-4804-a934-b7fd92a179cd",
   "metadata": {},
   "outputs": [
    {
     "name": "stdout",
     "output_type": "stream",
     "text": [
      "welcome to Rock, Paper, Scissors!\n"
     ]
    }
   ],
   "source": [
    "def lets_play():\n",
    "    print(\"welcome to Rock, Paper, Scissors!\")\n",
    "    user_choice = players_choice()\n",
    "    computer_choice = game_options()\n",
    "    print(f\"\\nYou chose: {user_choice}\")\n",
    "    print(f\"Computer chose: {computer_choice}\")\n",
    "    result = determine_winner(user_choice, computer_choice)\n",
    "    print(f\"\\n{result}\")\n",
    "\n",
    "\n",
    "if __name__ == \"__main__\":\n",
    "    lets_play()"
   ]
  },
  {
   "cell_type": "code",
   "execution_count": null,
   "id": "7421aec6-dca3-4ba9-841e-3dd41cc275a5",
   "metadata": {},
   "outputs": [],
   "source": [
    "import random\n",
    "\n",
    "\n",
    "def print_board(board):\n",
    "    for row in board:\n",
    "        print(\" | \".join(row))\n",
    "        print(\"-\" * 5)\n",
    "\n",
    "\n",
    "def check_winner(board, player):\n",
    "\n",
    "    for i in range(3):\n",
    "        if all(board[i][j] == player for j in range(3)):  \n",
    "            return True\n",
    "        if all(board[j][i] == player for j in range(3)):  \n",
    "            return True\n",
    "    \n",
    "    if all(board[i][i] == player for i in range(3)):\n",
    "        return True\n",
    "    if all(board[i][2 - i] == player for i in range(3)):\n",
    "        return True\n",
    "    return False\n",
    "\n",
    "\n",
    "def check_tie(board):\n",
    "    return all(cell != \" \" for row in board for cell in row)\n",
    "\n",
    "\n",
    "def main():\n",
    "    board = [[\" \" for _ in range(3)] for _ in range(3)]\n",
    "    players = [\"X\", \"O\"]\n",
    "    current_player = 0\n",
    "\n",
    "    while True:\n",
    "        print_board(board)\n",
    "        print(f\"Player {players[current_player]}'s turn\")\n",
    "        \n",
    "        if players[current_player] == \"O\":  \n",
    "            available_moves = [(i, j) for i in range(3) for j in range(3) if board[i][j] == \" \"]\n",
    "            move = random.choice(available_moves)\n",
    "        else:\n",
    "            while True:\n",
    "                try:\n",
    "                    move = tuple(map(int, input(\"Enter your move (row and column, 0-based): \").split()))\n",
    "                    if board[move[0]][move[1]] == \" \":\n",
    "                        break\n",
    "                    else:\n",
    "                        print(\"Cell is already occupied. Try again.\")\n",
    "                except (ValueError, IndexError):\n",
    "                    print(\"Invalid input. Enter row and column as numbers between 0 and 2.\")\n",
    "\n",
    "\n",
    "        board[move[0]][move[1]] = players[current_player]\n",
    "\n",
    "\n",
    "        if check_winner(board, players[current_player]):\n",
    "            print_board(board)\n",
    "            print(f\"Player {players[current_player]} wins!\")\n",
    "            break\n",
    "\n",
    "\n",
    "        if check_tie(board):\n",
    "            print_board(board)\n",
    "            print(\"The game is a tie!\")\n",
    "            break\n",
    "\n",
    "\n",
    "        current_player = 1 - current_player\n",
    "\n",
    "\n",
    "if __name__ == \"__main__\":\n",
    "    main()"
   ]
  },
  {
   "cell_type": "code",
   "execution_count": null,
   "id": "3c51fd07-9d44-40f7-b550-ed1bd0f474f7",
   "metadata": {},
   "outputs": [],
   "source": []
  }
 ],
 "metadata": {
  "kernelspec": {
   "display_name": "Python 3 (ipykernel)",
   "language": "python",
   "name": "python3"
  },
  "language_info": {
   "codemirror_mode": {
    "name": "ipython",
    "version": 3
   },
   "file_extension": ".py",
   "mimetype": "text/x-python",
   "name": "python",
   "nbconvert_exporter": "python",
   "pygments_lexer": "ipython3",
   "version": "3.12.4"
  }
 },
 "nbformat": 4,
 "nbformat_minor": 5
}
